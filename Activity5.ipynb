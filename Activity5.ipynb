{
 "cells": [
  {
   "cell_type": "code",
   "execution_count": 1,
   "id": "c85ca398-699c-4ee5-95ed-ed679c275235",
   "metadata": {},
   "outputs": [],
   "source": [
    "import numpy as np\n",
    "import seaborn as sns\n",
    "import pandas as pd\n",
    "import matplotlib.pyplot as plt \n",
    "from scipy.stats import f_oneway\n",
    "import warnings"
   ]
  },
  {
   "cell_type": "code",
   "execution_count": 2,
   "id": "d19e205e-b596-4784-bcc6-75bfeddd12a6",
   "metadata": {},
   "outputs": [],
   "source": [
    "internet = pd.read_csv('Internet-Demographic.csv')"
   ]
  },
  {
   "cell_type": "code",
   "execution_count": 3,
   "id": "123baaea-fa53-4306-a96a-e7d080d4e86b",
   "metadata": {},
   "outputs": [
    {
     "data": {
      "text/html": [
       "<div>\n",
       "<style scoped>\n",
       "    .dataframe tbody tr th:only-of-type {\n",
       "        vertical-align: middle;\n",
       "    }\n",
       "\n",
       "    .dataframe tbody tr th {\n",
       "        vertical-align: top;\n",
       "    }\n",
       "\n",
       "    .dataframe thead th {\n",
       "        text-align: right;\n",
       "    }\n",
       "</style>\n",
       "<table border=\"1\" class=\"dataframe\">\n",
       "  <thead>\n",
       "    <tr style=\"text-align: right;\">\n",
       "      <th></th>\n",
       "      <th>Country Name</th>\n",
       "      <th>Country Code</th>\n",
       "      <th>Birth rate</th>\n",
       "      <th>Internet users</th>\n",
       "      <th>Income Group</th>\n",
       "    </tr>\n",
       "  </thead>\n",
       "  <tbody>\n",
       "    <tr>\n",
       "      <th>0</th>\n",
       "      <td>Aruba</td>\n",
       "      <td>ABW</td>\n",
       "      <td>10.244</td>\n",
       "      <td>78.9</td>\n",
       "      <td>High income</td>\n",
       "    </tr>\n",
       "    <tr>\n",
       "      <th>1</th>\n",
       "      <td>Afghanistan</td>\n",
       "      <td>AFG</td>\n",
       "      <td>35.253</td>\n",
       "      <td>5.9</td>\n",
       "      <td>Low income</td>\n",
       "    </tr>\n",
       "    <tr>\n",
       "      <th>2</th>\n",
       "      <td>Angola</td>\n",
       "      <td>AGO</td>\n",
       "      <td>45.985</td>\n",
       "      <td>19.1</td>\n",
       "      <td>Upper middle income</td>\n",
       "    </tr>\n",
       "    <tr>\n",
       "      <th>3</th>\n",
       "      <td>Albania</td>\n",
       "      <td>ALB</td>\n",
       "      <td>12.877</td>\n",
       "      <td>57.2</td>\n",
       "      <td>Upper middle income</td>\n",
       "    </tr>\n",
       "    <tr>\n",
       "      <th>4</th>\n",
       "      <td>United Arab Emirates</td>\n",
       "      <td>ARE</td>\n",
       "      <td>11.044</td>\n",
       "      <td>88.0</td>\n",
       "      <td>High income</td>\n",
       "    </tr>\n",
       "    <tr>\n",
       "      <th>...</th>\n",
       "      <td>...</td>\n",
       "      <td>...</td>\n",
       "      <td>...</td>\n",
       "      <td>...</td>\n",
       "      <td>...</td>\n",
       "    </tr>\n",
       "    <tr>\n",
       "      <th>190</th>\n",
       "      <td>Yemen, Rep.</td>\n",
       "      <td>YEM</td>\n",
       "      <td>32.947</td>\n",
       "      <td>20.0</td>\n",
       "      <td>Lower middle income</td>\n",
       "    </tr>\n",
       "    <tr>\n",
       "      <th>191</th>\n",
       "      <td>South Africa</td>\n",
       "      <td>ZAF</td>\n",
       "      <td>20.850</td>\n",
       "      <td>46.5</td>\n",
       "      <td>Upper middle income</td>\n",
       "    </tr>\n",
       "    <tr>\n",
       "      <th>192</th>\n",
       "      <td>Congo, Dem. Rep.</td>\n",
       "      <td>COD</td>\n",
       "      <td>42.394</td>\n",
       "      <td>2.2</td>\n",
       "      <td>Low income</td>\n",
       "    </tr>\n",
       "    <tr>\n",
       "      <th>193</th>\n",
       "      <td>Zambia</td>\n",
       "      <td>ZMB</td>\n",
       "      <td>40.471</td>\n",
       "      <td>15.4</td>\n",
       "      <td>Lower middle income</td>\n",
       "    </tr>\n",
       "    <tr>\n",
       "      <th>194</th>\n",
       "      <td>Zimbabwe</td>\n",
       "      <td>ZWE</td>\n",
       "      <td>35.715</td>\n",
       "      <td>18.5</td>\n",
       "      <td>Low income</td>\n",
       "    </tr>\n",
       "  </tbody>\n",
       "</table>\n",
       "<p>195 rows × 5 columns</p>\n",
       "</div>"
      ],
      "text/plain": [
       "             Country Name Country Code  Birth rate  Internet users  \\\n",
       "0                   Aruba          ABW      10.244            78.9   \n",
       "1             Afghanistan          AFG      35.253             5.9   \n",
       "2                  Angola          AGO      45.985            19.1   \n",
       "3                 Albania          ALB      12.877            57.2   \n",
       "4    United Arab Emirates          ARE      11.044            88.0   \n",
       "..                    ...          ...         ...             ...   \n",
       "190           Yemen, Rep.          YEM      32.947            20.0   \n",
       "191          South Africa          ZAF      20.850            46.5   \n",
       "192      Congo, Dem. Rep.          COD      42.394             2.2   \n",
       "193                Zambia          ZMB      40.471            15.4   \n",
       "194              Zimbabwe          ZWE      35.715            18.5   \n",
       "\n",
       "            Income Group  \n",
       "0            High income  \n",
       "1             Low income  \n",
       "2    Upper middle income  \n",
       "3    Upper middle income  \n",
       "4            High income  \n",
       "..                   ...  \n",
       "190  Lower middle income  \n",
       "191  Upper middle income  \n",
       "192           Low income  \n",
       "193  Lower middle income  \n",
       "194           Low income  \n",
       "\n",
       "[195 rows x 5 columns]"
      ]
     },
     "execution_count": 3,
     "metadata": {},
     "output_type": "execute_result"
    }
   ],
   "source": [
    "internet"
   ]
  },
  {
   "cell_type": "code",
   "execution_count": 4,
   "id": "60263c1c-9bcf-4e54-8dcc-023b11980107",
   "metadata": {},
   "outputs": [
    {
     "data": {
      "text/plain": [
       "Country Name       object\n",
       "Country Code       object\n",
       "Birth rate        float64\n",
       "Internet users    float64\n",
       "Income Group       object\n",
       "dtype: object"
      ]
     },
     "execution_count": 4,
     "metadata": {},
     "output_type": "execute_result"
    }
   ],
   "source": [
    "internet.dtypes"
   ]
  },
  {
   "cell_type": "code",
   "execution_count": 5,
   "id": "59a4d462-8d37-4391-9801-fddf657de23d",
   "metadata": {},
   "outputs": [],
   "source": [
    "internet['Country Name'] = internet['Country Name'].astype('category')\n",
    "internet['Country Code'] = internet['Country Code'].astype('category')\n",
    "internet['Income Group'] = internet['Income Group'].astype('category')"
   ]
  },
  {
   "cell_type": "code",
   "execution_count": 6,
   "id": "b4a89a6f-ba1f-4f5f-baf4-71a25ba1abdd",
   "metadata": {},
   "outputs": [
    {
     "data": {
      "text/plain": [
       "Country Name      category\n",
       "Country Code      category\n",
       "Birth rate         float64\n",
       "Internet users     float64\n",
       "Income Group      category\n",
       "dtype: object"
      ]
     },
     "execution_count": 6,
     "metadata": {},
     "output_type": "execute_result"
    }
   ],
   "source": [
    "internet.dtypes"
   ]
  },
  {
   "cell_type": "code",
   "execution_count": 7,
   "id": "6cb9926b-1fc8-4ba7-857e-f0d33b40a60d",
   "metadata": {},
   "outputs": [],
   "source": [
    "internet.drop(columns = 'Country Code', inplace = True)"
   ]
  },
  {
   "cell_type": "markdown",
   "id": "79e456da-ceb5-49d6-84b1-f02c2c176901",
   "metadata": {},
   "source": [
    "<h1>Task 1: Histogram of Birth Rates</h1>"
   ]
  },
  {
   "cell_type": "code",
   "execution_count": 8,
   "id": "c373e63a-cd23-4e4f-8bf1-318298fd3382",
   "metadata": {},
   "outputs": [
    {
     "data": {
      "image/png": "[encoded data removed]",
      "text/plain": [
       "<Figure size 1000x600 with 1 Axes>"
      ]
     },
     "metadata": {},
     "output_type": "display_data"
    }
   ],
   "source": [
    "plt.figure(figsize=(10, 6))\n",
    "sns.histplot(internet['Birth rate'], color='pink')\n",
    "plt.title('Distribution of Birth Rates')\n",
    "plt.xlabel('Birth Rate')\n",
    "plt.ylabel('Frequency')\n",
    "plt.show()"
   ]
  },
  {
   "cell_type": "markdown",
   "id": "3c6ebd0a-2a08-424f-81eb-3aba20c988b6",
   "metadata": {},
   "source": [
    "<h1>Task2: Top 5 Countries with Highest Internet Usage </h1>"
   ]
  },
  {
   "cell_type": "code",
   "execution_count": 9,
   "id": "79019e5d-fc05-465e-b68f-0b1b3143c854",
   "metadata": {},
   "outputs": [
    {
     "name": "stderr",
     "output_type": "stream",
     "text": [
      "C:\\Users\\Light Micro Finance\\AppData\\Local\\Temp\\ipykernel_2812\\3136321600.py:1: FutureWarning: The default of observed=False is deprecated and will be changed to True in a future version of pandas. Pass observed=False to retain current behavior or observed=True to adopt the future default and silence this warning.\n",
      "  highest = internet.groupby('Country Name')['Internet users'].sum().reset_index()\n"
     ]
    },
    {
     "data": {
      "text/html": [
       "<div>\n",
       "<style scoped>\n",
       "    .dataframe tbody tr th:only-of-type {\n",
       "        vertical-align: middle;\n",
       "    }\n",
       "\n",
       "    .dataframe tbody tr th {\n",
       "        vertical-align: top;\n",
       "    }\n",
       "\n",
       "    .dataframe thead th {\n",
       "        text-align: right;\n",
       "    }\n",
       "</style>\n",
       "<table border=\"1\" class=\"dataframe\">\n",
       "  <thead>\n",
       "    <tr style=\"text-align: right;\">\n",
       "      <th></th>\n",
       "      <th>Country Name</th>\n",
       "      <th>Internet users</th>\n",
       "    </tr>\n",
       "  </thead>\n",
       "  <tbody>\n",
       "    <tr>\n",
       "      <th>79</th>\n",
       "      <td>Iceland</td>\n",
       "      <td>96.5468</td>\n",
       "    </tr>\n",
       "    <tr>\n",
       "      <th>19</th>\n",
       "      <td>Bermuda</td>\n",
       "      <td>95.3000</td>\n",
       "    </tr>\n",
       "    <tr>\n",
       "      <th>131</th>\n",
       "      <td>Norway</td>\n",
       "      <td>95.0534</td>\n",
       "    </tr>\n",
       "    <tr>\n",
       "      <th>167</th>\n",
       "      <td>Sweden</td>\n",
       "      <td>94.7836</td>\n",
       "    </tr>\n",
       "    <tr>\n",
       "      <th>48</th>\n",
       "      <td>Denmark</td>\n",
       "      <td>94.6297</td>\n",
       "    </tr>\n",
       "  </tbody>\n",
       "</table>\n",
       "</div>"
      ],
      "text/plain": [
       "    Country Name  Internet users\n",
       "79       Iceland         96.5468\n",
       "19       Bermuda         95.3000\n",
       "131       Norway         95.0534\n",
       "167       Sweden         94.7836\n",
       "48       Denmark         94.6297"
      ]
     },
     "execution_count": 9,
     "metadata": {},
     "output_type": "execute_result"
    }
   ],
   "source": [
    "highest = internet.groupby('Country Name')['Internet users'].sum().reset_index()\n",
    "Topfive = highest.sort_values(by='Internet users', ascending=False).head(5)\n",
    "Topfive"
   ]
  },
  {
   "cell_type": "markdown",
   "id": "89fb30f6-f22d-4123-afab-6dbfc57187ef",
   "metadata": {},
   "source": [
    "<h2>Insights for Task 2: The top 5 country with the highest internet usage are:</h2>\n",
    "<ul>\n",
    "    <li>1. Iceland</li>\n",
    "    <li>2. Bermuda</li>\n",
    "    <li>3. Norway </li>\n",
    "    <li>4. Sweden </li>\n",
    "    <li>5. Denmark</li>\n",
    "    \n",
    "</ul>"
   ]
  },
  {
   "cell_type": "markdown",
   "id": "714aecd6-e73a-4a5a-9e7d-7872970cfce9",
   "metadata": {},
   "source": [
    "<h1>Task 3: Count the Countries with Income Group </h1>"
   ]
  },
  {
   "cell_type": "code",
   "execution_count": 10,
   "id": "298cc3b0-b534-4228-87b4-924b097df2ff",
   "metadata": {},
   "outputs": [
    {
     "name": "stderr",
     "output_type": "stream",
     "text": [
      "C:\\Users\\Light Micro Finance\\AppData\\Local\\Temp\\ipykernel_2812\\4141951516.py:1: FutureWarning: The default of observed=False is deprecated and will be changed to True in a future version of pandas. Pass observed=False to retain current behavior or observed=True to adopt the future default and silence this warning.\n",
      "  incomeGroup = internet.groupby('Country Name')['Income Group'].value_counts()\n"
     ]
    },
    {
     "data": {
      "text/plain": [
       "Country Name  Income Group       \n",
       "Afghanistan   Low income             1\n",
       "              High income            0\n",
       "              Lower middle income    0\n",
       "              Upper middle income    0\n",
       "Albania       Upper middle income    1\n",
       "                                    ..\n",
       "Zambia        Upper middle income    0\n",
       "Zimbabwe      Low income             1\n",
       "              High income            0\n",
       "              Lower middle income    0\n",
       "              Upper middle income    0\n",
       "Name: count, Length: 780, dtype: int64"
      ]
     },
     "execution_count": 10,
     "metadata": {},
     "output_type": "execute_result"
    }
   ],
   "source": [
    "incomeGroup = internet.groupby('Country Name')['Income Group'].value_counts()\n",
    "incomeGroup"
   ]
  },
  {
   "cell_type": "markdown",
   "id": "dd88fb67-16d6-425e-9467-4ae3fc0403b2",
   "metadata": {},
   "source": [
    "<h1> Task 4: Box Plot of Internet Usage </h1>"
   ]
  },
  {
   "cell_type": "code",
   "execution_count": 13,
   "id": "d298ceb5-4a88-48be-8701-00e476da8324",
   "metadata": {},
   "outputs": [
    {
     "name": "stdout",
     "output_type": "stream",
     "text": [
      "<class 'pandas.core.frame.DataFrame'>\n",
      "RangeIndex: 195 entries, 0 to 194\n",
      "Data columns (total 4 columns):\n",
      " #   Column          Non-Null Count  Dtype   \n",
      "---  ------          --------------  -----   \n",
      " 0   Country Name    195 non-null    category\n",
      " 1   Birth rate      195 non-null    float64 \n",
      " 2   Internet users  195 non-null    float64 \n",
      " 3   Income Group    195 non-null    category\n",
      "dtypes: category(2), float64(2)\n",
      "memory usage: 9.5 KB\n"
     ]
    }
   ],
   "source": [
    "internet.info()"
   ]
  },
  {
   "cell_type": "code",
   "execution_count": 23,
   "id": "a7775b1a-afb3-459e-abc3-7089a1995204",
   "metadata": {},
   "outputs": [
    {
     "data": {
      "image/png": "[encoded data removed]",
      "text/plain": [
       "<Figure size 1000x600 with 1 Axes>"
      ]
     },
     "metadata": {},
     "output_type": "display_data"
    }
   ],
   "source": [
    "plt.figure(figsize=(10, 6))\n",
    "sns.boxplot(x=internet['Internet users'], color='pink')\n",
    "plt.title('Distribution of Internet Usage')\n",
    "plt.xlabel('Internet users')\n",
    "plt.show()"
   ]
  },
  {
   "cell_type": "markdown",
   "id": "6cc4ed22-fefe-4fcd-b97d-8e382a785707",
   "metadata": {},
   "source": [
    "<h1>Task 5: Countries with No Internet Access </h1>"
   ]
  },
  {
   "cell_type": "code",
   "execution_count": 17,
   "id": "b765d4c3-3dda-4d60-8fd5-a68460e0edfd",
   "metadata": {},
   "outputs": [
    {
     "data": {
      "text/html": [
       "<div>\n",
       "<style scoped>\n",
       "    .dataframe tbody tr th:only-of-type {\n",
       "        vertical-align: middle;\n",
       "    }\n",
       "\n",
       "    .dataframe tbody tr th {\n",
       "        vertical-align: top;\n",
       "    }\n",
       "\n",
       "    .dataframe thead th {\n",
       "        text-align: right;\n",
       "    }\n",
       "</style>\n",
       "<table border=\"1\" class=\"dataframe\">\n",
       "  <thead>\n",
       "    <tr style=\"text-align: right;\">\n",
       "      <th></th>\n",
       "      <th>Country Name</th>\n",
       "    </tr>\n",
       "  </thead>\n",
       "  <tbody>\n",
       "  </tbody>\n",
       "</table>\n",
       "</div>"
      ],
      "text/plain": [
       "Empty DataFrame\n",
       "Columns: [Country Name]\n",
       "Index: []"
      ]
     },
     "execution_count": 17,
     "metadata": {},
     "output_type": "execute_result"
    }
   ],
   "source": [
    "NoInternet = internet[internet['Internet users'] == 0][['Country Name']]\n",
    "NoInternet"
   ]
  },
  {
   "cell_type": "markdown",
   "id": "11cb180e-4679-462c-8409-5e15fb105708",
   "metadata": {},
   "source": [
    "<h2>Insight for Task 5: Countries with No Internet Access is none.</h2>"
   ]
  },
  {
   "cell_type": "markdown",
   "id": "edf5ab88-8fef-4c78-ac0f-23760dccb6e6",
   "metadata": {},
   "source": [
    "<h1>Task 6: Average Birth Rate </h1>"
   ]
  },
  {
   "cell_type": "code",
   "execution_count": 20,
   "id": "255a8433-98df-466e-bfcb-d7e83031bd04",
   "metadata": {},
   "outputs": [
    {
     "data": {
      "text/plain": [
       "np.float64(21.469928205128202)"
      ]
     },
     "execution_count": 20,
     "metadata": {},
     "output_type": "execute_result"
    }
   ],
   "source": [
    "average = internet['Birth rate'].mean()\n",
    "average"
   ]
  },
  {
   "cell_type": "markdown",
   "id": "d8aadaff-e9f8-46a4-b3d4-4007dd4673ab",
   "metadata": {},
   "source": [
    "<h2>Insights for task 6: The average Birth Rate is 21.47</h2>"
   ]
  },
  {
   "cell_type": "markdown",
   "id": "9a75e199-f442-4855-a547-49db45e6f761",
   "metadata": {},
   "source": [
    "<h1>Task 7: Scatter Plot: Birth Rate vs. Internet Usage </h1>"
   ]
  },
  {
   "cell_type": "code",
   "execution_count": 22,
   "id": "76c408ec-6aff-4dc4-b6a4-9d98a55d569c",
   "metadata": {},
   "outputs": [
    {
     "data": {
      "image/png": "[encoded data removed]",
      "text/plain": [
       "<Figure size 1000x600 with 1 Axes>"
      ]
     },
     "metadata": {},
     "output_type": "display_data"
    }
   ],
   "source": [
    "plt.figure(figsize=(10, 6))\n",
    "sns.scatterplot(x='Internet users', y='Birth rate', data=internet, alpha=0.7, color='pink')\n",
    "plt.title('Relationship Between Birth Rate and Internet Usage')\n",
    "plt.xlabel('Internet Users')\n",
    "plt.ylabel('Birth Rate')\n",
    "plt.show()"
   ]
  },
  {
   "cell_type": "markdown",
   "id": "30adb37a-3c84-479a-8ef3-3b40ac62c450",
   "metadata": {},
   "source": [
    "<h1>Task 8: Countries with Birth Rates Above 40 </h1>"
   ]
  },
  {
   "cell_type": "code",
   "execution_count": 25,
   "id": "5b363842-e16f-47db-a209-41edd6335110",
   "metadata": {},
   "outputs": [
    {
     "data": {
      "text/html": [
       "<div>\n",
       "<style scoped>\n",
       "    .dataframe tbody tr th:only-of-type {\n",
       "        vertical-align: middle;\n",
       "    }\n",
       "\n",
       "    .dataframe tbody tr th {\n",
       "        vertical-align: top;\n",
       "    }\n",
       "\n",
       "    .dataframe thead th {\n",
       "        text-align: right;\n",
       "    }\n",
       "</style>\n",
       "<table border=\"1\" class=\"dataframe\">\n",
       "  <thead>\n",
       "    <tr style=\"text-align: right;\">\n",
       "      <th></th>\n",
       "      <th>Country Name</th>\n",
       "      <th>Birth rate</th>\n",
       "      <th>Internet users</th>\n",
       "      <th>Income Group</th>\n",
       "    </tr>\n",
       "  </thead>\n",
       "  <tbody>\n",
       "    <tr>\n",
       "      <th>2</th>\n",
       "      <td>Angola</td>\n",
       "      <td>45.985</td>\n",
       "      <td>19.1</td>\n",
       "      <td>Upper middle income</td>\n",
       "    </tr>\n",
       "    <tr>\n",
       "      <th>11</th>\n",
       "      <td>Burundi</td>\n",
       "      <td>44.151</td>\n",
       "      <td>1.3</td>\n",
       "      <td>Low income</td>\n",
       "    </tr>\n",
       "    <tr>\n",
       "      <th>14</th>\n",
       "      <td>Burkina Faso</td>\n",
       "      <td>40.551</td>\n",
       "      <td>9.1</td>\n",
       "      <td>Low income</td>\n",
       "    </tr>\n",
       "    <tr>\n",
       "      <th>65</th>\n",
       "      <td>Gambia, The</td>\n",
       "      <td>42.525</td>\n",
       "      <td>14.0</td>\n",
       "      <td>Low income</td>\n",
       "    </tr>\n",
       "    <tr>\n",
       "      <th>115</th>\n",
       "      <td>Mali</td>\n",
       "      <td>44.138</td>\n",
       "      <td>3.5</td>\n",
       "      <td>Low income</td>\n",
       "    </tr>\n",
       "    <tr>\n",
       "      <th>127</th>\n",
       "      <td>Niger</td>\n",
       "      <td>49.661</td>\n",
       "      <td>1.7</td>\n",
       "      <td>Low income</td>\n",
       "    </tr>\n",
       "    <tr>\n",
       "      <th>128</th>\n",
       "      <td>Nigeria</td>\n",
       "      <td>40.045</td>\n",
       "      <td>38.0</td>\n",
       "      <td>Lower middle income</td>\n",
       "    </tr>\n",
       "    <tr>\n",
       "      <th>156</th>\n",
       "      <td>Somalia</td>\n",
       "      <td>43.891</td>\n",
       "      <td>1.5</td>\n",
       "      <td>Low income</td>\n",
       "    </tr>\n",
       "    <tr>\n",
       "      <th>167</th>\n",
       "      <td>Chad</td>\n",
       "      <td>45.745</td>\n",
       "      <td>2.3</td>\n",
       "      <td>Low income</td>\n",
       "    </tr>\n",
       "    <tr>\n",
       "      <th>178</th>\n",
       "      <td>Uganda</td>\n",
       "      <td>43.474</td>\n",
       "      <td>16.2</td>\n",
       "      <td>Low income</td>\n",
       "    </tr>\n",
       "    <tr>\n",
       "      <th>192</th>\n",
       "      <td>Congo, Dem. Rep.</td>\n",
       "      <td>42.394</td>\n",
       "      <td>2.2</td>\n",
       "      <td>Low income</td>\n",
       "    </tr>\n",
       "    <tr>\n",
       "      <th>193</th>\n",
       "      <td>Zambia</td>\n",
       "      <td>40.471</td>\n",
       "      <td>15.4</td>\n",
       "      <td>Lower middle income</td>\n",
       "    </tr>\n",
       "  </tbody>\n",
       "</table>\n",
       "</div>"
      ],
      "text/plain": [
       "         Country Name  Birth rate  Internet users         Income Group\n",
       "2              Angola      45.985            19.1  Upper middle income\n",
       "11            Burundi      44.151             1.3           Low income\n",
       "14       Burkina Faso      40.551             9.1           Low income\n",
       "65        Gambia, The      42.525            14.0           Low income\n",
       "115              Mali      44.138             3.5           Low income\n",
       "127             Niger      49.661             1.7           Low income\n",
       "128           Nigeria      40.045            38.0  Lower middle income\n",
       "156           Somalia      43.891             1.5           Low income\n",
       "167              Chad      45.745             2.3           Low income\n",
       "178            Uganda      43.474            16.2           Low income\n",
       "192  Congo, Dem. Rep.      42.394             2.2           Low income\n",
       "193            Zambia      40.471            15.4  Lower middle income"
      ]
     },
     "execution_count": 25,
     "metadata": {},
     "output_type": "execute_result"
    }
   ],
   "source": [
    "highRates = internet[internet['Birth rate'] > 40]\n",
    "highRates"
   ]
  },
  {
   "cell_type": "markdown",
   "id": "ee2ac4b5-02ed-47fb-bfb5-fbbb1fc03d3c",
   "metadata": {},
   "source": [
    "<h1>Task 9:Pie Chart of Income Groups </h1>"
   ]
  },
  {
   "cell_type": "code",
   "execution_count": 41,
   "id": "aeb7fe7e-5429-4ec3-a2b4-2b96ba3bf525",
   "metadata": {},
   "outputs": [
    {
     "data": {
      "image/png": "[encoded data removed]",
      "text/plain": [
       "<Figure size 1000x600 with 1 Axes>"
      ]
     },
     "metadata": {},
     "output_type": "display_data"
    }
   ],
   "source": [
    "incomeGroup = internet['Income Group'].value_counts()\n",
    "plt.figure(figsize=(10, 6))\n",
    "plt.pie(incomeGroup, labels=incomeGroup.index, autopct='%1.1f%%', startangle=90, colors=sns.color_palette('pastel'))\n",
    "plt.title('Proportion of Countries by Income Group')\n",
    "plt.axis('equal') \n",
    "plt.show()"
   ]
  },
  {
   "cell_type": "markdown",
   "id": "bfae05c9-0990-48af-bb2c-6689fcf22b50",
   "metadata": {},
   "source": [
    "<h1>Task 10: Correlation Between Birth Rate and Internet Usage </h1>"
   ]
  },
  {
   "cell_type": "code",
   "execution_count": 39,
   "id": "65c38f7f-cb31-46dc-b98b-a0b1604bdea2",
   "metadata": {},
   "outputs": [
    {
     "data": {
      "text/plain": [
       "np.float64(-0.8155885551284765)"
      ]
     },
     "execution_count": 39,
     "metadata": {},
     "output_type": "execute_result"
    }
   ],
   "source": [
    "internetcorr = internet['Birth rate'].corr(internet['Internet users'])\n",
    "internetcorr"
   ]
  },
  {
   "cell_type": "markdown",
   "id": "3571a3fd-3ccd-4b89-9d76-e388f3cf6e02",
   "metadata": {},
   "source": [
    "<h2>Insights for task 10: There is no correlation between Birth Rate and Internet usage</h2>"
   ]
  }
 ],
 "metadata": {
  "kernelspec": {
   "display_name": "Python 3 (ipykernel)",
   "language": "python",
   "name": "python3"
  },
  "language_info": {
   "codemirror_mode": {
    "name": "ipython",
    "version": 3
   },
   "file_extension": ".py",
   "mimetype": "text/x-python",
   "name": "python",
   "nbconvert_exporter": "python",
   "pygments_lexer": "ipython3",
   "version": "3.12.6"
  }
 },
 "nbformat": 4,
 "nbformat_minor": 5
}

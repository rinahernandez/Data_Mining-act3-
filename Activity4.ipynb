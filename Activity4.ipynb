{
 "cells": [
  {
   "cell_type": "markdown",
   "id": "4d7d15eb-dc12-4327-af6a-53537e51cf11",
   "metadata": {},
   "source": [
    "<h1>PROJECT: United Kingdom Road Accident Data Analysis </h1>\n",
    "<h2> Inclusive Year: 2019 - 2022 </h2>\n",
    "<h3>Analyst: Hernandez, Rina Rose</h3>"
   ]
  },
  {
   "cell_type": "code",
   "execution_count": 1,
   "id": "5a1e5d86-dbac-48ab-b490-ea513ef29169",
   "metadata": {},
   "outputs": [
    {
     "name": "stdout",
     "output_type": "stream",
     "text": [
      "Defaulting to user installation because normal site-packages is not writeable\n",
      "Requirement already satisfied: numpy in c:\\users\\lab5-studentpc12\\appdata\\local\\packages\\pythonsoftwarefoundation.python.3.13_qbz5n2kfra8p0\\localcache\\local-packages\\python313\\site-packages (2.2.2)\n",
      "Note: you may need to restart the kernel to use updated packages.\n"
     ]
    }
   ],
   "source": [
    "pip install numpy"
   ]
  },
  {
   "cell_type": "code",
   "execution_count": 2,
   "id": "6e3eeaa0-1fbb-4e3e-9660-6afd8130f5d5",
   "metadata": {},
   "outputs": [
    {
     "name": "stdout",
     "output_type": "stream",
     "text": [
      "Defaulting to user installation because normal site-packages is not writeableNote: you may need to restart the kernel to use updated packages.\n",
      "\n",
      "Requirement already satisfied: matplotlib in c:\\users\\lab5-studentpc12\\appdata\\local\\packages\\pythonsoftwarefoundation.python.3.13_qbz5n2kfra8p0\\localcache\\local-packages\\python313\\site-packages (3.10.0)\n",
      "Requirement already satisfied: contourpy>=1.0.1 in c:\\users\\lab5-studentpc12\\appdata\\local\\packages\\pythonsoftwarefoundation.python.3.13_qbz5n2kfra8p0\\localcache\\local-packages\\python313\\site-packages (from matplotlib) (1.3.1)\n",
      "Requirement already satisfied: cycler>=0.10 in c:\\users\\lab5-studentpc12\\appdata\\local\\packages\\pythonsoftwarefoundation.python.3.13_qbz5n2kfra8p0\\localcache\\local-packages\\python313\\site-packages (from matplotlib) (0.12.1)\n",
      "Requirement already satisfied: fonttools>=4.22.0 in c:\\users\\lab5-studentpc12\\appdata\\local\\packages\\pythonsoftwarefoundation.python.3.13_qbz5n2kfra8p0\\localcache\\local-packages\\python313\\site-packages (from matplotlib) (4.55.3)\n",
      "Requirement already satisfied: kiwisolver>=1.3.1 in c:\\users\\lab5-studentpc12\\appdata\\local\\packages\\pythonsoftwarefoundation.python.3.13_qbz5n2kfra8p0\\localcache\\local-packages\\python313\\site-packages (from matplotlib) (1.4.8)\n",
      "Requirement already satisfied: numpy>=1.23 in c:\\users\\lab5-studentpc12\\appdata\\local\\packages\\pythonsoftwarefoundation.python.3.13_qbz5n2kfra8p0\\localcache\\local-packages\\python313\\site-packages (from matplotlib) (2.2.2)\n",
      "Requirement already satisfied: packaging>=20.0 in c:\\users\\lab5-studentpc12\\appdata\\local\\packages\\pythonsoftwarefoundation.python.3.13_qbz5n2kfra8p0\\localcache\\local-packages\\python313\\site-packages (from matplotlib) (24.2)\n",
      "Requirement already satisfied: pillow>=8 in c:\\users\\lab5-studentpc12\\appdata\\local\\packages\\pythonsoftwarefoundation.python.3.13_qbz5n2kfra8p0\\localcache\\local-packages\\python313\\site-packages (from matplotlib) (11.1.0)\n",
      "Requirement already satisfied: pyparsing>=2.3.1 in c:\\users\\lab5-studentpc12\\appdata\\local\\packages\\pythonsoftwarefoundation.python.3.13_qbz5n2kfra8p0\\localcache\\local-packages\\python313\\site-packages (from matplotlib) (3.2.1)\n",
      "Requirement already satisfied: python-dateutil>=2.7 in c:\\users\\lab5-studentpc12\\appdata\\local\\packages\\pythonsoftwarefoundation.python.3.13_qbz5n2kfra8p0\\localcache\\local-packages\\python313\\site-packages (from matplotlib) (2.9.0.post0)\n",
      "Requirement already satisfied: six>=1.5 in c:\\users\\lab5-studentpc12\\appdata\\local\\packages\\pythonsoftwarefoundation.python.3.13_qbz5n2kfra8p0\\localcache\\local-packages\\python313\\site-packages (from python-dateutil>=2.7->matplotlib) (1.17.0)\n"
     ]
    }
   ],
   "source": [
    "pip install matplotlib"
   ]
  },
  {
   "cell_type": "code",
   "execution_count": 3,
   "id": "0ff7ed49-9105-42a7-93cd-f7b04f697bdf",
   "metadata": {},
   "outputs": [
    {
     "name": "stdout",
     "output_type": "stream",
     "text": [
      "Defaulting to user installation because normal site-packages is not writeable\n",
      "Requirement already satisfied: seaborn in c:\\users\\lab5-studentpc12\\appdata\\local\\packages\\pythonsoftwarefoundation.python.3.13_qbz5n2kfra8p0\\localcache\\local-packages\\python313\\site-packages (0.13.2)\n",
      "Requirement already satisfied: numpy!=1.24.0,>=1.20 in c:\\users\\lab5-studentpc12\\appdata\\local\\packages\\pythonsoftwarefoundation.python.3.13_qbz5n2kfra8p0\\localcache\\local-packages\\python313\\site-packages (from seaborn) (2.2.2)\n",
      "Requirement already satisfied: pandas>=1.2 in c:\\users\\lab5-studentpc12\\appdata\\local\\packages\\pythonsoftwarefoundation.python.3.13_qbz5n2kfra8p0\\localcache\\local-packages\\python313\\site-packages (from seaborn) (2.2.3)\n",
      "Requirement already satisfied: matplotlib!=3.6.1,>=3.4 in c:\\users\\lab5-studentpc12\\appdata\\local\\packages\\pythonsoftwarefoundation.python.3.13_qbz5n2kfra8p0\\localcache\\local-packages\\python313\\site-packages (from seaborn) (3.10.0)\n",
      "Requirement already satisfied: contourpy>=1.0.1 in c:\\users\\lab5-studentpc12\\appdata\\local\\packages\\pythonsoftwarefoundation.python.3.13_qbz5n2kfra8p0\\localcache\\local-packages\\python313\\site-packages (from matplotlib!=3.6.1,>=3.4->seaborn) (1.3.1)\n",
      "Requirement already satisfied: cycler>=0.10 in c:\\users\\lab5-studentpc12\\appdata\\local\\packages\\pythonsoftwarefoundation.python.3.13_qbz5n2kfra8p0\\localcache\\local-packages\\python313\\site-packages (from matplotlib!=3.6.1,>=3.4->seaborn) (0.12.1)\n",
      "Requirement already satisfied: fonttools>=4.22.0 in c:\\users\\lab5-studentpc12\\appdata\\local\\packages\\pythonsoftwarefoundation.python.3.13_qbz5n2kfra8p0\\localcache\\local-packages\\python313\\site-packages (from matplotlib!=3.6.1,>=3.4->seaborn) (4.55.3)\n",
      "Requirement already satisfied: kiwisolver>=1.3.1 in c:\\users\\lab5-studentpc12\\appdata\\local\\packages\\pythonsoftwarefoundation.python.3.13_qbz5n2kfra8p0\\localcache\\local-packages\\python313\\site-packages (from matplotlib!=3.6.1,>=3.4->seaborn) (1.4.8)\n",
      "Requirement already satisfied: packaging>=20.0 in c:\\users\\lab5-studentpc12\\appdata\\local\\packages\\pythonsoftwarefoundation.python.3.13_qbz5n2kfra8p0\\localcache\\local-packages\\python313\\site-packages (from matplotlib!=3.6.1,>=3.4->seaborn) (24.2)\n",
      "Requirement already satisfied: pillow>=8 in c:\\users\\lab5-studentpc12\\appdata\\local\\packages\\pythonsoftwarefoundation.python.3.13_qbz5n2kfra8p0\\localcache\\local-packages\\python313\\site-packages (from matplotlib!=3.6.1,>=3.4->seaborn) (11.1.0)\n",
      "Requirement already satisfied: pyparsing>=2.3.1 in c:\\users\\lab5-studentpc12\\appdata\\local\\packages\\pythonsoftwarefoundation.python.3.13_qbz5n2kfra8p0\\localcache\\local-packages\\python313\\site-packages (from matplotlib!=3.6.1,>=3.4->seaborn) (3.2.1)\n",
      "Requirement already satisfied: python-dateutil>=2.7 in c:\\users\\lab5-studentpc12\\appdata\\local\\packages\\pythonsoftwarefoundation.python.3.13_qbz5n2kfra8p0\\localcache\\local-packages\\python313\\site-packages (from matplotlib!=3.6.1,>=3.4->seaborn) (2.9.0.post0)\n",
      "Requirement already satisfied: pytz>=2020.1 in c:\\users\\lab5-studentpc12\\appdata\\local\\packages\\pythonsoftwarefoundation.python.3.13_qbz5n2kfra8p0\\localcache\\local-packages\\python313\\site-packages (from pandas>=1.2->seaborn) (2024.2)\n",
      "Requirement already satisfied: tzdata>=2022.7 in c:\\users\\lab5-studentpc12\\appdata\\local\\packages\\pythonsoftwarefoundation.python.3.13_qbz5n2kfra8p0\\localcache\\local-packages\\python313\\site-packages (from pandas>=1.2->seaborn) (2024.2)\n",
      "Requirement already satisfied: six>=1.5 in c:\\users\\lab5-studentpc12\\appdata\\local\\packages\\pythonsoftwarefoundation.python.3.13_qbz5n2kfra8p0\\localcache\\local-packages\\python313\\site-packages (from python-dateutil>=2.7->matplotlib!=3.6.1,>=3.4->seaborn) (1.17.0)\n",
      "Note: you may need to restart the kernel to use updated packages.\n"
     ]
    }
   ],
   "source": [
    "pip install seaborn"
   ]
  },
  {
   "cell_type": "code",
   "execution_count": 4,
   "id": "5f5aec33-328c-4733-9bc3-24a1443df056",
   "metadata": {},
   "outputs": [
    {
     "name": "stdout",
     "output_type": "stream",
     "text": [
      "Defaulting to user installation because normal site-packages is not writeable\n",
      "Requirement already satisfied: pandas in c:\\users\\lab5-studentpc12\\appdata\\local\\packages\\pythonsoftwarefoundation.python.3.13_qbz5n2kfra8p0\\localcache\\local-packages\\python313\\site-packages (2.2.3)\n",
      "Requirement already satisfied: numpy>=1.26.0 in c:\\users\\lab5-studentpc12\\appdata\\local\\packages\\pythonsoftwarefoundation.python.3.13_qbz5n2kfra8p0\\localcache\\local-packages\\python313\\site-packages (from pandas) (2.2.2)\n",
      "Requirement already satisfied: python-dateutil>=2.8.2 in c:\\users\\lab5-studentpc12\\appdata\\local\\packages\\pythonsoftwarefoundation.python.3.13_qbz5n2kfra8p0\\localcache\\local-packages\\python313\\site-packages (from pandas) (2.9.0.post0)\n",
      "Requirement already satisfied: pytz>=2020.1 in c:\\users\\lab5-studentpc12\\appdata\\local\\packages\\pythonsoftwarefoundation.python.3.13_qbz5n2kfra8p0\\localcache\\local-packages\\python313\\site-packages (from pandas) (2024.2)\n",
      "Requirement already satisfied: tzdata>=2022.7 in c:\\users\\lab5-studentpc12\\appdata\\local\\packages\\pythonsoftwarefoundation.python.3.13_qbz5n2kfra8p0\\localcache\\local-packages\\python313\\site-packages (from pandas) (2024.2)\n",
      "Requirement already satisfied: six>=1.5 in c:\\users\\lab5-studentpc12\\appdata\\local\\packages\\pythonsoftwarefoundation.python.3.13_qbz5n2kfra8p0\\localcache\\local-packages\\python313\\site-packages (from python-dateutil>=2.8.2->pandas) (1.17.0)\n",
      "Note: you may need to restart the kernel to use updated packages.\n"
     ]
    }
   ],
   "source": [
    "pip install pandas"
   ]
  },
  {
   "cell_type": "code",
   "execution_count": 5,
   "id": "4a95d836-dd32-4fba-a676-d627148dff96",
   "metadata": {},
   "outputs": [],
   "source": [
    "import numpy as np\n",
    "import pandas as pd\n",
    "import seaborn as sns\n",
    "import matplotlib.pyplot as plt\n",
    "import warnings\n",
    "from scipy.stats import f_oneway"
   ]
  },
  {
   "cell_type": "markdown",
   "id": "9ef779ab-debf-4d02-b547-9811c8f86c51",
   "metadata": {},
   "source": [
    "<h1> Data Analytics Project </h1>\n",
    "<h2> United Kingdom Road accident data analysis </h2>\n",
    "<ul>\n",
    "    <li>Inlusive years: 2019-2022</li>\n",
    "</ul>"
   ]
  },
  {
   "cell_type": "code",
   "execution_count": 6,
   "id": "dea54e96-a532-4289-8534-e2d53733d375",
   "metadata": {},
   "outputs": [],
   "source": [
    "accident = pd.read_csv('dataset\\\\accident_data.csv')"
   ]
  },
  {
   "cell_type": "code",
   "execution_count": 7,
   "id": "d8ca2a0c-267c-4c98-a43d-fc307d35c031",
   "metadata": {},
   "outputs": [
    {
     "name": "stdout",
     "output_type": "stream",
     "text": [
      "<class 'pandas.core.frame.DataFrame'>\n",
      "RangeIndex: 660679 entries, 0 to 660678\n",
      "Data columns (total 14 columns):\n",
      " #   Column                   Non-Null Count   Dtype  \n",
      "---  ------                   --------------   -----  \n",
      " 0   Index                    660679 non-null  object \n",
      " 1   Accident_Severity        660679 non-null  object \n",
      " 2   Accident Date            660679 non-null  object \n",
      " 3   Latitude                 660654 non-null  float64\n",
      " 4   Light_Conditions         660679 non-null  object \n",
      " 5   District Area            660679 non-null  object \n",
      " 6   Longitude                660653 non-null  float64\n",
      " 7   Number_of_Casualties     660679 non-null  int64  \n",
      " 8   Number_of_Vehicles       660679 non-null  int64  \n",
      " 9   Road_Surface_Conditions  659953 non-null  object \n",
      " 10  Road_Type                656159 non-null  object \n",
      " 11  Urban_or_Rural_Area      660664 non-null  object \n",
      " 12  Weather_Conditions       646551 non-null  object \n",
      " 13  Vehicle_Type             660679 non-null  object \n",
      "dtypes: float64(2), int64(2), object(10)\n",
      "memory usage: 70.6+ MB\n"
     ]
    }
   ],
   "source": [
    "accident.info()"
   ]
  },
  {
   "cell_type": "code",
   "execution_count": 8,
   "id": "ea2a001e-5490-46f4-97ce-9fce205f3703",
   "metadata": {},
   "outputs": [
    {
     "data": {
      "text/html": [
       "<div>\n",
       "<style scoped>\n",
       "    .dataframe tbody tr th:only-of-type {\n",
       "        vertical-align: middle;\n",
       "    }\n",
       "\n",
       "    .dataframe tbody tr th {\n",
       "        vertical-align: top;\n",
       "    }\n",
       "\n",
       "    .dataframe thead th {\n",
       "        text-align: right;\n",
       "    }\n",
       "</style>\n",
       "<table border=\"1\" class=\"dataframe\">\n",
       "  <thead>\n",
       "    <tr style=\"text-align: right;\">\n",
       "      <th></th>\n",
       "      <th>Latitude</th>\n",
       "      <th>Longitude</th>\n",
       "      <th>Number_of_Casualties</th>\n",
       "      <th>Number_of_Vehicles</th>\n",
       "    </tr>\n",
       "  </thead>\n",
       "  <tbody>\n",
       "    <tr>\n",
       "      <th>count</th>\n",
       "      <td>660654.000000</td>\n",
       "      <td>660653.000000</td>\n",
       "      <td>660679.000000</td>\n",
       "      <td>660679.000000</td>\n",
       "    </tr>\n",
       "    <tr>\n",
       "      <th>mean</th>\n",
       "      <td>52.553866</td>\n",
       "      <td>-1.431210</td>\n",
       "      <td>1.357040</td>\n",
       "      <td>1.831255</td>\n",
       "    </tr>\n",
       "    <tr>\n",
       "      <th>std</th>\n",
       "      <td>1.406922</td>\n",
       "      <td>1.383330</td>\n",
       "      <td>0.824847</td>\n",
       "      <td>0.715269</td>\n",
       "    </tr>\n",
       "    <tr>\n",
       "      <th>min</th>\n",
       "      <td>49.914430</td>\n",
       "      <td>-7.516225</td>\n",
       "      <td>1.000000</td>\n",
       "      <td>1.000000</td>\n",
       "    </tr>\n",
       "    <tr>\n",
       "      <th>25%</th>\n",
       "      <td>51.490690</td>\n",
       "      <td>-2.332291</td>\n",
       "      <td>1.000000</td>\n",
       "      <td>1.000000</td>\n",
       "    </tr>\n",
       "    <tr>\n",
       "      <th>50%</th>\n",
       "      <td>52.315641</td>\n",
       "      <td>-1.411667</td>\n",
       "      <td>1.000000</td>\n",
       "      <td>2.000000</td>\n",
       "    </tr>\n",
       "    <tr>\n",
       "      <th>75%</th>\n",
       "      <td>53.453452</td>\n",
       "      <td>-0.232869</td>\n",
       "      <td>1.000000</td>\n",
       "      <td>2.000000</td>\n",
       "    </tr>\n",
       "    <tr>\n",
       "      <th>max</th>\n",
       "      <td>60.757544</td>\n",
       "      <td>1.762010</td>\n",
       "      <td>68.000000</td>\n",
       "      <td>32.000000</td>\n",
       "    </tr>\n",
       "  </tbody>\n",
       "</table>\n",
       "</div>"
      ],
      "text/plain": [
       "            Latitude      Longitude  Number_of_Casualties  Number_of_Vehicles\n",
       "count  660654.000000  660653.000000         660679.000000       660679.000000\n",
       "mean       52.553866      -1.431210              1.357040            1.831255\n",
       "std         1.406922       1.383330              0.824847            0.715269\n",
       "min        49.914430      -7.516225              1.000000            1.000000\n",
       "25%        51.490690      -2.332291              1.000000            1.000000\n",
       "50%        52.315641      -1.411667              1.000000            2.000000\n",
       "75%        53.453452      -0.232869              1.000000            2.000000\n",
       "max        60.757544       1.762010             68.000000           32.000000"
      ]
     },
     "execution_count": 8,
     "metadata": {},
     "output_type": "execute_result"
    }
   ],
   "source": [
    "accident.describe()"
   ]
  },
  {
   "cell_type": "code",
   "execution_count": 9,
   "id": "f849e2ff-7657-4d2d-ab20-7da553c843f4",
   "metadata": {},
   "outputs": [],
   "source": [
    "accident['Accident_Severity'] = accident['Accident_Severity'].astype('category')"
   ]
  },
  {
   "cell_type": "code",
   "execution_count": 10,
   "id": "ae6ec5f9-2949-4f4d-b8a7-bce501f86b08",
   "metadata": {},
   "outputs": [
    {
     "data": {
      "text/plain": [
       "Accident_Severity\n",
       "Slight     563801\n",
       "Serious     88217\n",
       "Fatal        8661\n",
       "Name: count, dtype: int64"
      ]
     },
     "execution_count": 10,
     "metadata": {},
     "output_type": "execute_result"
    }
   ],
   "source": [
    "accident['Accident_Severity'].value_counts()"
   ]
  },
  {
   "cell_type": "code",
   "execution_count": 11,
   "id": "b43bf137-0c9f-4416-a0e5-149f0589ce05",
   "metadata": {},
   "outputs": [
    {
     "data": {
      "text/plain": [
       "Index                        object\n",
       "Accident_Severity          category\n",
       "Accident Date                object\n",
       "Latitude                    float64\n",
       "Light_Conditions             object\n",
       "District Area                object\n",
       "Longitude                   float64\n",
       "Number_of_Casualties          int64\n",
       "Number_of_Vehicles            int64\n",
       "Road_Surface_Conditions      object\n",
       "Road_Type                    object\n",
       "Urban_or_Rural_Area          object\n",
       "Weather_Conditions           object\n",
       "Vehicle_Type                 object\n",
       "dtype: object"
      ]
     },
     "execution_count": 11,
     "metadata": {},
     "output_type": "execute_result"
    }
   ],
   "source": [
    "accident.dtypes"
   ]
  },
  {
   "cell_type": "code",
   "execution_count": 12,
   "id": "e7fc4921-c742-4c03-9a01-15c35bef287f",
   "metadata": {},
   "outputs": [
    {
     "data": {
      "text/plain": [
       "Index                          0\n",
       "Accident_Severity              0\n",
       "Accident Date                  0\n",
       "Latitude                      25\n",
       "Light_Conditions               0\n",
       "District Area                  0\n",
       "Longitude                     26\n",
       "Number_of_Casualties           0\n",
       "Number_of_Vehicles             0\n",
       "Road_Surface_Conditions      726\n",
       "Road_Type                   4520\n",
       "Urban_or_Rural_Area           15\n",
       "Weather_Conditions         14128\n",
       "Vehicle_Type                   0\n",
       "dtype: int64"
      ]
     },
     "execution_count": 12,
     "metadata": {},
     "output_type": "execute_result"
    }
   ],
   "source": [
    "accident.isnull().sum()"
   ]
  },
  {
   "cell_type": "code",
   "execution_count": 13,
   "id": "74fadb72-b99d-4d80-9b68-e4c9e3dd8e0c",
   "metadata": {},
   "outputs": [],
   "source": [
    "accident['Latitude'] = accident['Latitude'].fillna(accident['Latitude'].mean())"
   ]
  },
  {
   "cell_type": "code",
   "execution_count": 14,
   "id": "e30c54d2-b8a4-4bbd-b52e-64ecb601862b",
   "metadata": {},
   "outputs": [
    {
     "data": {
      "text/plain": [
       "Index                          0\n",
       "Accident_Severity              0\n",
       "Accident Date                  0\n",
       "Latitude                       0\n",
       "Light_Conditions               0\n",
       "District Area                  0\n",
       "Longitude                     26\n",
       "Number_of_Casualties           0\n",
       "Number_of_Vehicles             0\n",
       "Road_Surface_Conditions      726\n",
       "Road_Type                   4520\n",
       "Urban_or_Rural_Area           15\n",
       "Weather_Conditions         14128\n",
       "Vehicle_Type                   0\n",
       "dtype: int64"
      ]
     },
     "execution_count": 14,
     "metadata": {},
     "output_type": "execute_result"
    }
   ],
   "source": [
    "accident.isnull().sum()"
   ]
  },
  {
   "cell_type": "code",
   "execution_count": 15,
   "id": "4e19f68c-e0d7-4fd8-b613-8af2a919c5e5",
   "metadata": {},
   "outputs": [],
   "source": [
    "accident['Longitude'] = accident['Longitude'].fillna(accident['Longitude'].mean())"
   ]
  },
  {
   "cell_type": "code",
   "execution_count": 16,
   "id": "fc437831-48bb-4dff-8730-4e57bd396c63",
   "metadata": {},
   "outputs": [
    {
     "data": {
      "text/plain": [
       "Index                          0\n",
       "Accident_Severity              0\n",
       "Accident Date                  0\n",
       "Latitude                       0\n",
       "Light_Conditions               0\n",
       "District Area                  0\n",
       "Longitude                      0\n",
       "Number_of_Casualties           0\n",
       "Number_of_Vehicles             0\n",
       "Road_Surface_Conditions      726\n",
       "Road_Type                   4520\n",
       "Urban_or_Rural_Area           15\n",
       "Weather_Conditions         14128\n",
       "Vehicle_Type                   0\n",
       "dtype: int64"
      ]
     },
     "execution_count": 16,
     "metadata": {},
     "output_type": "execute_result"
    }
   ],
   "source": [
    "accident.isnull().sum()"
   ]
  },
  {
   "cell_type": "code",
   "execution_count": 17,
   "id": "50500abc-54ee-42b6-a7fb-964bb2545218",
   "metadata": {},
   "outputs": [],
   "source": [
    "accident['Road_Surface_Conditions'] = accident['Road_Surface_Conditions'].astype('category')"
   ]
  },
  {
   "cell_type": "code",
   "execution_count": 18,
   "id": "bb83aba4-ea1b-4744-aa79-26a036884fa8",
   "metadata": {},
   "outputs": [
    {
     "name": "stdout",
     "output_type": "stream",
     "text": [
      "<class 'pandas.core.frame.DataFrame'>\n",
      "RangeIndex: 660679 entries, 0 to 660678\n",
      "Data columns (total 14 columns):\n",
      " #   Column                   Non-Null Count   Dtype   \n",
      "---  ------                   --------------   -----   \n",
      " 0   Index                    660679 non-null  object  \n",
      " 1   Accident_Severity        660679 non-null  category\n",
      " 2   Accident Date            660679 non-null  object  \n",
      " 3   Latitude                 660679 non-null  float64 \n",
      " 4   Light_Conditions         660679 non-null  object  \n",
      " 5   District Area            660679 non-null  object  \n",
      " 6   Longitude                660679 non-null  float64 \n",
      " 7   Number_of_Casualties     660679 non-null  int64   \n",
      " 8   Number_of_Vehicles       660679 non-null  int64   \n",
      " 9   Road_Surface_Conditions  659953 non-null  category\n",
      " 10  Road_Type                656159 non-null  object  \n",
      " 11  Urban_or_Rural_Area      660664 non-null  object  \n",
      " 12  Weather_Conditions       646551 non-null  object  \n",
      " 13  Vehicle_Type             660679 non-null  object  \n",
      "dtypes: category(2), float64(2), int64(2), object(8)\n",
      "memory usage: 61.7+ MB\n"
     ]
    }
   ],
   "source": [
    "accident.info()"
   ]
  },
  {
   "cell_type": "code",
   "execution_count": 19,
   "id": "6e919fef-de8f-4f4a-bb30-c5bd37203d6f",
   "metadata": {},
   "outputs": [],
   "source": [
    "accident['Road_Surface_Conditions'] = accident['Road_Surface_Conditions'].fillna(accident['Road_Surface_Conditions'].mode()[0])"
   ]
  },
  {
   "cell_type": "code",
   "execution_count": 20,
   "id": "ab5dc87a-7375-4a61-b147-8dedc947056c",
   "metadata": {},
   "outputs": [
    {
     "data": {
      "text/html": [
       "<div>\n",
       "<style scoped>\n",
       "    .dataframe tbody tr th:only-of-type {\n",
       "        vertical-align: middle;\n",
       "    }\n",
       "\n",
       "    .dataframe tbody tr th {\n",
       "        vertical-align: top;\n",
       "    }\n",
       "\n",
       "    .dataframe thead th {\n",
       "        text-align: right;\n",
       "    }\n",
       "</style>\n",
       "<table border=\"1\" class=\"dataframe\">\n",
       "  <thead>\n",
       "    <tr style=\"text-align: right;\">\n",
       "      <th></th>\n",
       "      <th>Index</th>\n",
       "      <th>Accident_Severity</th>\n",
       "      <th>Accident Date</th>\n",
       "      <th>Latitude</th>\n",
       "      <th>Light_Conditions</th>\n",
       "      <th>District Area</th>\n",
       "      <th>Longitude</th>\n",
       "      <th>Number_of_Casualties</th>\n",
       "      <th>Number_of_Vehicles</th>\n",
       "      <th>Road_Surface_Conditions</th>\n",
       "      <th>Road_Type</th>\n",
       "      <th>Urban_or_Rural_Area</th>\n",
       "      <th>Weather_Conditions</th>\n",
       "      <th>Vehicle_Type</th>\n",
       "    </tr>\n",
       "  </thead>\n",
       "  <tbody>\n",
       "    <tr>\n",
       "      <th>0</th>\n",
       "      <td>2.01E+12</td>\n",
       "      <td>Slight</td>\n",
       "      <td>30/11/2019</td>\n",
       "      <td>52.458798</td>\n",
       "      <td>Daylight</td>\n",
       "      <td>Birmingham</td>\n",
       "      <td>-0.977611</td>\n",
       "      <td>1</td>\n",
       "      <td>2</td>\n",
       "      <td>Dry</td>\n",
       "      <td>Single carriageway</td>\n",
       "      <td>Urban</td>\n",
       "      <td>Fine no high winds</td>\n",
       "      <td>Car</td>\n",
       "    </tr>\n",
       "  </tbody>\n",
       "</table>\n",
       "</div>"
      ],
      "text/plain": [
       "      Index Accident_Severity Accident Date   Latitude Light_Conditions  \\\n",
       "0  2.01E+12            Slight    30/11/2019  52.458798         Daylight   \n",
       "\n",
       "  District Area  Longitude  Number_of_Casualties  Number_of_Vehicles  \\\n",
       "0    Birmingham  -0.977611                     1                   2   \n",
       "\n",
       "  Road_Surface_Conditions           Road_Type Urban_or_Rural_Area  \\\n",
       "0                     Dry  Single carriageway               Urban   \n",
       "\n",
       "   Weather_Conditions Vehicle_Type  \n",
       "0  Fine no high winds          Car  "
      ]
     },
     "execution_count": 20,
     "metadata": {},
     "output_type": "execute_result"
    }
   ],
   "source": [
    "accident.mode()"
   ]
  },
  {
   "cell_type": "code",
   "execution_count": 21,
   "id": "02ebd720-bec9-42ff-9e3b-c323cf36e2f5",
   "metadata": {},
   "outputs": [
    {
     "data": {
      "text/plain": [
       "Index                          0\n",
       "Accident_Severity              0\n",
       "Accident Date                  0\n",
       "Latitude                       0\n",
       "Light_Conditions               0\n",
       "District Area                  0\n",
       "Longitude                      0\n",
       "Number_of_Casualties           0\n",
       "Number_of_Vehicles             0\n",
       "Road_Surface_Conditions        0\n",
       "Road_Type                   4520\n",
       "Urban_or_Rural_Area           15\n",
       "Weather_Conditions         14128\n",
       "Vehicle_Type                   0\n",
       "dtype: int64"
      ]
     },
     "execution_count": 21,
     "metadata": {},
     "output_type": "execute_result"
    }
   ],
   "source": [
    "accident.isnull().sum()"
   ]
  },
  {
   "cell_type": "code",
   "execution_count": 22,
   "id": "d45345b2-a97e-4f0b-a048-e8a9c726cd77",
   "metadata": {},
   "outputs": [],
   "source": [
    "accident['Road_Type'] = accident['Road_Type'].astype('category')"
   ]
  },
  {
   "cell_type": "code",
   "execution_count": 23,
   "id": "cb41cdb4-c69b-4b80-919e-ebc08e5845d4",
   "metadata": {},
   "outputs": [],
   "source": [
    "accident['Urban_or_Rural_Area'] = accident['Urban_or_Rural_Area'].astype('category')"
   ]
  },
  {
   "cell_type": "code",
   "execution_count": 24,
   "id": "4ba6ac34-6de7-43af-a7f8-da157484a639",
   "metadata": {},
   "outputs": [],
   "source": [
    "accident['Weather_Conditions'] = accident['Weather_Conditions'].astype('category')"
   ]
  },
  {
   "cell_type": "code",
   "execution_count": 25,
   "id": "2b82656a-2a0c-429f-b750-0163d27358c8",
   "metadata": {},
   "outputs": [
    {
     "name": "stdout",
     "output_type": "stream",
     "text": [
      "<class 'pandas.core.frame.DataFrame'>\n",
      "RangeIndex: 660679 entries, 0 to 660678\n",
      "Data columns (total 14 columns):\n",
      " #   Column                   Non-Null Count   Dtype   \n",
      "---  ------                   --------------   -----   \n",
      " 0   Index                    660679 non-null  object  \n",
      " 1   Accident_Severity        660679 non-null  category\n",
      " 2   Accident Date            660679 non-null  object  \n",
      " 3   Latitude                 660679 non-null  float64 \n",
      " 4   Light_Conditions         660679 non-null  object  \n",
      " 5   District Area            660679 non-null  object  \n",
      " 6   Longitude                660679 non-null  float64 \n",
      " 7   Number_of_Casualties     660679 non-null  int64   \n",
      " 8   Number_of_Vehicles       660679 non-null  int64   \n",
      " 9   Road_Surface_Conditions  660679 non-null  category\n",
      " 10  Road_Type                656159 non-null  category\n",
      " 11  Urban_or_Rural_Area      660664 non-null  category\n",
      " 12  Weather_Conditions       646551 non-null  category\n",
      " 13  Vehicle_Type             660679 non-null  object  \n",
      "dtypes: category(5), float64(2), int64(2), object(5)\n",
      "memory usage: 48.5+ MB\n"
     ]
    }
   ],
   "source": [
    "accident.info()"
   ]
  },
  {
   "cell_type": "code",
   "execution_count": 26,
   "id": "56a558b3-0d2d-4f43-9ab1-ebe9a9085f2c",
   "metadata": {},
   "outputs": [],
   "source": [
    "accident['Urban_or_Rural_Area'] = accident['Urban_or_Rural_Area'].fillna(accident['Urban_or_Rural_Area'].mode()[0])"
   ]
  },
  {
   "cell_type": "code",
   "execution_count": 27,
   "id": "f3d4ee90-dc8c-4363-bb33-11d97d40aa86",
   "metadata": {},
   "outputs": [
    {
     "data": {
      "text/html": [
       "<div>\n",
       "<style scoped>\n",
       "    .dataframe tbody tr th:only-of-type {\n",
       "        vertical-align: middle;\n",
       "    }\n",
       "\n",
       "    .dataframe tbody tr th {\n",
       "        vertical-align: top;\n",
       "    }\n",
       "\n",
       "    .dataframe thead th {\n",
       "        text-align: right;\n",
       "    }\n",
       "</style>\n",
       "<table border=\"1\" class=\"dataframe\">\n",
       "  <thead>\n",
       "    <tr style=\"text-align: right;\">\n",
       "      <th></th>\n",
       "      <th>Index</th>\n",
       "      <th>Accident_Severity</th>\n",
       "      <th>Accident Date</th>\n",
       "      <th>Latitude</th>\n",
       "      <th>Light_Conditions</th>\n",
       "      <th>District Area</th>\n",
       "      <th>Longitude</th>\n",
       "      <th>Number_of_Casualties</th>\n",
       "      <th>Number_of_Vehicles</th>\n",
       "      <th>Road_Surface_Conditions</th>\n",
       "      <th>Road_Type</th>\n",
       "      <th>Urban_or_Rural_Area</th>\n",
       "      <th>Weather_Conditions</th>\n",
       "      <th>Vehicle_Type</th>\n",
       "    </tr>\n",
       "  </thead>\n",
       "  <tbody>\n",
       "    <tr>\n",
       "      <th>0</th>\n",
       "      <td>2.01E+12</td>\n",
       "      <td>Slight</td>\n",
       "      <td>30/11/2019</td>\n",
       "      <td>52.458798</td>\n",
       "      <td>Daylight</td>\n",
       "      <td>Birmingham</td>\n",
       "      <td>-0.977611</td>\n",
       "      <td>1</td>\n",
       "      <td>2</td>\n",
       "      <td>Dry</td>\n",
       "      <td>Single carriageway</td>\n",
       "      <td>Urban</td>\n",
       "      <td>Fine no high winds</td>\n",
       "      <td>Car</td>\n",
       "    </tr>\n",
       "  </tbody>\n",
       "</table>\n",
       "</div>"
      ],
      "text/plain": [
       "      Index Accident_Severity Accident Date   Latitude Light_Conditions  \\\n",
       "0  2.01E+12            Slight    30/11/2019  52.458798         Daylight   \n",
       "\n",
       "  District Area  Longitude  Number_of_Casualties  Number_of_Vehicles  \\\n",
       "0    Birmingham  -0.977611                     1                   2   \n",
       "\n",
       "  Road_Surface_Conditions           Road_Type Urban_or_Rural_Area  \\\n",
       "0                     Dry  Single carriageway               Urban   \n",
       "\n",
       "   Weather_Conditions Vehicle_Type  \n",
       "0  Fine no high winds          Car  "
      ]
     },
     "execution_count": 27,
     "metadata": {},
     "output_type": "execute_result"
    }
   ],
   "source": [
    "accident.mode()"
   ]
  },
  {
   "cell_type": "code",
   "execution_count": 28,
   "id": "8d19da88-3c82-4576-8b01-ef4ff7e12cbc",
   "metadata": {},
   "outputs": [
    {
     "data": {
      "text/plain": [
       "Index                          0\n",
       "Accident_Severity              0\n",
       "Accident Date                  0\n",
       "Latitude                       0\n",
       "Light_Conditions               0\n",
       "District Area                  0\n",
       "Longitude                      0\n",
       "Number_of_Casualties           0\n",
       "Number_of_Vehicles             0\n",
       "Road_Surface_Conditions        0\n",
       "Road_Type                   4520\n",
       "Urban_or_Rural_Area            0\n",
       "Weather_Conditions         14128\n",
       "Vehicle_Type                   0\n",
       "dtype: int64"
      ]
     },
     "execution_count": 28,
     "metadata": {},
     "output_type": "execute_result"
    }
   ],
   "source": [
    "accident.isnull().sum()"
   ]
  },
  {
   "cell_type": "code",
   "execution_count": 29,
   "id": "29f674a1-23ac-4b46-9058-989e63a81027",
   "metadata": {},
   "outputs": [],
   "source": [
    "accident['Road_Type'] = accident['Road_Type'].fillna(accident['Road_Type'].mode()[0])"
   ]
  },
  {
   "cell_type": "code",
   "execution_count": 30,
   "id": "0c6e0cd6-5c32-432f-81bb-f450e7c19cc1",
   "metadata": {},
   "outputs": [
    {
     "data": {
      "text/html": [
       "<div>\n",
       "<style scoped>\n",
       "    .dataframe tbody tr th:only-of-type {\n",
       "        vertical-align: middle;\n",
       "    }\n",
       "\n",
       "    .dataframe tbody tr th {\n",
       "        vertical-align: top;\n",
       "    }\n",
       "\n",
       "    .dataframe thead th {\n",
       "        text-align: right;\n",
       "    }\n",
       "</style>\n",
       "<table border=\"1\" class=\"dataframe\">\n",
       "  <thead>\n",
       "    <tr style=\"text-align: right;\">\n",
       "      <th></th>\n",
       "      <th>Index</th>\n",
       "      <th>Accident_Severity</th>\n",
       "      <th>Accident Date</th>\n",
       "      <th>Latitude</th>\n",
       "      <th>Light_Conditions</th>\n",
       "      <th>District Area</th>\n",
       "      <th>Longitude</th>\n",
       "      <th>Number_of_Casualties</th>\n",
       "      <th>Number_of_Vehicles</th>\n",
       "      <th>Road_Surface_Conditions</th>\n",
       "      <th>Road_Type</th>\n",
       "      <th>Urban_or_Rural_Area</th>\n",
       "      <th>Weather_Conditions</th>\n",
       "      <th>Vehicle_Type</th>\n",
       "    </tr>\n",
       "  </thead>\n",
       "  <tbody>\n",
       "    <tr>\n",
       "      <th>0</th>\n",
       "      <td>2.01E+12</td>\n",
       "      <td>Slight</td>\n",
       "      <td>30/11/2019</td>\n",
       "      <td>52.458798</td>\n",
       "      <td>Daylight</td>\n",
       "      <td>Birmingham</td>\n",
       "      <td>-0.977611</td>\n",
       "      <td>1</td>\n",
       "      <td>2</td>\n",
       "      <td>Dry</td>\n",
       "      <td>Single carriageway</td>\n",
       "      <td>Urban</td>\n",
       "      <td>Fine no high winds</td>\n",
       "      <td>Car</td>\n",
       "    </tr>\n",
       "  </tbody>\n",
       "</table>\n",
       "</div>"
      ],
      "text/plain": [
       "      Index Accident_Severity Accident Date   Latitude Light_Conditions  \\\n",
       "0  2.01E+12            Slight    30/11/2019  52.458798         Daylight   \n",
       "\n",
       "  District Area  Longitude  Number_of_Casualties  Number_of_Vehicles  \\\n",
       "0    Birmingham  -0.977611                     1                   2   \n",
       "\n",
       "  Road_Surface_Conditions           Road_Type Urban_or_Rural_Area  \\\n",
       "0                     Dry  Single carriageway               Urban   \n",
       "\n",
       "   Weather_Conditions Vehicle_Type  \n",
       "0  Fine no high winds          Car  "
      ]
     },
     "execution_count": 30,
     "metadata": {},
     "output_type": "execute_result"
    }
   ],
   "source": [
    "accident.mode()"
   ]
  },
  {
   "cell_type": "code",
   "execution_count": 31,
   "id": "2db4f15c-3cb2-4366-b98a-fcb155fc80a3",
   "metadata": {},
   "outputs": [
    {
     "data": {
      "text/plain": [
       "Index                          0\n",
       "Accident_Severity              0\n",
       "Accident Date                  0\n",
       "Latitude                       0\n",
       "Light_Conditions               0\n",
       "District Area                  0\n",
       "Longitude                      0\n",
       "Number_of_Casualties           0\n",
       "Number_of_Vehicles             0\n",
       "Road_Surface_Conditions        0\n",
       "Road_Type                      0\n",
       "Urban_or_Rural_Area            0\n",
       "Weather_Conditions         14128\n",
       "Vehicle_Type                   0\n",
       "dtype: int64"
      ]
     },
     "execution_count": 31,
     "metadata": {},
     "output_type": "execute_result"
    }
   ],
   "source": [
    "accident.isnull().sum()"
   ]
  },
  {
   "cell_type": "code",
   "execution_count": 32,
   "id": "1428f64b-b750-460c-8889-2a24b7512975",
   "metadata": {},
   "outputs": [],
   "source": [
    "accident['Weather_Conditions'] = accident['Weather_Conditions'].fillna(accident['Weather_Conditions'].mode()[0])"
   ]
  },
  {
   "cell_type": "code",
   "execution_count": 33,
   "id": "ab1296f9-0436-4e3a-9123-00abac241b87",
   "metadata": {},
   "outputs": [
    {
     "data": {
      "text/html": [
       "<div>\n",
       "<style scoped>\n",
       "    .dataframe tbody tr th:only-of-type {\n",
       "        vertical-align: middle;\n",
       "    }\n",
       "\n",
       "    .dataframe tbody tr th {\n",
       "        vertical-align: top;\n",
       "    }\n",
       "\n",
       "    .dataframe thead th {\n",
       "        text-align: right;\n",
       "    }\n",
       "</style>\n",
       "<table border=\"1\" class=\"dataframe\">\n",
       "  <thead>\n",
       "    <tr style=\"text-align: right;\">\n",
       "      <th></th>\n",
       "      <th>Index</th>\n",
       "      <th>Accident_Severity</th>\n",
       "      <th>Accident Date</th>\n",
       "      <th>Latitude</th>\n",
       "      <th>Light_Conditions</th>\n",
       "      <th>District Area</th>\n",
       "      <th>Longitude</th>\n",
       "      <th>Number_of_Casualties</th>\n",
       "      <th>Number_of_Vehicles</th>\n",
       "      <th>Road_Surface_Conditions</th>\n",
       "      <th>Road_Type</th>\n",
       "      <th>Urban_or_Rural_Area</th>\n",
       "      <th>Weather_Conditions</th>\n",
       "      <th>Vehicle_Type</th>\n",
       "    </tr>\n",
       "  </thead>\n",
       "  <tbody>\n",
       "    <tr>\n",
       "      <th>0</th>\n",
       "      <td>2.01E+12</td>\n",
       "      <td>Slight</td>\n",
       "      <td>30/11/2019</td>\n",
       "      <td>52.458798</td>\n",
       "      <td>Daylight</td>\n",
       "      <td>Birmingham</td>\n",
       "      <td>-0.977611</td>\n",
       "      <td>1</td>\n",
       "      <td>2</td>\n",
       "      <td>Dry</td>\n",
       "      <td>Single carriageway</td>\n",
       "      <td>Urban</td>\n",
       "      <td>Fine no high winds</td>\n",
       "      <td>Car</td>\n",
       "    </tr>\n",
       "  </tbody>\n",
       "</table>\n",
       "</div>"
      ],
      "text/plain": [
       "      Index Accident_Severity Accident Date   Latitude Light_Conditions  \\\n",
       "0  2.01E+12            Slight    30/11/2019  52.458798         Daylight   \n",
       "\n",
       "  District Area  Longitude  Number_of_Casualties  Number_of_Vehicles  \\\n",
       "0    Birmingham  -0.977611                     1                   2   \n",
       "\n",
       "  Road_Surface_Conditions           Road_Type Urban_or_Rural_Area  \\\n",
       "0                     Dry  Single carriageway               Urban   \n",
       "\n",
       "   Weather_Conditions Vehicle_Type  \n",
       "0  Fine no high winds          Car  "
      ]
     },
     "execution_count": 33,
     "metadata": {},
     "output_type": "execute_result"
    }
   ],
   "source": [
    "accident.mode()"
   ]
  },
  {
   "cell_type": "code",
   "execution_count": 34,
   "id": "ccdd6d1e-30f9-4b00-a50c-5dd255fe9f1a",
   "metadata": {},
   "outputs": [
    {
     "data": {
      "text/plain": [
       "Index                      0\n",
       "Accident_Severity          0\n",
       "Accident Date              0\n",
       "Latitude                   0\n",
       "Light_Conditions           0\n",
       "District Area              0\n",
       "Longitude                  0\n",
       "Number_of_Casualties       0\n",
       "Number_of_Vehicles         0\n",
       "Road_Surface_Conditions    0\n",
       "Road_Type                  0\n",
       "Urban_or_Rural_Area        0\n",
       "Weather_Conditions         0\n",
       "Vehicle_Type               0\n",
       "dtype: int64"
      ]
     },
     "execution_count": 34,
     "metadata": {},
     "output_type": "execute_result"
    }
   ],
   "source": [
    "accident.isnull().sum()"
   ]
  },
  {
   "cell_type": "markdown",
   "id": "84a6c011-a3eb-4431-9b1d-976549a1a3d9",
   "metadata": {},
   "source": [
    "<h1>Converting Object to DataTime Data type </h1>"
   ]
  },
  {
   "cell_type": "code",
   "execution_count": 35,
   "id": "aa3e47c8-b6ae-4058-b942-7767c01e19a0",
   "metadata": {},
   "outputs": [],
   "source": [
    "accident['Accident Date'] = pd.to_datetime(accident['Accident Date'], dayfirst = True, errors = 'coerce') "
   ]
  },
  {
   "cell_type": "code",
   "execution_count": 36,
   "id": "518c6e4c-19ef-4c80-97a8-0fa384f3b00c",
   "metadata": {},
   "outputs": [
    {
     "data": {
      "text/plain": [
       "Index                      0\n",
       "Accident_Severity          0\n",
       "Accident Date              0\n",
       "Latitude                   0\n",
       "Light_Conditions           0\n",
       "District Area              0\n",
       "Longitude                  0\n",
       "Number_of_Casualties       0\n",
       "Number_of_Vehicles         0\n",
       "Road_Surface_Conditions    0\n",
       "Road_Type                  0\n",
       "Urban_or_Rural_Area        0\n",
       "Weather_Conditions         0\n",
       "Vehicle_Type               0\n",
       "dtype: int64"
      ]
     },
     "execution_count": 36,
     "metadata": {},
     "output_type": "execute_result"
    }
   ],
   "source": [
    "accident.isnull().sum()"
   ]
  },
  {
   "cell_type": "code",
   "execution_count": 37,
   "id": "dec9c847-d7f0-4dbf-8c8b-ff37d3170988",
   "metadata": {},
   "outputs": [
    {
     "data": {
      "text/plain": [
       "Index                              object\n",
       "Accident_Severity                category\n",
       "Accident Date              datetime64[ns]\n",
       "Latitude                          float64\n",
       "Light_Conditions                   object\n",
       "District Area                      object\n",
       "Longitude                         float64\n",
       "Number_of_Casualties                int64\n",
       "Number_of_Vehicles                  int64\n",
       "Road_Surface_Conditions          category\n",
       "Road_Type                        category\n",
       "Urban_or_Rural_Area              category\n",
       "Weather_Conditions               category\n",
       "Vehicle_Type                       object\n",
       "dtype: object"
      ]
     },
     "execution_count": 37,
     "metadata": {},
     "output_type": "execute_result"
    }
   ],
   "source": [
    "accident.dtypes"
   ]
  },
  {
   "cell_type": "markdown",
   "id": "ff84b645-63ef-4eb0-ac54-8276dd0cbb20",
   "metadata": {},
   "source": [
    "<h1>Categorical Data fields</h1>"
   ]
  },
  {
   "cell_type": "code",
   "execution_count": 38,
   "id": "980fe90d-99f6-43c6-9cca-f7b4efebeea9",
   "metadata": {},
   "outputs": [
    {
     "data": {
      "text/plain": [
       "Index                              object\n",
       "Accident_Severity                category\n",
       "Accident Date              datetime64[ns]\n",
       "Latitude                          float64\n",
       "Light_Conditions                   object\n",
       "District Area                      object\n",
       "Longitude                         float64\n",
       "Number_of_Casualties                int64\n",
       "Number_of_Vehicles                  int64\n",
       "Road_Surface_Conditions          category\n",
       "Road_Type                        category\n",
       "Urban_or_Rural_Area              category\n",
       "Weather_Conditions               category\n",
       "Vehicle_Type                       object\n",
       "dtype: object"
      ]
     },
     "execution_count": 38,
     "metadata": {},
     "output_type": "execute_result"
    }
   ],
   "source": [
    "accident.dtypes"
   ]
  },
  {
   "cell_type": "code",
   "execution_count": 39,
   "id": "57011ed2-a757-409c-afb5-80480bb28666",
   "metadata": {},
   "outputs": [],
   "source": [
    "accident['Latitude'] = accident['Latitude'].astype('category')\n",
    "accident['Longitude'] = accident['Longitude'].astype('category')\n",
    "accident['District Area'] = accident['District Area'].astype('category')\n",
    "accident['Light_Conditions'] = accident['Light_Conditions'].astype('category')\n",
    "accident['Vehicle_Type'] = accident['Vehicle_Type'].astype('category')\n"
   ]
  },
  {
   "cell_type": "code",
   "execution_count": 40,
   "id": "44c9d3ba-baf5-4e7d-942e-6b6efdac1d30",
   "metadata": {},
   "outputs": [
    {
     "data": {
      "text/plain": [
       "Index                              object\n",
       "Accident_Severity                category\n",
       "Accident Date              datetime64[ns]\n",
       "Latitude                         category\n",
       "Light_Conditions                 category\n",
       "District Area                    category\n",
       "Longitude                        category\n",
       "Number_of_Casualties                int64\n",
       "Number_of_Vehicles                  int64\n",
       "Road_Surface_Conditions          category\n",
       "Road_Type                        category\n",
       "Urban_or_Rural_Area              category\n",
       "Weather_Conditions               category\n",
       "Vehicle_Type                     category\n",
       "dtype: object"
      ]
     },
     "execution_count": 40,
     "metadata": {},
     "output_type": "execute_result"
    }
   ],
   "source": [
    "accident.dtypes"
   ]
  },
  {
   "cell_type": "markdown",
   "id": "27593971-6af7-4065-8045-6ab3bc37db27",
   "metadata": {},
   "source": [
    "<h1>Extracting date Information using Pandas Date time</h1>"
   ]
  },
  {
   "cell_type": "code",
   "execution_count": 41,
   "id": "610e7414-78bc-4e93-9d89-e0dcdcaa76d2",
   "metadata": {},
   "outputs": [],
   "source": [
    "accident['year'] = accident['Accident Date'].dt.year\n",
    "accident['Month'] = accident['Accident Date'].dt.month\n",
    "accident['Day'] = accident['Accident Date'].dt.day\n",
    "accident['DayOfWeek'] = accident['Accident Date'].dt.dayofweek"
   ]
  },
  {
   "cell_type": "code",
   "execution_count": 42,
   "id": "bf0d136d-d998-4cf5-97af-a1713f8a4481",
   "metadata": {},
   "outputs": [
    {
     "data": {
      "text/plain": [
       "0         2019\n",
       "1         2019\n",
       "2         2019\n",
       "3         2019\n",
       "4         2019\n",
       "          ... \n",
       "660674    2022\n",
       "660675    2022\n",
       "660676    2022\n",
       "660677    2022\n",
       "660678    2022\n",
       "Name: year, Length: 660679, dtype: int32"
      ]
     },
     "execution_count": 42,
     "metadata": {},
     "output_type": "execute_result"
    }
   ],
   "source": [
    "accident['year']"
   ]
  },
  {
   "cell_type": "code",
   "execution_count": null,
   "id": "32a3f771-1094-4d2e-932a-95154c842961",
   "metadata": {},
   "outputs": [],
   "source": []
  },
  {
   "cell_type": "markdown",
   "id": "966cbd33-01e8-411c-9fc0-211b41ee85b4",
   "metadata": {},
   "source": [
    "<h1>Accident in Light Conditions</h1>"
   ]
  },
  {
   "cell_type": "code",
   "execution_count": 43,
   "id": "f951e824-d908-4d6b-848f-3cd72387e99c",
   "metadata": {},
   "outputs": [],
   "source": [
    "yr19 = accident[accident['year'] == 2019]\n",
    "yr20 = accident[accident['year'] == 2020]\n",
    "yr21 = accident[accident['year'] == 2021]\n",
    "yr22 = accident[accident['year'] == 2022]\n"
   ]
  },
  {
   "cell_type": "code",
   "execution_count": 44,
   "id": "16c9c106-8b83-44d6-ad23-2ef68a38a4aa",
   "metadata": {},
   "outputs": [
    {
     "name": "stderr",
     "output_type": "stream",
     "text": [
      "C:\\Users\\LAB5-StudentPC12\\AppData\\Local\\Temp\\ipykernel_12612\\1771843919.py:6: FutureWarning: The default of observed=False is deprecated and will be changed to True in a future version of pandas. Pass observed=False to retain current behavior or observed=True to adopt the future default and silence this warning.\n",
      "  visual = newyr19.groupby(['Urban_or_Rural_Area', 'Accident_Severity'])['Number_of_Casualties'].sum().reset_index()\n"
     ]
    },
    {
     "data": {
      "image/png": "[encoded data removed]",
      "text/plain": [
       "<Figure size 640x480 with 1 Axes>"
      ]
     },
     "metadata": {},
     "output_type": "display_data"
    }
   ],
   "source": [
    "yr19 = accident[accident['year'] == 2019]\n",
    "yr19['Accident_Severity'].value_counts()\n",
    "\n",
    "newyr19 = yr19[yr19['Accident_Severity'] != 'Slight']\n",
    "\n",
    "visual = newyr19.groupby(['Urban_or_Rural_Area', 'Accident_Severity'])['Number_of_Casualties'].sum().reset_index()\n",
    "visual\n",
    "\n",
    "#Plotting using matplot\n",
    "x = ['Urban_or_Rural_Area']\n",
    "y = ['Accident_Severity']\n",
    "\n",
    "plt.bar(x,y)\n",
    "plt.show()\n"
   ]
  },
  {
   "cell_type": "code",
   "execution_count": null,
   "id": "db427ea9-e005-4bd1-8ea5-3dd27cd1c420",
   "metadata": {},
   "outputs": [],
   "source": []
  },
  {
   "cell_type": "code",
   "execution_count": 45,
   "id": "7b479194-c943-41e8-bff6-2c2424f38127",
   "metadata": {},
   "outputs": [
    {
     "data": {
      "text/plain": [
       "Light_Conditions\n",
       "Daylight                       133042\n",
       "Darkness - lights lit           35769\n",
       "Darkness - no lighting          10842\n",
       "Darkness - lighting unknown      1768\n",
       "Darkness - lights unlit           694\n",
       "Name: count, dtype: int64"
      ]
     },
     "execution_count": 45,
     "metadata": {},
     "output_type": "execute_result"
    }
   ],
   "source": [
    "yr19['Light_Conditions'].value_counts()"
   ]
  },
  {
   "cell_type": "code",
   "execution_count": 46,
   "id": "5a25fe85-7814-474b-9a8c-ed7f9cb84d16",
   "metadata": {},
   "outputs": [
    {
     "data": {
      "text/plain": [
       "np.int64(182115)"
      ]
     },
     "execution_count": 46,
     "metadata": {},
     "output_type": "execute_result"
    }
   ],
   "source": [
    "yr19['Light_Conditions'].value_counts().sum()"
   ]
  },
  {
   "cell_type": "code",
   "execution_count": null,
   "id": "1cbb4137-6ea7-4123-8587-b423b3c7e4cf",
   "metadata": {},
   "outputs": [],
   "source": []
  },
  {
   "cell_type": "code",
   "execution_count": 47,
   "id": "02bb5185-c4f0-4180-a304-c9092f957684",
   "metadata": {},
   "outputs": [
    {
     "data": {
      "text/plain": [
       "Light_Conditions\n",
       "Daylight                       124552\n",
       "Darkness - lights lit           33473\n",
       "Darkness - no lighting          10067\n",
       "Darkness - lighting unknown      1792\n",
       "Darkness - lights unlit           707\n",
       "Name: count, dtype: int64"
      ]
     },
     "execution_count": 47,
     "metadata": {},
     "output_type": "execute_result"
    }
   ],
   "source": [
    "yr20['Light_Conditions'].value_counts()"
   ]
  },
  {
   "cell_type": "code",
   "execution_count": 48,
   "id": "ed443ea3-5231-4612-b201-208569780f3e",
   "metadata": {},
   "outputs": [
    {
     "data": {
      "text/plain": [
       "np.int64(170591)"
      ]
     },
     "execution_count": 48,
     "metadata": {},
     "output_type": "execute_result"
    }
   ],
   "source": [
    "yr20['Light_Conditions'].value_counts().sum()"
   ]
  },
  {
   "cell_type": "code",
   "execution_count": 49,
   "id": "99bf2127-03ee-479c-a3da-eef43d182bb9",
   "metadata": {},
   "outputs": [
    {
     "data": {
      "text/plain": [
       "Light_Conditions\n",
       "Daylight                       119518\n",
       "Darkness - lights lit           32549\n",
       "Darkness - no lighting           9226\n",
       "Darkness - lighting unknown      1607\n",
       "Darkness - lights unlit           654\n",
       "Name: count, dtype: int64"
      ]
     },
     "execution_count": 49,
     "metadata": {},
     "output_type": "execute_result"
    }
   ],
   "source": [
    "yr21['Light_Conditions'].value_counts()"
   ]
  },
  {
   "cell_type": "code",
   "execution_count": 50,
   "id": "101867ab-0d5d-46b5-8067-edb7483a3581",
   "metadata": {},
   "outputs": [
    {
     "data": {
      "text/plain": [
       "np.int64(163554)"
      ]
     },
     "execution_count": 50,
     "metadata": {},
     "output_type": "execute_result"
    }
   ],
   "source": [
    "yr21['Light_Conditions'].value_counts().sum()"
   ]
  },
  {
   "cell_type": "code",
   "execution_count": 51,
   "id": "da4a84f8-4289-4b2a-9fce-68e8d31a6046",
   "metadata": {},
   "outputs": [
    {
     "data": {
      "text/plain": [
       "Light_Conditions\n",
       "Daylight                       107768\n",
       "Darkness - lights lit           27544\n",
       "Darkness - no lighting           7302\n",
       "Darkness - lighting unknown      1317\n",
       "Darkness - lights unlit           488\n",
       "Name: count, dtype: int64"
      ]
     },
     "execution_count": 51,
     "metadata": {},
     "output_type": "execute_result"
    }
   ],
   "source": [
    "yr22['Light_Conditions'].value_counts()"
   ]
  },
  {
   "cell_type": "code",
   "execution_count": 52,
   "id": "88e677bb-7e9e-4c6e-aae4-47d7ee05fb55",
   "metadata": {},
   "outputs": [
    {
     "data": {
      "text/plain": [
       "np.int64(144419)"
      ]
     },
     "execution_count": 52,
     "metadata": {},
     "output_type": "execute_result"
    }
   ],
   "source": [
    "yr22['Light_Conditions'].value_counts().sum()\n"
   ]
  },
  {
   "cell_type": "code",
   "execution_count": 53,
   "id": "213b5edd-e1dc-4077-90f9-9f4dd90d8eac",
   "metadata": {},
   "outputs": [
    {
     "name": "stderr",
     "output_type": "stream",
     "text": [
      "C:\\Users\\LAB5-StudentPC12\\AppData\\Local\\Temp\\ipykernel_12612\\510484011.py:6: FutureWarning: The default of observed=False is deprecated and will be changed to True in a future version of pandas. Pass observed=False to retain current behavior or observed=True to adopt the future default and silence this warning.\n",
      "  visual2 = accident.groupby(['Light_Conditions', 'year'])['Number_of_Casualties'].sum().reset_index()\n"
     ]
    },
    {
     "data": {
      "text/html": [
       "<div>\n",
       "<style scoped>\n",
       "    .dataframe tbody tr th:only-of-type {\n",
       "        vertical-align: middle;\n",
       "    }\n",
       "\n",
       "    .dataframe tbody tr th {\n",
       "        vertical-align: top;\n",
       "    }\n",
       "\n",
       "    .dataframe thead th {\n",
       "        text-align: right;\n",
       "    }\n",
       "</style>\n",
       "<table border=\"1\" class=\"dataframe\">\n",
       "  <thead>\n",
       "    <tr style=\"text-align: right;\">\n",
       "      <th></th>\n",
       "      <th>Light_Conditions</th>\n",
       "      <th>year</th>\n",
       "      <th>Number_of_Casualties</th>\n",
       "    </tr>\n",
       "  </thead>\n",
       "  <tbody>\n",
       "    <tr>\n",
       "      <th>0</th>\n",
       "      <td>Darkness - lighting unknown</td>\n",
       "      <td>2019</td>\n",
       "      <td>2306</td>\n",
       "    </tr>\n",
       "    <tr>\n",
       "      <th>1</th>\n",
       "      <td>Darkness - lighting unknown</td>\n",
       "      <td>2020</td>\n",
       "      <td>2336</td>\n",
       "    </tr>\n",
       "    <tr>\n",
       "      <th>2</th>\n",
       "      <td>Darkness - lighting unknown</td>\n",
       "      <td>2021</td>\n",
       "      <td>2122</td>\n",
       "    </tr>\n",
       "    <tr>\n",
       "      <th>3</th>\n",
       "      <td>Darkness - lighting unknown</td>\n",
       "      <td>2022</td>\n",
       "      <td>1707</td>\n",
       "    </tr>\n",
       "    <tr>\n",
       "      <th>4</th>\n",
       "      <td>Darkness - lights lit</td>\n",
       "      <td>2019</td>\n",
       "      <td>49165</td>\n",
       "    </tr>\n",
       "    <tr>\n",
       "      <th>5</th>\n",
       "      <td>Darkness - lights lit</td>\n",
       "      <td>2020</td>\n",
       "      <td>45776</td>\n",
       "    </tr>\n",
       "    <tr>\n",
       "      <th>6</th>\n",
       "      <td>Darkness - lights lit</td>\n",
       "      <td>2021</td>\n",
       "      <td>44499</td>\n",
       "    </tr>\n",
       "    <tr>\n",
       "      <th>7</th>\n",
       "      <td>Darkness - lights lit</td>\n",
       "      <td>2022</td>\n",
       "      <td>37668</td>\n",
       "    </tr>\n",
       "    <tr>\n",
       "      <th>8</th>\n",
       "      <td>Darkness - lights unlit</td>\n",
       "      <td>2019</td>\n",
       "      <td>932</td>\n",
       "    </tr>\n",
       "    <tr>\n",
       "      <th>9</th>\n",
       "      <td>Darkness - lights unlit</td>\n",
       "      <td>2020</td>\n",
       "      <td>915</td>\n",
       "    </tr>\n",
       "    <tr>\n",
       "      <th>10</th>\n",
       "      <td>Darkness - lights unlit</td>\n",
       "      <td>2021</td>\n",
       "      <td>882</td>\n",
       "    </tr>\n",
       "    <tr>\n",
       "      <th>11</th>\n",
       "      <td>Darkness - lights unlit</td>\n",
       "      <td>2022</td>\n",
       "      <td>656</td>\n",
       "    </tr>\n",
       "    <tr>\n",
       "      <th>12</th>\n",
       "      <td>Darkness - no lighting</td>\n",
       "      <td>2019</td>\n",
       "      <td>16775</td>\n",
       "    </tr>\n",
       "    <tr>\n",
       "      <th>13</th>\n",
       "      <td>Darkness - no lighting</td>\n",
       "      <td>2020</td>\n",
       "      <td>15554</td>\n",
       "    </tr>\n",
       "    <tr>\n",
       "      <th>14</th>\n",
       "      <td>Darkness - no lighting</td>\n",
       "      <td>2021</td>\n",
       "      <td>14219</td>\n",
       "    </tr>\n",
       "    <tr>\n",
       "      <th>15</th>\n",
       "      <td>Darkness - no lighting</td>\n",
       "      <td>2022</td>\n",
       "      <td>11167</td>\n",
       "    </tr>\n",
       "    <tr>\n",
       "      <th>16</th>\n",
       "      <td>Daylight</td>\n",
       "      <td>2019</td>\n",
       "      <td>178602</td>\n",
       "    </tr>\n",
       "    <tr>\n",
       "      <th>17</th>\n",
       "      <td>Daylight</td>\n",
       "      <td>2020</td>\n",
       "      <td>166324</td>\n",
       "    </tr>\n",
       "    <tr>\n",
       "      <th>18</th>\n",
       "      <td>Daylight</td>\n",
       "      <td>2021</td>\n",
       "      <td>160424</td>\n",
       "    </tr>\n",
       "    <tr>\n",
       "      <th>19</th>\n",
       "      <td>Daylight</td>\n",
       "      <td>2022</td>\n",
       "      <td>144539</td>\n",
       "    </tr>\n",
       "  </tbody>\n",
       "</table>\n",
       "</div>"
      ],
      "text/plain": [
       "               Light_Conditions  year  Number_of_Casualties\n",
       "0   Darkness - lighting unknown  2019                  2306\n",
       "1   Darkness - lighting unknown  2020                  2336\n",
       "2   Darkness - lighting unknown  2021                  2122\n",
       "3   Darkness - lighting unknown  2022                  1707\n",
       "4         Darkness - lights lit  2019                 49165\n",
       "5         Darkness - lights lit  2020                 45776\n",
       "6         Darkness - lights lit  2021                 44499\n",
       "7         Darkness - lights lit  2022                 37668\n",
       "8       Darkness - lights unlit  2019                   932\n",
       "9       Darkness - lights unlit  2020                   915\n",
       "10      Darkness - lights unlit  2021                   882\n",
       "11      Darkness - lights unlit  2022                   656\n",
       "12       Darkness - no lighting  2019                 16775\n",
       "13       Darkness - no lighting  2020                 15554\n",
       "14       Darkness - no lighting  2021                 14219\n",
       "15       Darkness - no lighting  2022                 11167\n",
       "16                     Daylight  2019                178602\n",
       "17                     Daylight  2020                166324\n",
       "18                     Daylight  2021                160424\n",
       "19                     Daylight  2022                144539"
      ]
     },
     "execution_count": 53,
     "metadata": {},
     "output_type": "execute_result"
    }
   ],
   "source": [
    "year=[\n",
    "    '2019', '2020', '2021', '2022'\n",
    "]\n",
    "\n",
    "\n",
    "visual2 = accident.groupby(['Light_Conditions', 'year'])['Number_of_Casualties'].sum().reset_index()\n",
    "visual2\n",
    "\n"
   ]
  },
  {
   "cell_type": "code",
   "execution_count": null,
   "id": "ec28020a-476b-4e88-88cd-84c96ad24c8a",
   "metadata": {},
   "outputs": [],
   "source": [
    " "
   ]
  },
  {
   "cell_type": "markdown",
   "id": "165114a6-b8fa-4d4d-a5c5-a8a7e3dec25d",
   "metadata": {},
   "source": [
    "<h1>INSIGHTS:</h1>\n",
    "<ul>\n",
    "    <li>Daylight(most number of accident in Light Conditions)2019-2022</li>\n",
    "    <li>Darkness -light unlit(least number of accident)2019-2022</li>\n",
    "</ul>"
   ]
  },
  {
   "cell_type": "code",
   "execution_count": 54,
   "id": "a96e68b1-43c4-48b6-bfcb-2031a516083a",
   "metadata": {},
   "outputs": [
    {
     "data": {
      "text/plain": [
       "Accident Date\n",
       "2019    182115\n",
       "2020    170591\n",
       "2021    163554\n",
       "2022    144419\n",
       "Name: count, dtype: int64"
      ]
     },
     "execution_count": 54,
     "metadata": {},
     "output_type": "execute_result"
    }
   ],
   "source": [
    "accident['Accident Date'].dt.year.value_counts()"
   ]
  },
  {
   "cell_type": "markdown",
   "id": "5194c5aa-1439-455e-8fe3-6584201d4748",
   "metadata": {},
   "source": [
    "<h1>INSIGHTS:</h1>\n",
    "<ul>\n",
    "    <li>2019 is the year with the highest number of accident, while 2022, has the lowest number of accident</li>\n",
    "</ul>"
   ]
  },
  {
   "cell_type": "code",
   "execution_count": 55,
   "id": "467bdd62-3294-4a2b-875a-ea335b7cf23b",
   "metadata": {},
   "outputs": [
    {
     "data": {
      "text/plain": [
       "np.int64(660679)"
      ]
     },
     "execution_count": 55,
     "metadata": {},
     "output_type": "execute_result"
    }
   ],
   "source": [
    "accident['Accident Date'].dt.year.value_counts().sum()"
   ]
  },
  {
   "cell_type": "markdown",
   "id": "994cac3a-d685-4641-a7be-4a18ae46e01f",
   "metadata": {},
   "source": [
    "<h1>INSIGHTS:(naka roundoff na po)</h1>\n",
    "<ul>\n",
    "    <li>27.56% of total number of accident in Year 2019</li>\n",
    "    <li>25.82% of total number of accident in Year 2020</li>\n",
    "    <li>24.76% of total number of accident in Year 2021</li>\n",
    "    <li>21.86% of total number of accident in Year 2022</li>\n",
    "</ul>\n"
   ]
  },
  {
   "cell_type": "markdown",
   "id": "c126d76c-2c14-471c-8c0d-19471f925131",
   "metadata": {},
   "source": [
    "<h1>What month has the highest number of accident</h1>"
   ]
  },
  {
   "cell_type": "code",
   "execution_count": 56,
   "id": "51335652-a004-4d39-ac87-14da6711874c",
   "metadata": {},
   "outputs": [
    {
     "data": {
      "text/plain": [
       "Accident Date\n",
       "11    60424\n",
       "10    59580\n",
       "7     57445\n",
       "6     56481\n",
       "9     56455\n",
       "5     56352\n",
       "3     54086\n",
       "8     53913\n",
       "1     52872\n",
       "12    51836\n",
       "4     51744\n",
       "2     49491\n",
       "Name: count, dtype: int64"
      ]
     },
     "execution_count": 56,
     "metadata": {},
     "output_type": "execute_result"
    }
   ],
   "source": [
    "accident['Accident Date'].dt.month.value_counts()"
   ]
  },
  {
   "cell_type": "markdown",
   "id": "1cd4158e-e95b-44bf-bcea-0eaf4c9d41f3",
   "metadata": {},
   "source": [
    "<h1>INSIGHTS:</h1>\n",
    "<ul>\n",
    "    <li>November is the month with the highest number of accident</li>\n",
    "</ul>"
   ]
  },
  {
   "cell_type": "code",
   "execution_count": 57,
   "id": "6f9bc82f-4199-4134-b85d-b673bf9d0cbc",
   "metadata": {},
   "outputs": [
    {
     "data": {
      "text/plain": [
       "Accident Date\n",
       "11    60424\n",
       "10    59580\n",
       "7     57445\n",
       "6     56481\n",
       "9     56455\n",
       "5     56352\n",
       "3     54086\n",
       "8     53913\n",
       "1     52872\n",
       "12    51836\n",
       "4     51744\n",
       "2     49491\n",
       "Name: count, dtype: int64"
      ]
     },
     "execution_count": 57,
     "metadata": {},
     "output_type": "execute_result"
    },
    {
     "data": {
      "text/plain": [
       "<Figure size 640x480 with 0 Axes>"
      ]
     },
     "metadata": {},
     "output_type": "display_data"
    }
   ],
   "source": [
    "plt.figure()\n",
    "\n",
    "accident['Accident Date'].dt.month.value_counts()"
   ]
  },
  {
   "cell_type": "markdown",
   "id": "d9d842ec-1f6e-4b61-a1b7-e2da23eb17a2",
   "metadata": {},
   "source": [
    "<h1>What type of Vehicle are proned to accident</h1>"
   ]
  },
  {
   "cell_type": "code",
   "execution_count": 58,
   "id": "63f23db1-43f7-48bc-b4a5-fdd9cada608b",
   "metadata": {},
   "outputs": [
    {
     "data": {
      "text/plain": [
       "Vehicle_Type\n",
       "Car                                      497992\n",
       "Van / Goods 3.5 tonnes mgw or under       34160\n",
       "Bus or coach (17 or more pass seats)      25878\n",
       "Motorcycle over 500cc                     25657\n",
       "Goods 7.5 tonnes mgw and over             17307\n",
       "Motorcycle 125cc and under                15269\n",
       "Taxi/Private hire car                     13294\n",
       "Motorcycle over 125cc and up to 500cc      7656\n",
       "Motorcycle 50cc and under                  7603\n",
       "Goods over 3.5t. and under 7.5t            6096\n",
       "Other vehicle                              5637\n",
       "Minibus (8 - 16 passenger seats)           1976\n",
       "Agricultural vehicle                       1947\n",
       "Pedal cycle                                 197\n",
       "Data missing or out of range                  6\n",
       "Ridden horse                                  4\n",
       "Name: count, dtype: int64"
      ]
     },
     "execution_count": 58,
     "metadata": {},
     "output_type": "execute_result"
    }
   ],
   "source": [
    "accident['Vehicle_Type'].value_counts()"
   ]
  },
  {
   "cell_type": "markdown",
   "id": "c1a0ecb2-4a3a-4c42-ace9-170bbd8cf17d",
   "metadata": {},
   "source": [
    "<h2>Insights: Car is prone to accident</h2>"
   ]
  },
  {
   "cell_type": "markdown",
   "id": "713a98d5-ba62-4da0-ac51-8667f6b17912",
   "metadata": {},
   "source": [
    "<h1>Percentage in Accident Severity </h1>"
   ]
  },
  {
   "cell_type": "code",
   "execution_count": 59,
   "id": "e3a80c1d-2700-4348-98f9-4185bc9e9ca3",
   "metadata": {},
   "outputs": [
    {
     "data": {
      "text/plain": [
       "Accident_Severity\n",
       "Slight     563801\n",
       "Serious     88217\n",
       "Fatal        8661\n",
       "Name: count, dtype: int64"
      ]
     },
     "execution_count": 59,
     "metadata": {},
     "output_type": "execute_result"
    }
   ],
   "source": [
    "accident['Accident_Severity'].value_counts()"
   ]
  },
  {
   "cell_type": "code",
   "execution_count": 60,
   "id": "d7f21168-86d7-476f-8cd9-8ba8c920522f",
   "metadata": {},
   "outputs": [
    {
     "data": {
      "text/plain": [
       "np.int64(660679)"
      ]
     },
     "execution_count": 60,
     "metadata": {},
     "output_type": "execute_result"
    }
   ],
   "source": [
    "accident['Accident_Severity'].value_counts().sum()"
   ]
  },
  {
   "cell_type": "markdown",
   "id": "35d4902b-f080-41ff-9713-fc72cd7e69ee",
   "metadata": {},
   "source": [
    "<h1>INSIGHTS:</h1>\n",
    "<h2>85.34% of the accident are in Slight Conditions</h2>\n",
    "<h2>13.35% of the accident are in Serious Conditions</h2>\n",
    "<h2> 1.31% of the accident are in Serious Conditions</h2>"
   ]
  },
  {
   "cell_type": "code",
   "execution_count": null,
   "id": "9543ded1-715e-486c-b227-2817c80379e2",
   "metadata": {},
   "outputs": [],
   "source": []
  },
  {
   "cell_type": "code",
   "execution_count": null,
   "id": "afb53ad3-1b9f-485f-8c74-bd2670200a46",
   "metadata": {},
   "outputs": [],
   "source": []
  },
  {
   "cell_type": "code",
   "execution_count": null,
   "id": "96071808-6eee-4a6a-81c5-568c72ee77e1",
   "metadata": {},
   "outputs": [],
   "source": []
  },
  {
   "cell_type": "markdown",
   "id": "f8e97463-7f26-4bed-9c41-88ec54f4c3b6",
   "metadata": {},
   "source": [
    "<h1>INSIGHT 1</h1>\n",
    "<h2> Accident severity in Kensington and Chelsea Area </h2>"
   ]
  },
  {
   "cell_type": "code",
   "execution_count": 61,
   "id": "1cccec6d-7134-4377-9c24-2f64227b94ec",
   "metadata": {},
   "outputs": [
    {
     "name": "stdout",
     "output_type": "stream",
     "text": [
      "<class 'pandas.core.frame.DataFrame'>\n",
      "RangeIndex: 660679 entries, 0 to 660678\n",
      "Data columns (total 18 columns):\n",
      " #   Column                   Non-Null Count   Dtype         \n",
      "---  ------                   --------------   -----         \n",
      " 0   Index                    660679 non-null  object        \n",
      " 1   Accident_Severity        660679 non-null  category      \n",
      " 2   Accident Date            660679 non-null  datetime64[ns]\n",
      " 3   Latitude                 660679 non-null  category      \n",
      " 4   Light_Conditions         660679 non-null  category      \n",
      " 5   District Area            660679 non-null  category      \n",
      " 6   Longitude                660679 non-null  category      \n",
      " 7   Number_of_Casualties     660679 non-null  int64         \n",
      " 8   Number_of_Vehicles       660679 non-null  int64         \n",
      " 9   Road_Surface_Conditions  660679 non-null  category      \n",
      " 10  Road_Type                660679 non-null  category      \n",
      " 11  Urban_or_Rural_Area      660679 non-null  category      \n",
      " 12  Weather_Conditions       660679 non-null  category      \n",
      " 13  Vehicle_Type             660679 non-null  category      \n",
      " 14  year                     660679 non-null  int32         \n",
      " 15  Month                    660679 non-null  int32         \n",
      " 16  Day                      660679 non-null  int32         \n",
      " 17  DayOfWeek                660679 non-null  int32         \n",
      "dtypes: category(10), datetime64[ns](1), int32(4), int64(2), object(1)\n",
      "memory usage: 81.2+ MB\n"
     ]
    }
   ],
   "source": [
    "accident.info()"
   ]
  },
  {
   "cell_type": "code",
   "execution_count": 62,
   "id": "17f30a3a-4cba-4523-91ea-f1a5ab48a956",
   "metadata": {},
   "outputs": [
    {
     "data": {
      "text/html": [
       "<div>\n",
       "<style scoped>\n",
       "    .dataframe tbody tr th:only-of-type {\n",
       "        vertical-align: middle;\n",
       "    }\n",
       "\n",
       "    .dataframe tbody tr th {\n",
       "        vertical-align: top;\n",
       "    }\n",
       "\n",
       "    .dataframe thead th {\n",
       "        text-align: right;\n",
       "    }\n",
       "</style>\n",
       "<table border=\"1\" class=\"dataframe\">\n",
       "  <thead>\n",
       "    <tr style=\"text-align: right;\">\n",
       "      <th></th>\n",
       "      <th>Index</th>\n",
       "      <th>Accident_Severity</th>\n",
       "      <th>Accident Date</th>\n",
       "      <th>Latitude</th>\n",
       "      <th>Light_Conditions</th>\n",
       "      <th>District Area</th>\n",
       "      <th>Longitude</th>\n",
       "      <th>Number_of_Casualties</th>\n",
       "      <th>Number_of_Vehicles</th>\n",
       "      <th>Road_Surface_Conditions</th>\n",
       "      <th>Road_Type</th>\n",
       "      <th>Urban_or_Rural_Area</th>\n",
       "      <th>Weather_Conditions</th>\n",
       "      <th>Vehicle_Type</th>\n",
       "      <th>year</th>\n",
       "      <th>Month</th>\n",
       "      <th>Day</th>\n",
       "      <th>DayOfWeek</th>\n",
       "    </tr>\n",
       "  </thead>\n",
       "  <tbody>\n",
       "    <tr>\n",
       "      <th>0</th>\n",
       "      <td>200701BS64157</td>\n",
       "      <td>Serious</td>\n",
       "      <td>2019-06-05</td>\n",
       "      <td>51.506187</td>\n",
       "      <td>Darkness - lights lit</td>\n",
       "      <td>Kensington and Chelsea</td>\n",
       "      <td>-0.209082</td>\n",
       "      <td>1</td>\n",
       "      <td>2</td>\n",
       "      <td>Dry</td>\n",
       "      <td>Single carriageway</td>\n",
       "      <td>Urban</td>\n",
       "      <td>Fine no high winds</td>\n",
       "      <td>Car</td>\n",
       "      <td>2019</td>\n",
       "      <td>6</td>\n",
       "      <td>5</td>\n",
       "      <td>2</td>\n",
       "    </tr>\n",
       "    <tr>\n",
       "      <th>1</th>\n",
       "      <td>200701BS65737</td>\n",
       "      <td>Serious</td>\n",
       "      <td>2019-07-02</td>\n",
       "      <td>51.495029</td>\n",
       "      <td>Daylight</td>\n",
       "      <td>Kensington and Chelsea</td>\n",
       "      <td>-0.173647</td>\n",
       "      <td>1</td>\n",
       "      <td>2</td>\n",
       "      <td>Wet or damp</td>\n",
       "      <td>Single carriageway</td>\n",
       "      <td>Urban</td>\n",
       "      <td>Raining no high winds</td>\n",
       "      <td>Car</td>\n",
       "      <td>2019</td>\n",
       "      <td>7</td>\n",
       "      <td>2</td>\n",
       "      <td>1</td>\n",
       "    </tr>\n",
       "    <tr>\n",
       "      <th>2</th>\n",
       "      <td>200701BS66127</td>\n",
       "      <td>Serious</td>\n",
       "      <td>2019-08-26</td>\n",
       "      <td>51.517715</td>\n",
       "      <td>Darkness - lighting unknown</td>\n",
       "      <td>Kensington and Chelsea</td>\n",
       "      <td>-0.210215</td>\n",
       "      <td>1</td>\n",
       "      <td>3</td>\n",
       "      <td>Dry</td>\n",
       "      <td>Single carriageway</td>\n",
       "      <td>Urban</td>\n",
       "      <td>Fine no high winds</td>\n",
       "      <td>Taxi/Private hire car</td>\n",
       "      <td>2019</td>\n",
       "      <td>8</td>\n",
       "      <td>26</td>\n",
       "      <td>0</td>\n",
       "    </tr>\n",
       "    <tr>\n",
       "      <th>3</th>\n",
       "      <td>200701BS66128</td>\n",
       "      <td>Serious</td>\n",
       "      <td>2019-08-16</td>\n",
       "      <td>51.495478</td>\n",
       "      <td>Daylight</td>\n",
       "      <td>Kensington and Chelsea</td>\n",
       "      <td>-0.202731</td>\n",
       "      <td>1</td>\n",
       "      <td>4</td>\n",
       "      <td>Dry</td>\n",
       "      <td>Single carriageway</td>\n",
       "      <td>Urban</td>\n",
       "      <td>Fine no high winds</td>\n",
       "      <td>Bus or coach (17 or more pass seats)</td>\n",
       "      <td>2019</td>\n",
       "      <td>8</td>\n",
       "      <td>16</td>\n",
       "      <td>4</td>\n",
       "    </tr>\n",
       "    <tr>\n",
       "      <th>4</th>\n",
       "      <td>200701BS66837</td>\n",
       "      <td>Slight</td>\n",
       "      <td>2019-09-03</td>\n",
       "      <td>51.488576</td>\n",
       "      <td>Darkness - lights lit</td>\n",
       "      <td>Kensington and Chelsea</td>\n",
       "      <td>-0.192487</td>\n",
       "      <td>1</td>\n",
       "      <td>2</td>\n",
       "      <td>Dry</td>\n",
       "      <td>Single carriageway</td>\n",
       "      <td>Urban</td>\n",
       "      <td>Fine no high winds</td>\n",
       "      <td>Other vehicle</td>\n",
       "      <td>2019</td>\n",
       "      <td>9</td>\n",
       "      <td>3</td>\n",
       "      <td>1</td>\n",
       "    </tr>\n",
       "    <tr>\n",
       "      <th>...</th>\n",
       "      <td>...</td>\n",
       "      <td>...</td>\n",
       "      <td>...</td>\n",
       "      <td>...</td>\n",
       "      <td>...</td>\n",
       "      <td>...</td>\n",
       "      <td>...</td>\n",
       "      <td>...</td>\n",
       "      <td>...</td>\n",
       "      <td>...</td>\n",
       "      <td>...</td>\n",
       "      <td>...</td>\n",
       "      <td>...</td>\n",
       "      <td>...</td>\n",
       "      <td>...</td>\n",
       "      <td>...</td>\n",
       "      <td>...</td>\n",
       "      <td>...</td>\n",
       "    </tr>\n",
       "    <tr>\n",
       "      <th>660674</th>\n",
       "      <td>201091NM01760</td>\n",
       "      <td>Slight</td>\n",
       "      <td>2022-02-18</td>\n",
       "      <td>57.374005</td>\n",
       "      <td>Daylight</td>\n",
       "      <td>Highland</td>\n",
       "      <td>-3.467828</td>\n",
       "      <td>2</td>\n",
       "      <td>1</td>\n",
       "      <td>Dry</td>\n",
       "      <td>Single carriageway</td>\n",
       "      <td>Rural</td>\n",
       "      <td>Fine no high winds</td>\n",
       "      <td>Car</td>\n",
       "      <td>2022</td>\n",
       "      <td>2</td>\n",
       "      <td>18</td>\n",
       "      <td>4</td>\n",
       "    </tr>\n",
       "    <tr>\n",
       "      <th>660675</th>\n",
       "      <td>201091NM01881</td>\n",
       "      <td>Slight</td>\n",
       "      <td>2022-02-21</td>\n",
       "      <td>57.232273</td>\n",
       "      <td>Darkness - no lighting</td>\n",
       "      <td>Highland</td>\n",
       "      <td>-3.809281</td>\n",
       "      <td>1</td>\n",
       "      <td>1</td>\n",
       "      <td>Frost or ice</td>\n",
       "      <td>Single carriageway</td>\n",
       "      <td>Rural</td>\n",
       "      <td>Fine no high winds</td>\n",
       "      <td>Car</td>\n",
       "      <td>2022</td>\n",
       "      <td>2</td>\n",
       "      <td>21</td>\n",
       "      <td>0</td>\n",
       "    </tr>\n",
       "    <tr>\n",
       "      <th>660676</th>\n",
       "      <td>201091NM01935</td>\n",
       "      <td>Slight</td>\n",
       "      <td>2022-02-23</td>\n",
       "      <td>57.585044</td>\n",
       "      <td>Daylight</td>\n",
       "      <td>Highland</td>\n",
       "      <td>-3.862727</td>\n",
       "      <td>1</td>\n",
       "      <td>3</td>\n",
       "      <td>Frost or ice</td>\n",
       "      <td>Single carriageway</td>\n",
       "      <td>Rural</td>\n",
       "      <td>Fine no high winds</td>\n",
       "      <td>Car</td>\n",
       "      <td>2022</td>\n",
       "      <td>2</td>\n",
       "      <td>23</td>\n",
       "      <td>2</td>\n",
       "    </tr>\n",
       "    <tr>\n",
       "      <th>660677</th>\n",
       "      <td>201091NM01964</td>\n",
       "      <td>Serious</td>\n",
       "      <td>2022-02-23</td>\n",
       "      <td>57.214898</td>\n",
       "      <td>Darkness - no lighting</td>\n",
       "      <td>Highland</td>\n",
       "      <td>-3.823997</td>\n",
       "      <td>1</td>\n",
       "      <td>2</td>\n",
       "      <td>Wet or damp</td>\n",
       "      <td>Single carriageway</td>\n",
       "      <td>Rural</td>\n",
       "      <td>Fine no high winds</td>\n",
       "      <td>Motorcycle over 500cc</td>\n",
       "      <td>2022</td>\n",
       "      <td>2</td>\n",
       "      <td>23</td>\n",
       "      <td>2</td>\n",
       "    </tr>\n",
       "    <tr>\n",
       "      <th>660678</th>\n",
       "      <td>201091NM02142</td>\n",
       "      <td>Serious</td>\n",
       "      <td>2022-02-28</td>\n",
       "      <td>57.575210</td>\n",
       "      <td>Daylight</td>\n",
       "      <td>Highland</td>\n",
       "      <td>-3.895673</td>\n",
       "      <td>1</td>\n",
       "      <td>1</td>\n",
       "      <td>Wet or damp</td>\n",
       "      <td>Dual carriageway</td>\n",
       "      <td>Rural</td>\n",
       "      <td>Snowing no high winds</td>\n",
       "      <td>Car</td>\n",
       "      <td>2022</td>\n",
       "      <td>2</td>\n",
       "      <td>28</td>\n",
       "      <td>0</td>\n",
       "    </tr>\n",
       "  </tbody>\n",
       "</table>\n",
       "<p>660679 rows × 18 columns</p>\n",
       "</div>"
      ],
      "text/plain": [
       "                Index Accident_Severity Accident Date   Latitude  \\\n",
       "0       200701BS64157           Serious    2019-06-05  51.506187   \n",
       "1       200701BS65737           Serious    2019-07-02  51.495029   \n",
       "2       200701BS66127           Serious    2019-08-26  51.517715   \n",
       "3       200701BS66128           Serious    2019-08-16  51.495478   \n",
       "4       200701BS66837            Slight    2019-09-03  51.488576   \n",
       "...               ...               ...           ...        ...   \n",
       "660674  201091NM01760            Slight    2022-02-18  57.374005   \n",
       "660675  201091NM01881            Slight    2022-02-21  57.232273   \n",
       "660676  201091NM01935            Slight    2022-02-23  57.585044   \n",
       "660677  201091NM01964           Serious    2022-02-23  57.214898   \n",
       "660678  201091NM02142           Serious    2022-02-28  57.575210   \n",
       "\n",
       "                   Light_Conditions           District Area Longitude  \\\n",
       "0             Darkness - lights lit  Kensington and Chelsea -0.209082   \n",
       "1                          Daylight  Kensington and Chelsea -0.173647   \n",
       "2       Darkness - lighting unknown  Kensington and Chelsea -0.210215   \n",
       "3                          Daylight  Kensington and Chelsea -0.202731   \n",
       "4             Darkness - lights lit  Kensington and Chelsea -0.192487   \n",
       "...                             ...                     ...       ...   \n",
       "660674                     Daylight                Highland -3.467828   \n",
       "660675       Darkness - no lighting                Highland -3.809281   \n",
       "660676                     Daylight                Highland -3.862727   \n",
       "660677       Darkness - no lighting                Highland -3.823997   \n",
       "660678                     Daylight                Highland -3.895673   \n",
       "\n",
       "        Number_of_Casualties  Number_of_Vehicles Road_Surface_Conditions  \\\n",
       "0                          1                   2                     Dry   \n",
       "1                          1                   2             Wet or damp   \n",
       "2                          1                   3                     Dry   \n",
       "3                          1                   4                     Dry   \n",
       "4                          1                   2                     Dry   \n",
       "...                      ...                 ...                     ...   \n",
       "660674                     2                   1                     Dry   \n",
       "660675                     1                   1            Frost or ice   \n",
       "660676                     1                   3            Frost or ice   \n",
       "660677                     1                   2             Wet or damp   \n",
       "660678                     1                   1             Wet or damp   \n",
       "\n",
       "                 Road_Type Urban_or_Rural_Area     Weather_Conditions  \\\n",
       "0       Single carriageway               Urban     Fine no high winds   \n",
       "1       Single carriageway               Urban  Raining no high winds   \n",
       "2       Single carriageway               Urban     Fine no high winds   \n",
       "3       Single carriageway               Urban     Fine no high winds   \n",
       "4       Single carriageway               Urban     Fine no high winds   \n",
       "...                    ...                 ...                    ...   \n",
       "660674  Single carriageway               Rural     Fine no high winds   \n",
       "660675  Single carriageway               Rural     Fine no high winds   \n",
       "660676  Single carriageway               Rural     Fine no high winds   \n",
       "660677  Single carriageway               Rural     Fine no high winds   \n",
       "660678    Dual carriageway               Rural  Snowing no high winds   \n",
       "\n",
       "                                Vehicle_Type  year  Month  Day  DayOfWeek  \n",
       "0                                        Car  2019      6    5          2  \n",
       "1                                        Car  2019      7    2          1  \n",
       "2                      Taxi/Private hire car  2019      8   26          0  \n",
       "3       Bus or coach (17 or more pass seats)  2019      8   16          4  \n",
       "4                              Other vehicle  2019      9    3          1  \n",
       "...                                      ...   ...    ...  ...        ...  \n",
       "660674                                   Car  2022      2   18          4  \n",
       "660675                                   Car  2022      2   21          0  \n",
       "660676                                   Car  2022      2   23          2  \n",
       "660677                 Motorcycle over 500cc  2022      2   23          2  \n",
       "660678                                   Car  2022      2   28          0  \n",
       "\n",
       "[660679 rows x 18 columns]"
      ]
     },
     "execution_count": 62,
     "metadata": {},
     "output_type": "execute_result"
    }
   ],
   "source": [
    "accident"
   ]
  },
  {
   "cell_type": "code",
   "execution_count": 63,
   "id": "6f502156-1eb4-4bfa-bc05-758dedfaa92b",
   "metadata": {},
   "outputs": [
    {
     "data": {
      "text/plain": [
       "Index                      370\n",
       "Accident_Severity          370\n",
       "Accident Date              370\n",
       "Latitude                   370\n",
       "Light_Conditions           370\n",
       "District Area              370\n",
       "Longitude                  370\n",
       "Number_of_Casualties       370\n",
       "Number_of_Vehicles         370\n",
       "Road_Surface_Conditions    370\n",
       "Road_Type                  370\n",
       "Urban_or_Rural_Area        370\n",
       "Weather_Conditions         370\n",
       "Vehicle_Type               370\n",
       "year                       370\n",
       "Month                      370\n",
       "Day                        370\n",
       "DayOfWeek                  370\n",
       "dtype: int64"
      ]
     },
     "execution_count": 63,
     "metadata": {},
     "output_type": "execute_result"
    }
   ],
   "source": [
    "accident[(accident['Accident_Severity'] == 'Serious') & (accident['District Area'] == 'Kensington and Chelsea')].count()"
   ]
  },
  {
   "cell_type": "code",
   "execution_count": 64,
   "id": "501dd535-fec6-4852-ac73-8ab7bb0c78ce",
   "metadata": {},
   "outputs": [
    {
     "data": {
      "text/plain": [
       "Index                      2412\n",
       "Accident_Severity          2412\n",
       "Accident Date              2412\n",
       "Latitude                   2412\n",
       "Light_Conditions           2412\n",
       "District Area              2412\n",
       "Longitude                  2412\n",
       "Number_of_Casualties       2412\n",
       "Number_of_Vehicles         2412\n",
       "Road_Surface_Conditions    2412\n",
       "Road_Type                  2412\n",
       "Urban_or_Rural_Area        2412\n",
       "Weather_Conditions         2412\n",
       "Vehicle_Type               2412\n",
       "year                       2412\n",
       "Month                      2412\n",
       "Day                        2412\n",
       "DayOfWeek                  2412\n",
       "dtype: int64"
      ]
     },
     "execution_count": 64,
     "metadata": {},
     "output_type": "execute_result"
    }
   ],
   "source": [
    "accident[(accident['Accident_Severity'] == 'Slight') & (accident['District Area'] == 'Kensington and Chelsea')].count()"
   ]
  },
  {
   "cell_type": "code",
   "execution_count": 65,
   "id": "71b7b23b-ff6a-4b33-98ed-cd206045e620",
   "metadata": {},
   "outputs": [
    {
     "data": {
      "text/plain": [
       "Index                      17\n",
       "Accident_Severity          17\n",
       "Accident Date              17\n",
       "Latitude                   17\n",
       "Light_Conditions           17\n",
       "District Area              17\n",
       "Longitude                  17\n",
       "Number_of_Casualties       17\n",
       "Number_of_Vehicles         17\n",
       "Road_Surface_Conditions    17\n",
       "Road_Type                  17\n",
       "Urban_or_Rural_Area        17\n",
       "Weather_Conditions         17\n",
       "Vehicle_Type               17\n",
       "year                       17\n",
       "Month                      17\n",
       "Day                        17\n",
       "DayOfWeek                  17\n",
       "dtype: int64"
      ]
     },
     "execution_count": 65,
     "metadata": {},
     "output_type": "execute_result"
    }
   ],
   "source": [
    "accident[(accident['Accident_Severity'] == 'Fatal') & (accident['District Area'] == 'Kensington and Chelsea')].count()"
   ]
  },
  {
   "cell_type": "markdown",
   "id": "0e0da9c4-e464-482a-a226-da8fe103e1b3",
   "metadata": {},
   "source": [
    "<h1>INSIGHT 2</h1>\n",
    "<h2> Accident Severity in HighLand Area</h2>"
   ]
  },
  {
   "cell_type": "code",
   "execution_count": 66,
   "id": "a0100072-cb4a-46ca-a616-86194a16ae80",
   "metadata": {},
   "outputs": [
    {
     "data": {
      "text/plain": [
       "Index                      1589\n",
       "Accident_Severity          1589\n",
       "Accident Date              1589\n",
       "Latitude                   1589\n",
       "Light_Conditions           1589\n",
       "District Area              1589\n",
       "Longitude                  1589\n",
       "Number_of_Casualties       1589\n",
       "Number_of_Vehicles         1589\n",
       "Road_Surface_Conditions    1589\n",
       "Road_Type                  1589\n",
       "Urban_or_Rural_Area        1589\n",
       "Weather_Conditions         1589\n",
       "Vehicle_Type               1589\n",
       "year                       1589\n",
       "Month                      1589\n",
       "Day                        1589\n",
       "DayOfWeek                  1589\n",
       "dtype: int64"
      ]
     },
     "execution_count": 66,
     "metadata": {},
     "output_type": "execute_result"
    }
   ],
   "source": [
    "accident[(accident['Accident_Severity'] == 'Slight') & (accident['District Area'] == 'Highland')].count()"
   ]
  },
  {
   "cell_type": "code",
   "execution_count": 67,
   "id": "2d3cfeca-4ed4-4d88-aff0-30e17bb75991",
   "metadata": {},
   "outputs": [
    {
     "data": {
      "text/plain": [
       "Index                      88\n",
       "Accident_Severity          88\n",
       "Accident Date              88\n",
       "Latitude                   88\n",
       "Light_Conditions           88\n",
       "District Area              88\n",
       "Longitude                  88\n",
       "Number_of_Casualties       88\n",
       "Number_of_Vehicles         88\n",
       "Road_Surface_Conditions    88\n",
       "Road_Type                  88\n",
       "Urban_or_Rural_Area        88\n",
       "Weather_Conditions         88\n",
       "Vehicle_Type               88\n",
       "year                       88\n",
       "Month                      88\n",
       "Day                        88\n",
       "DayOfWeek                  88\n",
       "dtype: int64"
      ]
     },
     "execution_count": 67,
     "metadata": {},
     "output_type": "execute_result"
    }
   ],
   "source": [
    "accident[(accident['Accident_Severity'] == 'Fatal') & (accident['District Area'] == 'Highland')].count()"
   ]
  },
  {
   "cell_type": "code",
   "execution_count": 68,
   "id": "27259204-7737-48af-b96f-a68f44733ab4",
   "metadata": {},
   "outputs": [
    {
     "data": {
      "text/plain": [
       "Index                      344\n",
       "Accident_Severity          344\n",
       "Accident Date              344\n",
       "Latitude                   344\n",
       "Light_Conditions           344\n",
       "District Area              344\n",
       "Longitude                  344\n",
       "Number_of_Casualties       344\n",
       "Number_of_Vehicles         344\n",
       "Road_Surface_Conditions    344\n",
       "Road_Type                  344\n",
       "Urban_or_Rural_Area        344\n",
       "Weather_Conditions         344\n",
       "Vehicle_Type               344\n",
       "year                       344\n",
       "Month                      344\n",
       "Day                        344\n",
       "DayOfWeek                  344\n",
       "dtype: int64"
      ]
     },
     "execution_count": 68,
     "metadata": {},
     "output_type": "execute_result"
    }
   ],
   "source": [
    "accident[(accident['Accident_Severity'] == 'Serious') & (accident['District Area'] == 'Highland')].count()"
   ]
  },
  {
   "cell_type": "code",
   "execution_count": 69,
   "id": "6aa6774f-fd95-42ec-ba46-e56908bb036f",
   "metadata": {},
   "outputs": [
    {
     "data": {
      "text/plain": [
       "District Area\n",
       "Birmingham            13491\n",
       "Leeds                  8898\n",
       "Manchester             6720\n",
       "Bradford               6212\n",
       "Sheffield              5710\n",
       "                      ...  \n",
       "Berwick-upon-Tweed      153\n",
       "Teesdale                142\n",
       "Shetland Islands        133\n",
       "Orkney Islands          117\n",
       "Clackmannanshire         91\n",
       "Name: count, Length: 422, dtype: int64"
      ]
     },
     "execution_count": 69,
     "metadata": {},
     "output_type": "execute_result"
    }
   ],
   "source": [
    "accident['District Area'].value_counts()"
   ]
  },
  {
   "cell_type": "code",
   "execution_count": 70,
   "id": "b5f8441d-fe19-4f64-b77e-b764395829e9",
   "metadata": {},
   "outputs": [
    {
     "data": {
      "text/plain": [
       "Index                      1474\n",
       "Accident_Severity          1474\n",
       "Accident Date              1474\n",
       "Latitude                   1474\n",
       "Light_Conditions           1474\n",
       "District Area              1474\n",
       "Longitude                  1474\n",
       "Number_of_Casualties       1474\n",
       "Number_of_Vehicles         1474\n",
       "Road_Surface_Conditions    1474\n",
       "Road_Type                  1474\n",
       "Urban_or_Rural_Area        1474\n",
       "Weather_Conditions         1474\n",
       "Vehicle_Type               1474\n",
       "year                       1474\n",
       "Month                      1474\n",
       "Day                        1474\n",
       "DayOfWeek                  1474\n",
       "dtype: int64"
      ]
     },
     "execution_count": 70,
     "metadata": {},
     "output_type": "execute_result"
    }
   ],
   "source": [
    "accident[(accident['Accident_Severity'] == 'Serious') & (accident['District Area'] == 'Birmingham')].count()"
   ]
  },
  {
   "cell_type": "code",
   "execution_count": 71,
   "id": "c6206945-f002-41de-a98b-44b5b327e332",
   "metadata": {},
   "outputs": [
    {
     "data": {
      "text/plain": [
       "Index                      105\n",
       "Accident_Severity          105\n",
       "Accident Date              105\n",
       "Latitude                   105\n",
       "Light_Conditions           105\n",
       "District Area              105\n",
       "Longitude                  105\n",
       "Number_of_Casualties       105\n",
       "Number_of_Vehicles         105\n",
       "Road_Surface_Conditions    105\n",
       "Road_Type                  105\n",
       "Urban_or_Rural_Area        105\n",
       "Weather_Conditions         105\n",
       "Vehicle_Type               105\n",
       "year                       105\n",
       "Month                      105\n",
       "Day                        105\n",
       "DayOfWeek                  105\n",
       "dtype: int64"
      ]
     },
     "execution_count": 71,
     "metadata": {},
     "output_type": "execute_result"
    }
   ],
   "source": [
    "accident[(accident['Accident_Severity'] == 'Fatal') & (accident['District Area'] == 'Birmingham')].count()"
   ]
  },
  {
   "cell_type": "code",
   "execution_count": 72,
   "id": "23234b2a-7e56-470a-aee1-f0ee1b25d133",
   "metadata": {},
   "outputs": [
    {
     "data": {
      "text/plain": [
       "Index                      11912\n",
       "Accident_Severity          11912\n",
       "Accident Date              11912\n",
       "Latitude                   11912\n",
       "Light_Conditions           11912\n",
       "District Area              11912\n",
       "Longitude                  11912\n",
       "Number_of_Casualties       11912\n",
       "Number_of_Vehicles         11912\n",
       "Road_Surface_Conditions    11912\n",
       "Road_Type                  11912\n",
       "Urban_or_Rural_Area        11912\n",
       "Weather_Conditions         11912\n",
       "Vehicle_Type               11912\n",
       "year                       11912\n",
       "Month                      11912\n",
       "Day                        11912\n",
       "DayOfWeek                  11912\n",
       "dtype: int64"
      ]
     },
     "execution_count": 72,
     "metadata": {},
     "output_type": "execute_result"
    }
   ],
   "source": [
    "accident[(accident['Accident_Severity'] == 'Slight') & (accident['District Area'] == 'Birmingham')].count()"
   ]
  },
  {
   "cell_type": "code",
   "execution_count": null,
   "id": "e6e2fe1a-9647-4a71-8c42-5115b4de6fd3",
   "metadata": {},
   "outputs": [],
   "source": []
  },
  {
   "cell_type": "markdown",
   "id": "a341dd15-e7b8-4c52-a88b-57705a260f34",
   "metadata": {},
   "source": [
    "<h1>What is the most common type in Road Surface Conditions </h1>"
   ]
  },
  {
   "cell_type": "code",
   "execution_count": 73,
   "id": "f80927e4-d4ba-4692-8a2e-331e796a7540",
   "metadata": {},
   "outputs": [],
   "source": [
    "road_sur_con = accident['Road_Surface_Conditions'].mode()[0]"
   ]
  },
  {
   "cell_type": "code",
   "execution_count": 74,
   "id": "deb47d57-8231-4657-a7d4-450f28961769",
   "metadata": {},
   "outputs": [
    {
     "data": {
      "text/plain": [
       "'Dry'"
      ]
     },
     "execution_count": 74,
     "metadata": {},
     "output_type": "execute_result"
    }
   ],
   "source": [
    "road_sur_con"
   ]
  },
  {
   "cell_type": "markdown",
   "id": "09c8b7cb-0f7b-4026-ae4b-142dd2a86280",
   "metadata": {},
   "source": [
    "<h2>Insight3: The most common Road Surface Conditions is the Dry conditions</h2>"
   ]
  },
  {
   "cell_type": "markdown",
   "id": "facb9752-d049-4b81-8b62-de10a9162ec1",
   "metadata": {},
   "source": [
    "<h1>Number of Casualties in year 2019</h1>"
   ]
  },
  {
   "cell_type": "code",
   "execution_count": 75,
   "id": "109a9230-e222-4634-9cf2-aef112a039f6",
   "metadata": {},
   "outputs": [],
   "source": [
    "yr19 = accident[accident['year'] == 2019]"
   ]
  },
  {
   "cell_type": "code",
   "execution_count": 76,
   "id": "8a1183cb-5efc-4e71-85d1-e625f0220b18",
   "metadata": {},
   "outputs": [
    {
     "data": {
      "text/html": [
       "<div>\n",
       "<style scoped>\n",
       "    .dataframe tbody tr th:only-of-type {\n",
       "        vertical-align: middle;\n",
       "    }\n",
       "\n",
       "    .dataframe tbody tr th {\n",
       "        vertical-align: top;\n",
       "    }\n",
       "\n",
       "    .dataframe thead th {\n",
       "        text-align: right;\n",
       "    }\n",
       "</style>\n",
       "<table border=\"1\" class=\"dataframe\">\n",
       "  <thead>\n",
       "    <tr style=\"text-align: right;\">\n",
       "      <th></th>\n",
       "      <th>Index</th>\n",
       "      <th>Accident_Severity</th>\n",
       "      <th>Accident Date</th>\n",
       "      <th>Latitude</th>\n",
       "      <th>Light_Conditions</th>\n",
       "      <th>District Area</th>\n",
       "      <th>Longitude</th>\n",
       "      <th>Number_of_Casualties</th>\n",
       "      <th>Number_of_Vehicles</th>\n",
       "      <th>Road_Surface_Conditions</th>\n",
       "      <th>Road_Type</th>\n",
       "      <th>Urban_or_Rural_Area</th>\n",
       "      <th>Weather_Conditions</th>\n",
       "      <th>Vehicle_Type</th>\n",
       "      <th>year</th>\n",
       "      <th>Month</th>\n",
       "      <th>Day</th>\n",
       "      <th>DayOfWeek</th>\n",
       "    </tr>\n",
       "  </thead>\n",
       "  <tbody>\n",
       "    <tr>\n",
       "      <th>0</th>\n",
       "      <td>200701BS64157</td>\n",
       "      <td>Serious</td>\n",
       "      <td>2019-06-05</td>\n",
       "      <td>51.506187</td>\n",
       "      <td>Darkness - lights lit</td>\n",
       "      <td>Kensington and Chelsea</td>\n",
       "      <td>-0.209082</td>\n",
       "      <td>1</td>\n",
       "      <td>2</td>\n",
       "      <td>Dry</td>\n",
       "      <td>Single carriageway</td>\n",
       "      <td>Urban</td>\n",
       "      <td>Fine no high winds</td>\n",
       "      <td>Car</td>\n",
       "      <td>2019</td>\n",
       "      <td>6</td>\n",
       "      <td>5</td>\n",
       "      <td>2</td>\n",
       "    </tr>\n",
       "    <tr>\n",
       "      <th>1</th>\n",
       "      <td>200701BS65737</td>\n",
       "      <td>Serious</td>\n",
       "      <td>2019-07-02</td>\n",
       "      <td>51.495029</td>\n",
       "      <td>Daylight</td>\n",
       "      <td>Kensington and Chelsea</td>\n",
       "      <td>-0.173647</td>\n",
       "      <td>1</td>\n",
       "      <td>2</td>\n",
       "      <td>Wet or damp</td>\n",
       "      <td>Single carriageway</td>\n",
       "      <td>Urban</td>\n",
       "      <td>Raining no high winds</td>\n",
       "      <td>Car</td>\n",
       "      <td>2019</td>\n",
       "      <td>7</td>\n",
       "      <td>2</td>\n",
       "      <td>1</td>\n",
       "    </tr>\n",
       "    <tr>\n",
       "      <th>2</th>\n",
       "      <td>200701BS66127</td>\n",
       "      <td>Serious</td>\n",
       "      <td>2019-08-26</td>\n",
       "      <td>51.517715</td>\n",
       "      <td>Darkness - lighting unknown</td>\n",
       "      <td>Kensington and Chelsea</td>\n",
       "      <td>-0.210215</td>\n",
       "      <td>1</td>\n",
       "      <td>3</td>\n",
       "      <td>Dry</td>\n",
       "      <td>Single carriageway</td>\n",
       "      <td>Urban</td>\n",
       "      <td>Fine no high winds</td>\n",
       "      <td>Taxi/Private hire car</td>\n",
       "      <td>2019</td>\n",
       "      <td>8</td>\n",
       "      <td>26</td>\n",
       "      <td>0</td>\n",
       "    </tr>\n",
       "    <tr>\n",
       "      <th>3</th>\n",
       "      <td>200701BS66128</td>\n",
       "      <td>Serious</td>\n",
       "      <td>2019-08-16</td>\n",
       "      <td>51.495478</td>\n",
       "      <td>Daylight</td>\n",
       "      <td>Kensington and Chelsea</td>\n",
       "      <td>-0.202731</td>\n",
       "      <td>1</td>\n",
       "      <td>4</td>\n",
       "      <td>Dry</td>\n",
       "      <td>Single carriageway</td>\n",
       "      <td>Urban</td>\n",
       "      <td>Fine no high winds</td>\n",
       "      <td>Bus or coach (17 or more pass seats)</td>\n",
       "      <td>2019</td>\n",
       "      <td>8</td>\n",
       "      <td>16</td>\n",
       "      <td>4</td>\n",
       "    </tr>\n",
       "    <tr>\n",
       "      <th>4</th>\n",
       "      <td>200701BS66837</td>\n",
       "      <td>Slight</td>\n",
       "      <td>2019-09-03</td>\n",
       "      <td>51.488576</td>\n",
       "      <td>Darkness - lights lit</td>\n",
       "      <td>Kensington and Chelsea</td>\n",
       "      <td>-0.192487</td>\n",
       "      <td>1</td>\n",
       "      <td>2</td>\n",
       "      <td>Dry</td>\n",
       "      <td>Single carriageway</td>\n",
       "      <td>Urban</td>\n",
       "      <td>Fine no high winds</td>\n",
       "      <td>Other vehicle</td>\n",
       "      <td>2019</td>\n",
       "      <td>9</td>\n",
       "      <td>3</td>\n",
       "      <td>1</td>\n",
       "    </tr>\n",
       "    <tr>\n",
       "      <th>...</th>\n",
       "      <td>...</td>\n",
       "      <td>...</td>\n",
       "      <td>...</td>\n",
       "      <td>...</td>\n",
       "      <td>...</td>\n",
       "      <td>...</td>\n",
       "      <td>...</td>\n",
       "      <td>...</td>\n",
       "      <td>...</td>\n",
       "      <td>...</td>\n",
       "      <td>...</td>\n",
       "      <td>...</td>\n",
       "      <td>...</td>\n",
       "      <td>...</td>\n",
       "      <td>...</td>\n",
       "      <td>...</td>\n",
       "      <td>...</td>\n",
       "      <td>...</td>\n",
       "    </tr>\n",
       "    <tr>\n",
       "      <th>182110</th>\n",
       "      <td>2.01E+12</td>\n",
       "      <td>Slight</td>\n",
       "      <td>2019-12-20</td>\n",
       "      <td>54.985289</td>\n",
       "      <td>Darkness - no lighting</td>\n",
       "      <td>Dumfries and Galloway</td>\n",
       "      <td>-3.210294</td>\n",
       "      <td>1</td>\n",
       "      <td>1</td>\n",
       "      <td>Frost or ice</td>\n",
       "      <td>Single carriageway</td>\n",
       "      <td>Rural</td>\n",
       "      <td>Other</td>\n",
       "      <td>Car</td>\n",
       "      <td>2019</td>\n",
       "      <td>12</td>\n",
       "      <td>20</td>\n",
       "      <td>4</td>\n",
       "    </tr>\n",
       "    <tr>\n",
       "      <th>182111</th>\n",
       "      <td>2.01E+12</td>\n",
       "      <td>Serious</td>\n",
       "      <td>2019-12-21</td>\n",
       "      <td>54.984105</td>\n",
       "      <td>Daylight</td>\n",
       "      <td>Dumfries and Galloway</td>\n",
       "      <td>-3.193693</td>\n",
       "      <td>2</td>\n",
       "      <td>1</td>\n",
       "      <td>Frost or ice</td>\n",
       "      <td>Single carriageway</td>\n",
       "      <td>Rural</td>\n",
       "      <td>Other</td>\n",
       "      <td>Car</td>\n",
       "      <td>2019</td>\n",
       "      <td>12</td>\n",
       "      <td>21</td>\n",
       "      <td>5</td>\n",
       "    </tr>\n",
       "    <tr>\n",
       "      <th>182112</th>\n",
       "      <td>2.01E+12</td>\n",
       "      <td>Slight</td>\n",
       "      <td>2019-12-23</td>\n",
       "      <td>55.166369</td>\n",
       "      <td>Darkness - no lighting</td>\n",
       "      <td>Dumfries and Galloway</td>\n",
       "      <td>-2.992068</td>\n",
       "      <td>1</td>\n",
       "      <td>1</td>\n",
       "      <td>Frost or ice</td>\n",
       "      <td>Single carriageway</td>\n",
       "      <td>Rural</td>\n",
       "      <td>Fog or mist</td>\n",
       "      <td>Van / Goods 3.5 tonnes mgw or under</td>\n",
       "      <td>2019</td>\n",
       "      <td>12</td>\n",
       "      <td>23</td>\n",
       "      <td>0</td>\n",
       "    </tr>\n",
       "    <tr>\n",
       "      <th>182113</th>\n",
       "      <td>2.01E+12</td>\n",
       "      <td>Slight</td>\n",
       "      <td>2019-12-23</td>\n",
       "      <td>54.995154</td>\n",
       "      <td>Darkness - lights lit</td>\n",
       "      <td>Dumfries and Galloway</td>\n",
       "      <td>-3.058338</td>\n",
       "      <td>1</td>\n",
       "      <td>1</td>\n",
       "      <td>Wet or damp</td>\n",
       "      <td>Single carriageway</td>\n",
       "      <td>Rural</td>\n",
       "      <td>Fine no high winds</td>\n",
       "      <td>Car</td>\n",
       "      <td>2019</td>\n",
       "      <td>12</td>\n",
       "      <td>23</td>\n",
       "      <td>0</td>\n",
       "    </tr>\n",
       "    <tr>\n",
       "      <th>182114</th>\n",
       "      <td>2.01E+12</td>\n",
       "      <td>Serious</td>\n",
       "      <td>2019-12-22</td>\n",
       "      <td>55.104618</td>\n",
       "      <td>Daylight</td>\n",
       "      <td>Dumfries and Galloway</td>\n",
       "      <td>-3.348857</td>\n",
       "      <td>2</td>\n",
       "      <td>2</td>\n",
       "      <td>Frost or ice</td>\n",
       "      <td>Single carriageway</td>\n",
       "      <td>Rural</td>\n",
       "      <td>Raining no high winds</td>\n",
       "      <td>Car</td>\n",
       "      <td>2019</td>\n",
       "      <td>12</td>\n",
       "      <td>22</td>\n",
       "      <td>6</td>\n",
       "    </tr>\n",
       "  </tbody>\n",
       "</table>\n",
       "<p>182115 rows × 18 columns</p>\n",
       "</div>"
      ],
      "text/plain": [
       "                Index Accident_Severity Accident Date   Latitude  \\\n",
       "0       200701BS64157           Serious    2019-06-05  51.506187   \n",
       "1       200701BS65737           Serious    2019-07-02  51.495029   \n",
       "2       200701BS66127           Serious    2019-08-26  51.517715   \n",
       "3       200701BS66128           Serious    2019-08-16  51.495478   \n",
       "4       200701BS66837            Slight    2019-09-03  51.488576   \n",
       "...               ...               ...           ...        ...   \n",
       "182110       2.01E+12            Slight    2019-12-20  54.985289   \n",
       "182111       2.01E+12           Serious    2019-12-21  54.984105   \n",
       "182112       2.01E+12            Slight    2019-12-23  55.166369   \n",
       "182113       2.01E+12            Slight    2019-12-23  54.995154   \n",
       "182114       2.01E+12           Serious    2019-12-22  55.104618   \n",
       "\n",
       "                   Light_Conditions           District Area Longitude  \\\n",
       "0             Darkness - lights lit  Kensington and Chelsea -0.209082   \n",
       "1                          Daylight  Kensington and Chelsea -0.173647   \n",
       "2       Darkness - lighting unknown  Kensington and Chelsea -0.210215   \n",
       "3                          Daylight  Kensington and Chelsea -0.202731   \n",
       "4             Darkness - lights lit  Kensington and Chelsea -0.192487   \n",
       "...                             ...                     ...       ...   \n",
       "182110       Darkness - no lighting   Dumfries and Galloway -3.210294   \n",
       "182111                     Daylight   Dumfries and Galloway -3.193693   \n",
       "182112       Darkness - no lighting   Dumfries and Galloway -2.992068   \n",
       "182113        Darkness - lights lit   Dumfries and Galloway -3.058338   \n",
       "182114                     Daylight   Dumfries and Galloway -3.348857   \n",
       "\n",
       "        Number_of_Casualties  Number_of_Vehicles Road_Surface_Conditions  \\\n",
       "0                          1                   2                     Dry   \n",
       "1                          1                   2             Wet or damp   \n",
       "2                          1                   3                     Dry   \n",
       "3                          1                   4                     Dry   \n",
       "4                          1                   2                     Dry   \n",
       "...                      ...                 ...                     ...   \n",
       "182110                     1                   1            Frost or ice   \n",
       "182111                     2                   1            Frost or ice   \n",
       "182112                     1                   1            Frost or ice   \n",
       "182113                     1                   1             Wet or damp   \n",
       "182114                     2                   2            Frost or ice   \n",
       "\n",
       "                 Road_Type Urban_or_Rural_Area     Weather_Conditions  \\\n",
       "0       Single carriageway               Urban     Fine no high winds   \n",
       "1       Single carriageway               Urban  Raining no high winds   \n",
       "2       Single carriageway               Urban     Fine no high winds   \n",
       "3       Single carriageway               Urban     Fine no high winds   \n",
       "4       Single carriageway               Urban     Fine no high winds   \n",
       "...                    ...                 ...                    ...   \n",
       "182110  Single carriageway               Rural                  Other   \n",
       "182111  Single carriageway               Rural                  Other   \n",
       "182112  Single carriageway               Rural            Fog or mist   \n",
       "182113  Single carriageway               Rural     Fine no high winds   \n",
       "182114  Single carriageway               Rural  Raining no high winds   \n",
       "\n",
       "                                Vehicle_Type  year  Month  Day  DayOfWeek  \n",
       "0                                        Car  2019      6    5          2  \n",
       "1                                        Car  2019      7    2          1  \n",
       "2                      Taxi/Private hire car  2019      8   26          0  \n",
       "3       Bus or coach (17 or more pass seats)  2019      8   16          4  \n",
       "4                              Other vehicle  2019      9    3          1  \n",
       "...                                      ...   ...    ...  ...        ...  \n",
       "182110                                   Car  2019     12   20          4  \n",
       "182111                                   Car  2019     12   21          5  \n",
       "182112   Van / Goods 3.5 tonnes mgw or under  2019     12   23          0  \n",
       "182113                                   Car  2019     12   23          0  \n",
       "182114                                   Car  2019     12   22          6  \n",
       "\n",
       "[182115 rows x 18 columns]"
      ]
     },
     "execution_count": 76,
     "metadata": {},
     "output_type": "execute_result"
    }
   ],
   "source": [
    "yr19"
   ]
  },
  {
   "cell_type": "code",
   "execution_count": 77,
   "id": "cba9d21b-082e-4715-a1be-198f2d6ca8fb",
   "metadata": {},
   "outputs": [
    {
     "data": {
      "text/plain": [
       "np.int64(182115)"
      ]
     },
     "execution_count": 77,
     "metadata": {},
     "output_type": "execute_result"
    }
   ],
   "source": [
    "yr19['Number_of_Casualties'].value_counts().sum()"
   ]
  },
  {
   "cell_type": "markdown",
   "id": "2a335b1c-90a2-496e-8e5c-47c11086f516",
   "metadata": {},
   "source": [
    "<h2>Insight4: There are 182,155 casualties in total, year 2019</h2>"
   ]
  },
  {
   "cell_type": "markdown",
   "id": "c0ce4b0c-bad0-4e98-a2d9-71a5f55eba19",
   "metadata": {},
   "source": [
    "<h1>Number of Casualties in year 2020</h1>"
   ]
  },
  {
   "cell_type": "code",
   "execution_count": 78,
   "id": "0ea28cf4-286d-491f-bdaa-0d200252e9c4",
   "metadata": {},
   "outputs": [],
   "source": [
    "yr20 = accident[accident['year'] == 2020]"
   ]
  },
  {
   "cell_type": "code",
   "execution_count": 79,
   "id": "999acc6e-ce05-4df0-b475-38d4ef312474",
   "metadata": {},
   "outputs": [
    {
     "data": {
      "text/plain": [
       "np.int64(170591)"
      ]
     },
     "execution_count": 79,
     "metadata": {},
     "output_type": "execute_result"
    }
   ],
   "source": [
    "yr20['Number_of_Casualties'].value_counts().sum()"
   ]
  },
  {
   "cell_type": "markdown",
   "id": "8ff9ac71-91fe-437d-889d-261e08b80ddb",
   "metadata": {},
   "source": [
    "<h2>Insight5: There are 170,591 casualties in year 2020</h2>"
   ]
  },
  {
   "cell_type": "markdown",
   "id": "8afc73d9-2105-44d7-b15b-0fe8588220c7",
   "metadata": {},
   "source": [
    "<h1>Number of Casualties in year 2021</h1>"
   ]
  },
  {
   "cell_type": "code",
   "execution_count": 80,
   "id": "e0278411-ad0c-4270-9bde-8ad0c8834db3",
   "metadata": {},
   "outputs": [],
   "source": [
    "yr21 = accident[accident['year'] == 2021]"
   ]
  },
  {
   "cell_type": "code",
   "execution_count": 81,
   "id": "5e5fe729-be99-47c7-bd42-08421eafdd80",
   "metadata": {},
   "outputs": [
    {
     "data": {
      "text/plain": [
       "np.int64(163554)"
      ]
     },
     "execution_count": 81,
     "metadata": {},
     "output_type": "execute_result"
    }
   ],
   "source": [
    "yr21['Number_of_Casualties'].value_counts().sum()"
   ]
  },
  {
   "cell_type": "markdown",
   "id": "21b2b162-ce01-4e9a-bf8c-b88b6732aca6",
   "metadata": {},
   "source": [
    "<h2>Insight6: There are 163,554 casualties in year 2021</h2>"
   ]
  },
  {
   "cell_type": "markdown",
   "id": "57365e76-83ec-48d2-821f-7509d83c9822",
   "metadata": {},
   "source": [
    "<h1>Number of Casualties in year 2022</h1>"
   ]
  },
  {
   "cell_type": "code",
   "execution_count": 82,
   "id": "aba1caeb-7e2e-4659-8a27-c8b27e7bed1b",
   "metadata": {},
   "outputs": [],
   "source": [
    "yr22 = accident[accident['year'] == 2022] "
   ]
  },
  {
   "cell_type": "code",
   "execution_count": 83,
   "id": "268f529a-134a-48e7-bf41-8b266be60809",
   "metadata": {},
   "outputs": [
    {
     "data": {
      "text/plain": [
       "np.int64(144419)"
      ]
     },
     "execution_count": 83,
     "metadata": {},
     "output_type": "execute_result"
    }
   ],
   "source": [
    "yr22['Number_of_Casualties'].value_counts().sum()"
   ]
  },
  {
   "cell_type": "markdown",
   "id": "9efae405-6927-4add-a608-e4143b3fa76d",
   "metadata": {},
   "source": [
    "<h2>Insight7: There are 144,419 casualties in year 2022</h2>"
   ]
  },
  {
   "cell_type": "markdown",
   "id": "db45e048-a033-458e-91af-fbc78c453844",
   "metadata": {},
   "source": [
    "<h1>How many accident happened in Rural_Urban area (2019)</h1>"
   ]
  },
  {
   "cell_type": "code",
   "execution_count": 84,
   "id": "7e6d323a-3c91-4810-b2f0-bc7501bc7fe4",
   "metadata": {},
   "outputs": [
    {
     "data": {
      "text/plain": [
       "Urban_or_Rural_Area\n",
       "Urban          114552\n",
       "Rural           67558\n",
       "Unallocated         5\n",
       "Name: count, dtype: int64"
      ]
     },
     "execution_count": 84,
     "metadata": {},
     "output_type": "execute_result"
    }
   ],
   "source": [
    "yr19 = accident[accident['year'] == 2019]\n",
    "yr19['Urban_or_Rural_Area'].value_counts()"
   ]
  },
  {
   "cell_type": "markdown",
   "id": "672e1b31-2d22-4ec3-976e-dd80fbe296c6",
   "metadata": {},
   "source": [
    "<h2>Insight 8: In 2019, Most accident happened in Urban Area  </h2>"
   ]
  },
  {
   "cell_type": "markdown",
   "id": "b82d1654-c6ca-448b-9896-03d159c23f6d",
   "metadata": {},
   "source": [
    "<h1>How many accident happened in Rural_Urban area (2020)</h1>"
   ]
  },
  {
   "cell_type": "code",
   "execution_count": 85,
   "id": "cff25c55-d905-4095-b9ba-99e7bf21936d",
   "metadata": {},
   "outputs": [
    {
     "data": {
      "text/plain": [
       "Urban_or_Rural_Area\n",
       "Urban          108594\n",
       "Rural           61991\n",
       "Unallocated         6\n",
       "Name: count, dtype: int64"
      ]
     },
     "execution_count": 85,
     "metadata": {},
     "output_type": "execute_result"
    }
   ],
   "source": [
    "yr20 = accident[accident['year'] == 2020]\n",
    "yr20['Urban_or_Rural_Area'].value_counts()"
   ]
  },
  {
   "cell_type": "markdown",
   "id": "8763218f-ee96-4af0-98b4-dbab0077ec7d",
   "metadata": {},
   "source": [
    "<h2>Insight 9: Just like the insight 8, but in year 2020. Most accident happened in Urban Area </h2>"
   ]
  },
  {
   "cell_type": "markdown",
   "id": "f26b18c7-c4a2-475b-925d-7275c40b1909",
   "metadata": {},
   "source": [
    "<h1>How many accident happened in Rural_Urban area (2021)</h1>"
   ]
  },
  {
   "cell_type": "code",
   "execution_count": 86,
   "id": "e1ab3fb9-20f3-4103-8066-6288f89448f7",
   "metadata": {},
   "outputs": [
    {
     "data": {
      "text/plain": [
       "Urban_or_Rural_Area\n",
       "Urban          104538\n",
       "Rural           59016\n",
       "Unallocated         0\n",
       "Name: count, dtype: int64"
      ]
     },
     "execution_count": 86,
     "metadata": {},
     "output_type": "execute_result"
    }
   ],
   "source": [
    "yr21 = accident[accident['year'] == 2021]\n",
    "yr21['Urban_or_Rural_Area'].value_counts()"
   ]
  },
  {
   "cell_type": "markdown",
   "id": "d363612f-3a1b-4d95-91c3-8933b4004051",
   "metadata": {},
   "source": [
    "<h2>Insight 10: There are 104538 accident happened in Urban area while in Rural are 59016</h2>"
   ]
  },
  {
   "cell_type": "markdown",
   "id": "64468131-ee1a-4c67-9633-d3e3d5539b3b",
   "metadata": {},
   "source": [
    "<h1>How many accident happened in Rural_Urban area (2022)</h1>"
   ]
  },
  {
   "cell_type": "code",
   "execution_count": 87,
   "id": "a6e2bcec-9d7a-4a58-8074-b15c93366fda",
   "metadata": {},
   "outputs": [
    {
     "data": {
      "text/plain": [
       "Urban_or_Rural_Area\n",
       "Urban          93994\n",
       "Rural          50425\n",
       "Unallocated        0\n",
       "Name: count, dtype: int64"
      ]
     },
     "execution_count": 87,
     "metadata": {},
     "output_type": "execute_result"
    }
   ],
   "source": [
    "yr22 = accident[accident['year'] == 2022]\n",
    "yr22['Urban_or_Rural_Area'].value_counts()"
   ]
  },
  {
   "cell_type": "markdown",
   "id": "b828fbf5-da62-47c4-9655-94b45341e884",
   "metadata": {},
   "source": [
    "<h2>Insight 11: There are 93,994 accident happened in Urban area while in Rural are 50425</h2>"
   ]
  },
  {
   "cell_type": "raw",
   "id": "f68fc549-331b-4574-b6f9-c2bb38d9f7ed",
   "metadata": {},
   "source": []
  },
  {
   "cell_type": "markdown",
   "id": "92ca1482-c951-4516-9b8a-17c9461e2702",
   "metadata": {},
   "source": [
    "<h1> INSIGHT 12</h1>"
   ]
  },
  {
   "cell_type": "code",
   "execution_count": 88,
   "id": "768139ca-27ec-44d5-b65e-cfb83d016f38",
   "metadata": {},
   "outputs": [],
   "source": [
    "accident_insight = accident.groupby(['Number_of_Casualties', 'Accident Date']).size()"
   ]
  },
  {
   "cell_type": "code",
   "execution_count": 89,
   "id": "689419fd-32c8-428b-84d8-d3b1e762f0b0",
   "metadata": {},
   "outputs": [
    {
     "data": {
      "text/plain": [
       "Number_of_Casualties  Accident Date\n",
       "1                     2019-01-01       240\n",
       "                      2019-01-02       284\n",
       "                      2019-01-03       294\n",
       "                      2019-01-04       306\n",
       "                      2019-01-05       342\n",
       "                                      ... \n",
       "45                    2020-09-26         1\n",
       "47                    2020-07-17         1\n",
       "48                    2021-12-22         1\n",
       "62                    2020-08-18         1\n",
       "68                    2019-01-03         1\n",
       "Length: 9056, dtype: int64"
      ]
     },
     "execution_count": 89,
     "metadata": {},
     "output_type": "execute_result"
    }
   ],
   "source": [
    "accident_insight"
   ]
  },
  {
   "cell_type": "markdown",
   "id": "1f5cbe48-50cb-454a-ad02-7b25d73cf7a5",
   "metadata": {},
   "source": [
    "<h1> Insight 13: Most common type of vehicle prone to accident</h1>"
   ]
  },
  {
   "cell_type": "code",
   "execution_count": 90,
   "id": "6aa970e4-e8c1-4af0-bb37-0d93e291d35c",
   "metadata": {},
   "outputs": [
    {
     "data": {
      "text/plain": [
       "'Car'"
      ]
     },
     "execution_count": 90,
     "metadata": {},
     "output_type": "execute_result"
    }
   ],
   "source": [
    "accident['Vehicle_Type'].mode()[0]"
   ]
  },
  {
   "cell_type": "markdown",
   "id": "b7543c61-eec4-4036-a3c7-677a6bea0ca8",
   "metadata": {},
   "source": [
    "<h1>What is the common Weather Conditions</h1>"
   ]
  },
  {
   "cell_type": "code",
   "execution_count": 91,
   "id": "8dada586-c685-4f32-8b80-5c311a22efb7",
   "metadata": {},
   "outputs": [],
   "source": [
    "weather_con = accident['Weather_Conditions'].mode()[0]"
   ]
  },
  {
   "cell_type": "code",
   "execution_count": 92,
   "id": "960da071-3217-4468-a6f7-805d63d119ea",
   "metadata": {},
   "outputs": [
    {
     "data": {
      "text/plain": [
       "'Fine no high winds'"
      ]
     },
     "execution_count": 92,
     "metadata": {},
     "output_type": "execute_result"
    }
   ],
   "source": [
    "weather_con"
   ]
  },
  {
   "cell_type": "markdown",
   "id": "0a028c63-332f-406a-a894-532cef52f4a0",
   "metadata": {},
   "source": [
    "<h2>Insight 14: The most common weather conditions is fine no high winds </h2>"
   ]
  },
  {
   "cell_type": "markdown",
   "id": "fce81164-4987-45b9-a359-49019a1e8f95",
   "metadata": {},
   "source": [
    "<h1>Accident by District Area</h1>"
   ]
  },
  {
   "cell_type": "code",
   "execution_count": 93,
   "id": "5ddaf37c-12fb-4a32-b984-ed91cfb1f4a0",
   "metadata": {},
   "outputs": [],
   "source": [
    "accidentbyDistrict = accident['District Area'].value_counts()"
   ]
  },
  {
   "cell_type": "code",
   "execution_count": 94,
   "id": "5a02934f-3b54-413d-9d47-a9fdb9558f40",
   "metadata": {},
   "outputs": [
    {
     "data": {
      "text/plain": [
       "District Area\n",
       "Birmingham            13491\n",
       "Leeds                  8898\n",
       "Manchester             6720\n",
       "Bradford               6212\n",
       "Sheffield              5710\n",
       "                      ...  \n",
       "Berwick-upon-Tweed      153\n",
       "Teesdale                142\n",
       "Shetland Islands        133\n",
       "Orkney Islands          117\n",
       "Clackmannanshire         91\n",
       "Name: count, Length: 422, dtype: int64"
      ]
     },
     "execution_count": 94,
     "metadata": {},
     "output_type": "execute_result"
    }
   ],
   "source": [
    "accidentbyDistrict"
   ]
  },
  {
   "cell_type": "markdown",
   "id": "744020d7-2cad-4b22-9309-4576cb63850c",
   "metadata": {},
   "source": [
    "<h2>Insight 15: BIRMINGHAM the most number of accident </h2>"
   ]
  },
  {
   "cell_type": "markdown",
   "id": "884c9db6-0df6-4a6a-afd3-f9004d4b10ce",
   "metadata": {},
   "source": [
    "<h1>16: what is the total number of Casualties in All accident?</h1>"
   ]
  },
  {
   "cell_type": "code",
   "execution_count": 95,
   "id": "5fc3bf48-0d86-48c2-9423-7f4f3ac6b8c9",
   "metadata": {},
   "outputs": [],
   "source": [
    "sum_casualties = accident['Number_of_Casualties'].sum()"
   ]
  },
  {
   "cell_type": "code",
   "execution_count": 96,
   "id": "50678cc3-5a4a-49ef-b7e6-c2bfeab55140",
   "metadata": {},
   "outputs": [
    {
     "data": {
      "text/plain": [
       "np.int64(896568)"
      ]
     },
     "execution_count": 96,
     "metadata": {},
     "output_type": "execute_result"
    }
   ],
   "source": [
    "sum_casualties"
   ]
  },
  {
   "cell_type": "markdown",
   "id": "a0da0c7e-0b9b-4404-a317-e3b7043bbc6b",
   "metadata": {},
   "source": [
    "<h2>Insight16: The total number of Casualties happened in all accident is around 896,568 </h2>"
   ]
  },
  {
   "cell_type": "markdown",
   "id": "cd9a8247-28a2-4e83-8816-cb5f4357b47f",
   "metadata": {},
   "source": [
    "<h1> What is the total Number_of_Vehicles in All accident?</h1>"
   ]
  },
  {
   "cell_type": "code",
   "execution_count": 97,
   "id": "73399eae-7a2f-4922-b986-04271fe51016",
   "metadata": {},
   "outputs": [],
   "source": [
    "sum_vehicles = accident['Number_of_Vehicles'].sum()"
   ]
  },
  {
   "cell_type": "code",
   "execution_count": 98,
   "id": "28474de5-0988-4744-bd94-61abdd24dd46",
   "metadata": {},
   "outputs": [
    {
     "data": {
      "text/plain": [
       "np.int64(1209872)"
      ]
     },
     "execution_count": 98,
     "metadata": {},
     "output_type": "execute_result"
    }
   ],
   "source": [
    "sum_vehicles"
   ]
  },
  {
   "cell_type": "markdown",
   "id": "f05f4858-f28a-4049-8ddc-ecf936fe0ab5",
   "metadata": {},
   "source": [
    "<h2>Insight17.</h2>"
   ]
  },
  {
   "cell_type": "markdown",
   "id": "f43d86e8-ed37-418a-8932-36948cfaf5a1",
   "metadata": {},
   "source": [
    "<h1> Which District Area have the most number of Casualties</h1>"
   ]
  },
  {
   "cell_type": "code",
   "execution_count": 99,
   "id": "72a53400-66d3-40a8-9118-81a88d813db6",
   "metadata": {},
   "outputs": [
    {
     "name": "stderr",
     "output_type": "stream",
     "text": [
      "C:\\Users\\LAB5-StudentPC12\\AppData\\Local\\Temp\\ipykernel_12612\\1293022102.py:1: FutureWarning: The default of observed=False is deprecated and will be changed to True in a future version of pandas. Pass observed=False to retain current behavior or observed=True to adopt the future default and silence this warning.\n",
      "  casualties_district = accident.groupby('District Area')['Number_of_Casualties'].sum()\n"
     ]
    }
   ],
   "source": [
    "casualties_district = accident.groupby('District Area')['Number_of_Casualties'].sum()"
   ]
  },
  {
   "cell_type": "code",
   "execution_count": 100,
   "id": "a5924ddb-2d81-470b-a850-51967239af9d",
   "metadata": {},
   "outputs": [
    {
     "data": {
      "text/plain": [
       "District Area\n",
       "Aberdeen City    1508\n",
       "Aberdeenshire    2529\n",
       "Adur              817\n",
       "Allerdale        1663\n",
       "Alnwick           351\n",
       "                 ... \n",
       "Wychavon         1943\n",
       "Wycombe          2442\n",
       "Wyre             1706\n",
       "Wyre Forest      1340\n",
       "York             2453\n",
       "Name: Number_of_Casualties, Length: 422, dtype: int64"
      ]
     },
     "execution_count": 100,
     "metadata": {},
     "output_type": "execute_result"
    }
   ],
   "source": [
    "casualties_district"
   ]
  },
  {
   "cell_type": "markdown",
   "id": "8c1b661b-2c38-4a88-9c24-1342e87c307d",
   "metadata": {},
   "source": [
    "<h2>Insight18: So the Aberdeen City has the most number of Casualties</h2>"
   ]
  },
  {
   "cell_type": "markdown",
   "id": "583582bc-a1b1-48dc-b3a0-4f8c091a564c",
   "metadata": {},
   "source": [
    "<h1>19</h1>"
   ]
  },
  {
   "cell_type": "code",
   "execution_count": 101,
   "id": "dfca3804-10e0-4d42-bcd8-6a13674ddb33",
   "metadata": {},
   "outputs": [
    {
     "name": "stdout",
     "output_type": "stream",
     "text": [
      "<class 'pandas.core.frame.DataFrame'>\n",
      "RangeIndex: 660679 entries, 0 to 660678\n",
      "Data columns (total 18 columns):\n",
      " #   Column                   Non-Null Count   Dtype         \n",
      "---  ------                   --------------   -----         \n",
      " 0   Index                    660679 non-null  object        \n",
      " 1   Accident_Severity        660679 non-null  category      \n",
      " 2   Accident Date            660679 non-null  datetime64[ns]\n",
      " 3   Latitude                 660679 non-null  category      \n",
      " 4   Light_Conditions         660679 non-null  category      \n",
      " 5   District Area            660679 non-null  category      \n",
      " 6   Longitude                660679 non-null  category      \n",
      " 7   Number_of_Casualties     660679 non-null  int64         \n",
      " 8   Number_of_Vehicles       660679 non-null  int64         \n",
      " 9   Road_Surface_Conditions  660679 non-null  category      \n",
      " 10  Road_Type                660679 non-null  category      \n",
      " 11  Urban_or_Rural_Area      660679 non-null  category      \n",
      " 12  Weather_Conditions       660679 non-null  category      \n",
      " 13  Vehicle_Type             660679 non-null  category      \n",
      " 14  year                     660679 non-null  int32         \n",
      " 15  Month                    660679 non-null  int32         \n",
      " 16  Day                      660679 non-null  int32         \n",
      " 17  DayOfWeek                660679 non-null  int32         \n",
      "dtypes: category(10), datetime64[ns](1), int32(4), int64(2), object(1)\n",
      "memory usage: 81.2+ MB\n"
     ]
    }
   ],
   "source": [
    "accident.info()"
   ]
  },
  {
   "cell_type": "code",
   "execution_count": 102,
   "id": "0b636d60-9206-49e5-848a-bca356e31b6c",
   "metadata": {},
   "outputs": [
    {
     "name": "stderr",
     "output_type": "stream",
     "text": [
      "C:\\Users\\LAB5-StudentPC12\\AppData\\Local\\Temp\\ipykernel_12612\\1246519302.py:1: FutureWarning: The default of observed=False is deprecated and will be changed to True in a future version of pandas. Pass observed=False to retain current behavior or observed=True to adopt the future default and silence this warning.\n",
      "  accident.groupby('Vehicle_Type')['Accident_Severity'].value_counts()\n"
     ]
    },
    {
     "data": {
      "text/plain": [
       "Vehicle_Type                           Accident_Severity\n",
       "Agricultural vehicle                   Slight                 1644\n",
       "                                       Serious                 282\n",
       "                                       Fatal                    21\n",
       "Bus or coach (17 or more pass seats)   Slight                22180\n",
       "                                       Serious                3373\n",
       "                                       Fatal                   325\n",
       "Car                                    Slight               424954\n",
       "                                       Serious               66461\n",
       "                                       Fatal                  6577\n",
       "Data missing or out of range           Slight                    6\n",
       "                                       Fatal                     0\n",
       "                                       Serious                   0\n",
       "Goods 7.5 tonnes mgw and over          Slight                14770\n",
       "                                       Serious                2321\n",
       "                                       Fatal                   216\n",
       "Goods over 3.5t. and under 7.5t        Slight                 5172\n",
       "                                       Serious                 857\n",
       "                                       Fatal                    67\n",
       "Minibus (8 - 16 passenger seats)       Slight                 1671\n",
       "                                       Serious                 276\n",
       "                                       Fatal                    29\n",
       "Motorcycle 125cc and under             Slight                13049\n",
       "                                       Serious                2031\n",
       "                                       Fatal                   189\n",
       "Motorcycle 50cc and under              Slight                 6494\n",
       "                                       Serious                1014\n",
       "                                       Fatal                    95\n",
       "Motorcycle over 125cc and up to 500cc  Slight                 6537\n",
       "                                       Serious                1014\n",
       "                                       Fatal                   105\n",
       "Motorcycle over 500cc                  Slight                21861\n",
       "                                       Serious                3457\n",
       "                                       Fatal                   339\n",
       "Other vehicle                          Slight                 4800\n",
       "                                       Serious                 767\n",
       "                                       Fatal                    70\n",
       "Pedal cycle                            Slight                  152\n",
       "                                       Serious                  39\n",
       "                                       Fatal                     6\n",
       "Ridden horse                           Slight                    4\n",
       "                                       Fatal                     0\n",
       "                                       Serious                   0\n",
       "Taxi/Private hire car                  Slight                11368\n",
       "                                       Serious                1771\n",
       "                                       Fatal                   155\n",
       "Van / Goods 3.5 tonnes mgw or under    Slight                29139\n",
       "                                       Serious                4554\n",
       "                                       Fatal                   467\n",
       "Name: count, dtype: int64"
      ]
     },
     "execution_count": 102,
     "metadata": {},
     "output_type": "execute_result"
    }
   ],
   "source": [
    "accident.groupby('Vehicle_Type')['Accident_Severity'].value_counts()"
   ]
  },
  {
   "cell_type": "code",
   "execution_count": null,
   "id": "981710eb-3a15-44d1-bfbb-fd807a5d4da0",
   "metadata": {},
   "outputs": [],
   "source": []
  },
  {
   "cell_type": "markdown",
   "id": "fd066b52-b06c-48aa-8481-5327210e2a03",
   "metadata": {},
   "source": [
    "<h1>Insight 20:</h1>"
   ]
  },
  {
   "cell_type": "code",
   "execution_count": 103,
   "id": "2552d54c-469e-4fc3-83f2-607a7407966b",
   "metadata": {},
   "outputs": [
    {
     "name": "stderr",
     "output_type": "stream",
     "text": [
      "C:\\Users\\LAB5-StudentPC12\\AppData\\Local\\Temp\\ipykernel_12612\\807559471.py:1: FutureWarning: The default of observed=False is deprecated and will be changed to True in a future version of pandas. Pass observed=False to retain current behavior or observed=True to adopt the future default and silence this warning.\n",
      "  casualties_roadWeather = accident.groupby(['Road_Type', 'Weather_Conditions'])['Number_of_Casualties'].sum().unstack()\n"
     ]
    }
   ],
   "source": [
    "casualties_roadWeather = accident.groupby(['Road_Type', 'Weather_Conditions'])['Number_of_Casualties'].sum().unstack()"
   ]
  },
  {
   "cell_type": "code",
   "execution_count": 104,
   "id": "f270aa86-20a2-44d4-837c-7839c490ee16",
   "metadata": {},
   "outputs": [
    {
     "data": {
      "text/html": [
       "<div>\n",
       "<style scoped>\n",
       "    .dataframe tbody tr th:only-of-type {\n",
       "        vertical-align: middle;\n",
       "    }\n",
       "\n",
       "    .dataframe tbody tr th {\n",
       "        vertical-align: top;\n",
       "    }\n",
       "\n",
       "    .dataframe thead th {\n",
       "        text-align: right;\n",
       "    }\n",
       "</style>\n",
       "<table border=\"1\" class=\"dataframe\">\n",
       "  <thead>\n",
       "    <tr style=\"text-align: right;\">\n",
       "      <th>Weather_Conditions</th>\n",
       "      <th>Fine + high winds</th>\n",
       "      <th>Fine no high winds</th>\n",
       "      <th>Fog or mist</th>\n",
       "      <th>Other</th>\n",
       "      <th>Raining + high winds</th>\n",
       "      <th>Raining no high winds</th>\n",
       "      <th>Snowing + high winds</th>\n",
       "      <th>Snowing no high winds</th>\n",
       "    </tr>\n",
       "    <tr>\n",
       "      <th>Road_Type</th>\n",
       "      <th></th>\n",
       "      <th></th>\n",
       "      <th></th>\n",
       "      <th></th>\n",
       "      <th></th>\n",
       "      <th></th>\n",
       "      <th></th>\n",
       "      <th></th>\n",
       "    </tr>\n",
       "  </thead>\n",
       "  <tbody>\n",
       "    <tr>\n",
       "      <th>Dual carriageway</th>\n",
       "      <td>2191</td>\n",
       "      <td>116022</td>\n",
       "      <td>1136</td>\n",
       "      <td>3246</td>\n",
       "      <td>3000</td>\n",
       "      <td>19598</td>\n",
       "      <td>257</td>\n",
       "      <td>1427</td>\n",
       "    </tr>\n",
       "    <tr>\n",
       "      <th>One way street</th>\n",
       "      <td>187</td>\n",
       "      <td>13482</td>\n",
       "      <td>36</td>\n",
       "      <td>381</td>\n",
       "      <td>200</td>\n",
       "      <td>1775</td>\n",
       "      <td>15</td>\n",
       "      <td>96</td>\n",
       "    </tr>\n",
       "    <tr>\n",
       "      <th>Roundabout</th>\n",
       "      <td>720</td>\n",
       "      <td>45619</td>\n",
       "      <td>293</td>\n",
       "      <td>1408</td>\n",
       "      <td>706</td>\n",
       "      <td>6911</td>\n",
       "      <td>46</td>\n",
       "      <td>382</td>\n",
       "    </tr>\n",
       "    <tr>\n",
       "      <th>Single carriageway</th>\n",
       "      <td>8610</td>\n",
       "      <td>537717</td>\n",
       "      <td>3615</td>\n",
       "      <td>17939</td>\n",
       "      <td>9562</td>\n",
       "      <td>82663</td>\n",
       "      <td>924</td>\n",
       "      <td>6380</td>\n",
       "    </tr>\n",
       "    <tr>\n",
       "      <th>Slip road</th>\n",
       "      <td>148</td>\n",
       "      <td>8035</td>\n",
       "      <td>46</td>\n",
       "      <td>262</td>\n",
       "      <td>153</td>\n",
       "      <td>1282</td>\n",
       "      <td>13</td>\n",
       "      <td>85</td>\n",
       "    </tr>\n",
       "  </tbody>\n",
       "</table>\n",
       "</div>"
      ],
      "text/plain": [
       "Weather_Conditions  Fine + high winds  Fine no high winds  Fog or mist  Other  \\\n",
       "Road_Type                                                                       \n",
       "Dual carriageway                 2191              116022         1136   3246   \n",
       "One way street                    187               13482           36    381   \n",
       "Roundabout                        720               45619          293   1408   \n",
       "Single carriageway               8610              537717         3615  17939   \n",
       "Slip road                         148                8035           46    262   \n",
       "\n",
       "Weather_Conditions  Raining + high winds  Raining no high winds  \\\n",
       "Road_Type                                                         \n",
       "Dual carriageway                    3000                  19598   \n",
       "One way street                       200                   1775   \n",
       "Roundabout                           706                   6911   \n",
       "Single carriageway                  9562                  82663   \n",
       "Slip road                            153                   1282   \n",
       "\n",
       "Weather_Conditions  Snowing + high winds  Snowing no high winds  \n",
       "Road_Type                                                        \n",
       "Dual carriageway                     257                   1427  \n",
       "One way street                        15                     96  \n",
       "Roundabout                            46                    382  \n",
       "Single carriageway                   924                   6380  \n",
       "Slip road                             13                     85  "
      ]
     },
     "execution_count": 104,
     "metadata": {},
     "output_type": "execute_result"
    }
   ],
   "source": [
    "casualties_roadWeather"
   ]
  },
  {
   "cell_type": "code",
   "execution_count": 105,
   "id": "1a6ddf5b-f33f-43eb-aff5-b791ad7762f0",
   "metadata": {},
   "outputs": [],
   "source": [
    "percentage_weather = casualties_roadWeather.div(casualties_roadWeather.sum().sum())*100"
   ]
  },
  {
   "cell_type": "code",
   "execution_count": 106,
   "id": "a6765afd-c5dc-4175-9652-9986729f3f62",
   "metadata": {},
   "outputs": [
    {
     "data": {
      "text/html": [
       "<div>\n",
       "<style scoped>\n",
       "    .dataframe tbody tr th:only-of-type {\n",
       "        vertical-align: middle;\n",
       "    }\n",
       "\n",
       "    .dataframe tbody tr th {\n",
       "        vertical-align: top;\n",
       "    }\n",
       "\n",
       "    .dataframe thead th {\n",
       "        text-align: right;\n",
       "    }\n",
       "</style>\n",
       "<table border=\"1\" class=\"dataframe\">\n",
       "  <thead>\n",
       "    <tr style=\"text-align: right;\">\n",
       "      <th>Weather_Conditions</th>\n",
       "      <th>Fine + high winds</th>\n",
       "      <th>Fine no high winds</th>\n",
       "      <th>Fog or mist</th>\n",
       "      <th>Other</th>\n",
       "      <th>Raining + high winds</th>\n",
       "      <th>Raining no high winds</th>\n",
       "      <th>Snowing + high winds</th>\n",
       "      <th>Snowing no high winds</th>\n",
       "    </tr>\n",
       "    <tr>\n",
       "      <th>Road_Type</th>\n",
       "      <th></th>\n",
       "      <th></th>\n",
       "      <th></th>\n",
       "      <th></th>\n",
       "      <th></th>\n",
       "      <th></th>\n",
       "      <th></th>\n",
       "      <th></th>\n",
       "    </tr>\n",
       "  </thead>\n",
       "  <tbody>\n",
       "    <tr>\n",
       "      <th>Dual carriageway</th>\n",
       "      <td>0.244376</td>\n",
       "      <td>12.940680</td>\n",
       "      <td>0.126705</td>\n",
       "      <td>0.362047</td>\n",
       "      <td>0.334609</td>\n",
       "      <td>2.185891</td>\n",
       "      <td>0.028665</td>\n",
       "      <td>0.159162</td>\n",
       "    </tr>\n",
       "    <tr>\n",
       "      <th>One way street</th>\n",
       "      <td>0.020857</td>\n",
       "      <td>1.503734</td>\n",
       "      <td>0.004015</td>\n",
       "      <td>0.042495</td>\n",
       "      <td>0.022307</td>\n",
       "      <td>0.197977</td>\n",
       "      <td>0.001673</td>\n",
       "      <td>0.010707</td>\n",
       "    </tr>\n",
       "    <tr>\n",
       "      <th>Roundabout</th>\n",
       "      <td>0.080306</td>\n",
       "      <td>5.088181</td>\n",
       "      <td>0.032680</td>\n",
       "      <td>0.157043</td>\n",
       "      <td>0.078745</td>\n",
       "      <td>0.770828</td>\n",
       "      <td>0.005131</td>\n",
       "      <td>0.042607</td>\n",
       "    </tr>\n",
       "    <tr>\n",
       "      <th>Single carriageway</th>\n",
       "      <td>0.960329</td>\n",
       "      <td>59.975038</td>\n",
       "      <td>0.403204</td>\n",
       "      <td>2.000852</td>\n",
       "      <td>1.066511</td>\n",
       "      <td>9.219936</td>\n",
       "      <td>0.103060</td>\n",
       "      <td>0.711602</td>\n",
       "    </tr>\n",
       "    <tr>\n",
       "      <th>Slip road</th>\n",
       "      <td>0.016507</td>\n",
       "      <td>0.896195</td>\n",
       "      <td>0.005131</td>\n",
       "      <td>0.029223</td>\n",
       "      <td>0.017065</td>\n",
       "      <td>0.142990</td>\n",
       "      <td>0.001450</td>\n",
       "      <td>0.009481</td>\n",
       "    </tr>\n",
       "  </tbody>\n",
       "</table>\n",
       "</div>"
      ],
      "text/plain": [
       "Weather_Conditions  Fine + high winds  Fine no high winds  Fog or mist  \\\n",
       "Road_Type                                                                \n",
       "Dual carriageway             0.244376           12.940680     0.126705   \n",
       "One way street               0.020857            1.503734     0.004015   \n",
       "Roundabout                   0.080306            5.088181     0.032680   \n",
       "Single carriageway           0.960329           59.975038     0.403204   \n",
       "Slip road                    0.016507            0.896195     0.005131   \n",
       "\n",
       "Weather_Conditions     Other  Raining + high winds  Raining no high winds  \\\n",
       "Road_Type                                                                   \n",
       "Dual carriageway    0.362047              0.334609               2.185891   \n",
       "One way street      0.042495              0.022307               0.197977   \n",
       "Roundabout          0.157043              0.078745               0.770828   \n",
       "Single carriageway  2.000852              1.066511               9.219936   \n",
       "Slip road           0.029223              0.017065               0.142990   \n",
       "\n",
       "Weather_Conditions  Snowing + high winds  Snowing no high winds  \n",
       "Road_Type                                                        \n",
       "Dual carriageway                0.028665               0.159162  \n",
       "One way street                  0.001673               0.010707  \n",
       "Roundabout                      0.005131               0.042607  \n",
       "Single carriageway              0.103060               0.711602  \n",
       "Slip road                       0.001450               0.009481  "
      ]
     },
     "execution_count": 106,
     "metadata": {},
     "output_type": "execute_result"
    }
   ],
   "source": [
    "percentage_weather"
   ]
  },
  {
   "cell_type": "markdown",
   "id": "cee86b17-1a95-4b23-acc6-bc6065f8bf0d",
   "metadata": {},
   "source": [
    "<h1>AREA ANALYSIS</h1>"
   ]
  },
  {
   "cell_type": "code",
   "execution_count": 107,
   "id": "5ed3327a-9722-4bc0-bda2-ab40333bdec3",
   "metadata": {},
   "outputs": [
    {
     "name": "stderr",
     "output_type": "stream",
     "text": [
      "C:\\Users\\LAB5-StudentPC12\\AppData\\Local\\Temp\\ipykernel_12612\\2463351748.py:1: FutureWarning: The default of observed=False is deprecated and will be changed to True in a future version of pandas. Pass observed=False to retain current behavior or observed=True to adopt the future default and silence this warning.\n",
      "  area = accident.groupby(['District Area', 'year']).size().reset_index(name = 'Accident_Count')\n"
     ]
    },
    {
     "data": {
      "text/html": [
       "<div>\n",
       "<style scoped>\n",
       "    .dataframe tbody tr th:only-of-type {\n",
       "        vertical-align: middle;\n",
       "    }\n",
       "\n",
       "    .dataframe tbody tr th {\n",
       "        vertical-align: top;\n",
       "    }\n",
       "\n",
       "    .dataframe thead th {\n",
       "        text-align: right;\n",
       "    }\n",
       "</style>\n",
       "<table border=\"1\" class=\"dataframe\">\n",
       "  <thead>\n",
       "    <tr style=\"text-align: right;\">\n",
       "      <th>District Area</th>\n",
       "      <th>Aberdeen City</th>\n",
       "      <th>Aberdeenshire</th>\n",
       "      <th>Adur</th>\n",
       "      <th>Allerdale</th>\n",
       "      <th>Alnwick</th>\n",
       "      <th>Amber Valley</th>\n",
       "      <th>Angus</th>\n",
       "      <th>Argyll and Bute</th>\n",
       "      <th>Arun</th>\n",
       "      <th>Ashfield</th>\n",
       "      <th>...</th>\n",
       "      <th>Wokingham</th>\n",
       "      <th>Wolverhampton</th>\n",
       "      <th>Worcester</th>\n",
       "      <th>Worthing</th>\n",
       "      <th>Wrexham</th>\n",
       "      <th>Wychavon</th>\n",
       "      <th>Wycombe</th>\n",
       "      <th>Wyre</th>\n",
       "      <th>Wyre Forest</th>\n",
       "      <th>York</th>\n",
       "    </tr>\n",
       "    <tr>\n",
       "      <th>year</th>\n",
       "      <th></th>\n",
       "      <th></th>\n",
       "      <th></th>\n",
       "      <th></th>\n",
       "      <th></th>\n",
       "      <th></th>\n",
       "      <th></th>\n",
       "      <th></th>\n",
       "      <th></th>\n",
       "      <th></th>\n",
       "      <th></th>\n",
       "      <th></th>\n",
       "      <th></th>\n",
       "      <th></th>\n",
       "      <th></th>\n",
       "      <th></th>\n",
       "      <th></th>\n",
       "      <th></th>\n",
       "      <th></th>\n",
       "      <th></th>\n",
       "      <th></th>\n",
       "    </tr>\n",
       "  </thead>\n",
       "  <tbody>\n",
       "    <tr>\n",
       "      <th>2019</th>\n",
       "      <td>365</td>\n",
       "      <td>552</td>\n",
       "      <td>171</td>\n",
       "      <td>305</td>\n",
       "      <td>107</td>\n",
       "      <td>397</td>\n",
       "      <td>282</td>\n",
       "      <td>268</td>\n",
       "      <td>367</td>\n",
       "      <td>401</td>\n",
       "      <td>...</td>\n",
       "      <td>356</td>\n",
       "      <td>710</td>\n",
       "      <td>215</td>\n",
       "      <td>291</td>\n",
       "      <td>333</td>\n",
       "      <td>366</td>\n",
       "      <td>502</td>\n",
       "      <td>328</td>\n",
       "      <td>230</td>\n",
       "      <td>503</td>\n",
       "    </tr>\n",
       "    <tr>\n",
       "      <th>2020</th>\n",
       "      <td>513</td>\n",
       "      <td>691</td>\n",
       "      <td>164</td>\n",
       "      <td>299</td>\n",
       "      <td>105</td>\n",
       "      <td>321</td>\n",
       "      <td>282</td>\n",
       "      <td>288</td>\n",
       "      <td>356</td>\n",
       "      <td>338</td>\n",
       "      <td>...</td>\n",
       "      <td>349</td>\n",
       "      <td>609</td>\n",
       "      <td>210</td>\n",
       "      <td>244</td>\n",
       "      <td>340</td>\n",
       "      <td>389</td>\n",
       "      <td>449</td>\n",
       "      <td>295</td>\n",
       "      <td>230</td>\n",
       "      <td>459</td>\n",
       "    </tr>\n",
       "    <tr>\n",
       "      <th>2021</th>\n",
       "      <td>445</td>\n",
       "      <td>687</td>\n",
       "      <td>155</td>\n",
       "      <td>298</td>\n",
       "      <td>20</td>\n",
       "      <td>335</td>\n",
       "      <td>232</td>\n",
       "      <td>280</td>\n",
       "      <td>338</td>\n",
       "      <td>340</td>\n",
       "      <td>...</td>\n",
       "      <td>303</td>\n",
       "      <td>633</td>\n",
       "      <td>239</td>\n",
       "      <td>255</td>\n",
       "      <td>318</td>\n",
       "      <td>323</td>\n",
       "      <td>397</td>\n",
       "      <td>321</td>\n",
       "      <td>273</td>\n",
       "      <td>484</td>\n",
       "    </tr>\n",
       "    <tr>\n",
       "      <th>2022</th>\n",
       "      <td>0</td>\n",
       "      <td>0</td>\n",
       "      <td>129</td>\n",
       "      <td>226</td>\n",
       "      <td>0</td>\n",
       "      <td>294</td>\n",
       "      <td>0</td>\n",
       "      <td>0</td>\n",
       "      <td>315</td>\n",
       "      <td>316</td>\n",
       "      <td>...</td>\n",
       "      <td>302</td>\n",
       "      <td>514</td>\n",
       "      <td>194</td>\n",
       "      <td>218</td>\n",
       "      <td>311</td>\n",
       "      <td>283</td>\n",
       "      <td>381</td>\n",
       "      <td>294</td>\n",
       "      <td>236</td>\n",
       "      <td>451</td>\n",
       "    </tr>\n",
       "  </tbody>\n",
       "</table>\n",
       "<p>4 rows × 422 columns</p>\n",
       "</div>"
      ],
      "text/plain": [
       "District Area  Aberdeen City  Aberdeenshire  Adur  Allerdale  Alnwick  \\\n",
       "year                                                                    \n",
       "2019                     365            552   171        305      107   \n",
       "2020                     513            691   164        299      105   \n",
       "2021                     445            687   155        298       20   \n",
       "2022                       0              0   129        226        0   \n",
       "\n",
       "District Area  Amber Valley  Angus  Argyll and Bute  Arun  Ashfield  ...  \\\n",
       "year                                                                 ...   \n",
       "2019                    397    282              268   367       401  ...   \n",
       "2020                    321    282              288   356       338  ...   \n",
       "2021                    335    232              280   338       340  ...   \n",
       "2022                    294      0                0   315       316  ...   \n",
       "\n",
       "District Area  Wokingham  Wolverhampton  Worcester  Worthing  Wrexham  \\\n",
       "year                                                                    \n",
       "2019                 356            710        215       291      333   \n",
       "2020                 349            609        210       244      340   \n",
       "2021                 303            633        239       255      318   \n",
       "2022                 302            514        194       218      311   \n",
       "\n",
       "District Area  Wychavon  Wycombe  Wyre  Wyre Forest  York  \n",
       "year                                                       \n",
       "2019                366      502   328          230   503  \n",
       "2020                389      449   295          230   459  \n",
       "2021                323      397   321          273   484  \n",
       "2022                283      381   294          236   451  \n",
       "\n",
       "[4 rows x 422 columns]"
      ]
     },
     "execution_count": 107,
     "metadata": {},
     "output_type": "execute_result"
    }
   ],
   "source": [
    "area = accident.groupby(['District Area', 'year']).size().reset_index(name = 'Accident_Count')\n",
    "pivot_table = area.pivot(index = 'year', columns = 'District Area', values= 'Accident_Count')\n",
    "\n",
    "pivot_table "
   ]
  },
  {
   "cell_type": "code",
   "execution_count": 108,
   "id": "1a89f312-46d8-4722-9b33-9bcf84f54723",
   "metadata": {},
   "outputs": [
    {
     "data": {
      "image/png": "[encoded data removed]",
      "text/plain": [
       "<Figure size 640x480 with 1 Axes>"
      ]
     },
     "metadata": {},
     "output_type": "display_data"
    }
   ],
   "source": [
    "plt.plot(pivot_table.index, pivot_table['Aberdeenshire'] )\n",
    "plt.plot(pivot_table.index, pivot_table['Adur'] )\n",
    "plt.plot(pivot_table.index, pivot_table['Allerdale'] )\n",
    "plt.plot(pivot_table.index, pivot_table['Alnwick'] )\n",
    "plt.plot(pivot_table.index, pivot_table['Amber Valley'] )\n",
    "plt.plot(pivot_table.index, pivot_table['Angus'] )\n",
    "plt.show()"
   ]
  },
  {
   "cell_type": "code",
   "execution_count": 109,
   "id": "51174d3f-eb6a-47e5-ae73-6b184ff9c318",
   "metadata": {},
   "outputs": [
    {
     "data": {
      "image/png": "[encoded data removed]",
      "text/plain": [
       "<Figure size 1300x800 with 1 Axes>"
      ]
     },
     "metadata": {},
     "output_type": "display_data"
    }
   ],
   "source": [
    "count = 0\n",
    "for x in pivot_table:\n",
    "    count += 1\n",
    "    plt.plot(pivot_table.index, pivot_table[x], label=x, marker ='s')\n",
    "    if count == 10:\n",
    "        break\n",
    "\n",
    "\n",
    "plt.gcf().set_size_inches(13,8)\n",
    "plt.legend()\n",
    "plt.show()"
   ]
  },
  {
   "cell_type": "code",
   "execution_count": 110,
   "id": "ea442230-c1e4-4401-9f21-9f1ce9dd02e3",
   "metadata": {},
   "outputs": [
    {
     "data": {
      "image/png": "[encoded data removed]",
      "text/plain": [
       "<Figure size 1300x800 with 1 Axes>"
      ]
     },
     "metadata": {},
     "output_type": "display_data"
    }
   ],
   "source": [
    "count = 0\n",
    "for x in pivot_table:\n",
    "    count += 1\n",
    "    plt.plot(pivot_table.index, pivot_table[x], label=x, marker ='s')\n",
    "    if count >= 11 and count <=20:\n",
    "        break\n",
    "\n",
    "\n",
    "plt.gcf().set_size_inches(13,8)\n",
    "plt.legend()\n",
    "plt.show()"
   ]
  },
  {
   "cell_type": "code",
   "execution_count": 111,
   "id": "ab6bf85f-30f0-4700-85f5-ff7288355042",
   "metadata": {},
   "outputs": [
    {
     "data": {
      "image/png": "[encoded data removed]",
      "text/plain": [
       "<Figure size 1300x800 with 1 Axes>"
      ]
     },
     "metadata": {},
     "output_type": "display_data"
    }
   ],
   "source": [
    "count = 21\n",
    "for x in pivot_table:\n",
    "    count += 1\n",
    "    plt.plot(pivot_table.index, pivot_table[x], label=x, marker ='s')\n",
    "    if count == 30:\n",
    "        break\n",
    "\n",
    "\n",
    "plt.gcf().set_size_inches(13,8)\n",
    "plt.legend()\n",
    "plt.show()"
   ]
  },
  {
   "cell_type": "markdown",
   "id": "d7aa3f80-a117-4e9f-9748-9ac3437ea7fb",
   "metadata": {},
   "source": [
    "<h1> VISUALIZING CORRELATION </h1>"
   ]
  },
  {
   "cell_type": "code",
   "execution_count": 112,
   "id": "78801ce0-3e0b-4dbb-bc5b-4273614a16f9",
   "metadata": {},
   "outputs": [
    {
     "name": "stderr",
     "output_type": "stream",
     "text": [
      "C:\\Users\\LAB5-StudentPC12\\AppData\\Local\\Temp\\ipykernel_12612\\970030927.py:1: FutureWarning: The default of observed=False is deprecated and will be changed to True in a future version of pandas. Pass observed=False to retain current behavior or observed=True to adopt the future default and silence this warning.\n",
      "  road = accident.groupby(['Road_Type', 'Vehicle_Type']).size().unstack()\n"
     ]
    },
    {
     "data": {
      "image/png": "[encoded data removed]",
      "text/plain": [
       "<Figure size 640x480 with 2 Axes>"
      ]
     },
     "metadata": {},
     "output_type": "display_data"
    }
   ],
   "source": [
    "road = accident.groupby(['Road_Type', 'Vehicle_Type']).size().unstack()\n",
    "\n",
    "\n",
    "\n",
    "sns.heatmap(road, cmap=\"pink\")\n",
    "plt.show()\n"
   ]
  },
  {
   "cell_type": "code",
   "execution_count": 113,
   "id": "122ab837-cc98-4afc-99a5-03386102978c",
   "metadata": {},
   "outputs": [
    {
     "name": "stderr",
     "output_type": "stream",
     "text": [
      "C:\\Users\\LAB5-StudentPC12\\AppData\\Local\\Temp\\ipykernel_12612\\3018007904.py:1: FutureWarning: The default of observed=False is deprecated and will be changed to True in a future version of pandas. Pass observed=False to retain current behavior or observed=True to adopt the future default and silence this warning.\n",
      "  road = accident.groupby(['Urban_or_Rural_Area', 'Accident_Severity']).size().unstack()\n"
     ]
    },
    {
     "data": {
      "image/png": "[encoded data removed]",
      "text/plain": [
       "<Figure size 640x480 with 2 Axes>"
      ]
     },
     "metadata": {},
     "output_type": "display_data"
    }
   ],
   "source": [
    "road = accident.groupby(['Urban_or_Rural_Area', 'Accident_Severity']).size().unstack()\n",
    "\n",
    "\n",
    "\n",
    "sns.heatmap(road, cmap=\"pink\")\n",
    "plt.show()"
   ]
  },
  {
   "cell_type": "code",
   "execution_count": 114,
   "id": "dc3d7fab-b331-4442-9c10-ce13aff8139e",
   "metadata": {},
   "outputs": [
    {
     "data": {
      "text/plain": [
       "Index(['Index', 'Accident_Severity', 'Accident Date', 'Latitude',\n",
       "       'Light_Conditions', 'District Area', 'Longitude',\n",
       "       'Number_of_Casualties', 'Number_of_Vehicles', 'Road_Surface_Conditions',\n",
       "       'Road_Type', 'Urban_or_Rural_Area', 'Weather_Conditions',\n",
       "       'Vehicle_Type', 'year', 'Month', 'Day', 'DayOfWeek'],\n",
       "      dtype='object')"
      ]
     },
     "execution_count": 114,
     "metadata": {},
     "output_type": "execute_result"
    }
   ],
   "source": [
    "accident.columns\n"
   ]
  }
 ],
 "metadata": {
  "kernelspec": {
   "display_name": "Python 3 (ipykernel)",
   "language": "python",
   "name": "python3"
  },
  "language_info": {
   "codemirror_mode": {
    "name": "ipython",
    "version": 3
   },
   "file_extension": ".py",
   "mimetype": "text/x-python",
   "name": "python",
   "nbconvert_exporter": "python",
   "pygments_lexer": "ipython3",
   "version": "3.13.2"
  }
 },
 "nbformat": 4,
 "nbformat_minor": 5
}

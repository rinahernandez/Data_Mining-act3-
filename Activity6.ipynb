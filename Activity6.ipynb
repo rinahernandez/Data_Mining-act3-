{
 "cells": [
  {
   "cell_type": "code",
   "execution_count": 1,
   "id": "e303585e-0891-4f88-ba56-1ed83b27ce01",
   "metadata": {},
   "outputs": [],
   "source": [
    "import numpy as np\n",
    "import seaborn as sns\n",
    "import pandas as pd\n",
    "import matplotlib.pyplot as plt\n",
    "from scipy.stats import f_oneway\n",
    "import warnings"
   ]
  },
  {
   "cell_type": "code",
   "execution_count": 2,
   "id": "1670dcee-5664-416a-8edc-12a654760ca3",
   "metadata": {},
   "outputs": [],
   "source": [
    "dengue = pd.read_csv('dengue.csv')"
   ]
  },
  {
   "cell_type": "code",
   "execution_count": 3,
   "id": "17eed068-f994-4bcc-991c-b15720f09ba0",
   "metadata": {},
   "outputs": [
    {
     "data": {
      "text/html": [
       "<div>\n",
       "<style scoped>\n",
       "    .dataframe tbody tr th:only-of-type {\n",
       "        vertical-align: middle;\n",
       "    }\n",
       "\n",
       "    .dataframe tbody tr th {\n",
       "        vertical-align: top;\n",
       "    }\n",
       "\n",
       "    .dataframe thead th {\n",
       "        text-align: right;\n",
       "    }\n",
       "</style>\n",
       "<table border=\"1\" class=\"dataframe\">\n",
       "  <thead>\n",
       "    <tr style=\"text-align: right;\">\n",
       "      <th></th>\n",
       "      <th>Month</th>\n",
       "      <th>Year</th>\n",
       "      <th>Region</th>\n",
       "      <th>Dengue_Cases</th>\n",
       "      <th>Dengue_Deaths</th>\n",
       "    </tr>\n",
       "  </thead>\n",
       "  <tbody>\n",
       "    <tr>\n",
       "      <th>0</th>\n",
       "      <td>January</td>\n",
       "      <td>2016</td>\n",
       "      <td>Region I</td>\n",
       "      <td>705</td>\n",
       "      <td>1</td>\n",
       "    </tr>\n",
       "    <tr>\n",
       "      <th>1</th>\n",
       "      <td>February</td>\n",
       "      <td>2016</td>\n",
       "      <td>Region I</td>\n",
       "      <td>374</td>\n",
       "      <td>0</td>\n",
       "    </tr>\n",
       "    <tr>\n",
       "      <th>2</th>\n",
       "      <td>March</td>\n",
       "      <td>2016</td>\n",
       "      <td>Region I</td>\n",
       "      <td>276</td>\n",
       "      <td>0</td>\n",
       "    </tr>\n",
       "    <tr>\n",
       "      <th>3</th>\n",
       "      <td>April</td>\n",
       "      <td>2016</td>\n",
       "      <td>Region I</td>\n",
       "      <td>240</td>\n",
       "      <td>2</td>\n",
       "    </tr>\n",
       "    <tr>\n",
       "      <th>4</th>\n",
       "      <td>May</td>\n",
       "      <td>2016</td>\n",
       "      <td>Region I</td>\n",
       "      <td>243</td>\n",
       "      <td>1</td>\n",
       "    </tr>\n",
       "    <tr>\n",
       "      <th>...</th>\n",
       "      <td>...</td>\n",
       "      <td>...</td>\n",
       "      <td>...</td>\n",
       "      <td>...</td>\n",
       "      <td>...</td>\n",
       "    </tr>\n",
       "    <tr>\n",
       "      <th>1015</th>\n",
       "      <td>August</td>\n",
       "      <td>2020</td>\n",
       "      <td>BARMM</td>\n",
       "      <td>91</td>\n",
       "      <td>0</td>\n",
       "    </tr>\n",
       "    <tr>\n",
       "      <th>1016</th>\n",
       "      <td>September</td>\n",
       "      <td>2020</td>\n",
       "      <td>BARMM</td>\n",
       "      <td>16</td>\n",
       "      <td>8</td>\n",
       "    </tr>\n",
       "    <tr>\n",
       "      <th>1017</th>\n",
       "      <td>October</td>\n",
       "      <td>2020</td>\n",
       "      <td>BARMM</td>\n",
       "      <td>13</td>\n",
       "      <td>9</td>\n",
       "    </tr>\n",
       "    <tr>\n",
       "      <th>1018</th>\n",
       "      <td>November</td>\n",
       "      <td>2020</td>\n",
       "      <td>BARMM</td>\n",
       "      <td>15</td>\n",
       "      <td>1</td>\n",
       "    </tr>\n",
       "    <tr>\n",
       "      <th>1019</th>\n",
       "      <td>December</td>\n",
       "      <td>2020</td>\n",
       "      <td>BARMM</td>\n",
       "      <td>23</td>\n",
       "      <td>0</td>\n",
       "    </tr>\n",
       "  </tbody>\n",
       "</table>\n",
       "<p>1020 rows × 5 columns</p>\n",
       "</div>"
      ],
      "text/plain": [
       "          Month  Year    Region  Dengue_Cases  Dengue_Deaths\n",
       "0       January  2016  Region I           705              1\n",
       "1      February  2016  Region I           374              0\n",
       "2         March  2016  Region I           276              0\n",
       "3         April  2016  Region I           240              2\n",
       "4           May  2016  Region I           243              1\n",
       "...         ...   ...       ...           ...            ...\n",
       "1015     August  2020     BARMM            91              0\n",
       "1016  September  2020     BARMM            16              8\n",
       "1017    October  2020     BARMM            13              9\n",
       "1018   November  2020     BARMM            15              1\n",
       "1019   December  2020     BARMM            23              0\n",
       "\n",
       "[1020 rows x 5 columns]"
      ]
     },
     "execution_count": 3,
     "metadata": {},
     "output_type": "execute_result"
    }
   ],
   "source": [
    "dengue"
   ]
  },
  {
   "cell_type": "code",
   "execution_count": 4,
   "id": "ad86d918-0861-477b-8ff7-720c7d6a297c",
   "metadata": {},
   "outputs": [
    {
     "name": "stdout",
     "output_type": "stream",
     "text": [
      "<class 'pandas.core.frame.DataFrame'>\n",
      "RangeIndex: 1020 entries, 0 to 1019\n",
      "Data columns (total 5 columns):\n",
      " #   Column         Non-Null Count  Dtype \n",
      "---  ------         --------------  ----- \n",
      " 0   Month          1020 non-null   object\n",
      " 1   Year           1020 non-null   int64 \n",
      " 2   Region         1020 non-null   object\n",
      " 3   Dengue_Cases   1020 non-null   int64 \n",
      " 4   Dengue_Deaths  1020 non-null   int64 \n",
      "dtypes: int64(3), object(2)\n",
      "memory usage: 40.0+ KB\n"
     ]
    }
   ],
   "source": [
    "dengue.info()"
   ]
  },
  {
   "cell_type": "code",
   "execution_count": 5,
   "id": "dfe0c6f7-f22b-4bc4-9984-0166e44cc735",
   "metadata": {},
   "outputs": [
    {
     "data": {
      "text/plain": [
       "Month            object\n",
       "Year              int64\n",
       "Region           object\n",
       "Dengue_Cases      int64\n",
       "Dengue_Deaths     int64\n",
       "dtype: object"
      ]
     },
     "execution_count": 5,
     "metadata": {},
     "output_type": "execute_result"
    }
   ],
   "source": [
    "dengue.dtypes"
   ]
  },
  {
   "cell_type": "code",
   "execution_count": 6,
   "id": "d55a3f34-9b89-4946-a183-883a4df130ea",
   "metadata": {},
   "outputs": [
    {
     "data": {
      "text/plain": [
       "Month            0\n",
       "Year             0\n",
       "Region           0\n",
       "Dengue_Cases     0\n",
       "Dengue_Deaths    0\n",
       "dtype: int64"
      ]
     },
     "execution_count": 6,
     "metadata": {},
     "output_type": "execute_result"
    }
   ],
   "source": [
    "dengue.isnull().sum()"
   ]
  },
  {
   "cell_type": "code",
   "execution_count": 7,
   "id": "62f3e3bb-cdf1-46eb-9ce0-26eaabdf8aad",
   "metadata": {},
   "outputs": [],
   "source": [
    "dengue['Month'] = dengue['Month'].astype('category')\n",
    "dengue['Region '] = dengue['Region'].astype('category')"
   ]
  },
  {
   "cell_type": "code",
   "execution_count": 8,
   "id": "b174c114-9f22-449f-934a-ddde588401f7",
   "metadata": {},
   "outputs": [
    {
     "data": {
      "text/plain": [
       "Month            category\n",
       "Year                int64\n",
       "Region             object\n",
       "Dengue_Cases        int64\n",
       "Dengue_Deaths       int64\n",
       "Region           category\n",
       "dtype: object"
      ]
     },
     "execution_count": 8,
     "metadata": {},
     "output_type": "execute_result"
    }
   ],
   "source": [
    "dengue.dtypes"
   ]
  },
  {
   "cell_type": "markdown",
   "id": "28d6d031-d3af-440a-b231-4c22f6f5a9bb",
   "metadata": {},
   "source": [
    "<h1>How many are the total cases of dengue across all the regions?  </h1>"
   ]
  },
  {
   "cell_type": "code",
   "execution_count": 9,
   "id": "11e6d95f-32c8-4f19-9f33-87eb8908f3b1",
   "metadata": {},
   "outputs": [],
   "source": [
    "totalCases = dengue['Dengue_Cases'].sum()"
   ]
  },
  {
   "cell_type": "code",
   "execution_count": 10,
   "id": "44c281e4-fe0d-4699-a6a8-9fdccc35b8bb",
   "metadata": {},
   "outputs": [
    {
     "data": {
      "text/plain": [
       "np.int64(1147425)"
      ]
     },
     "execution_count": 10,
     "metadata": {},
     "output_type": "execute_result"
    }
   ],
   "source": [
    "totalCases"
   ]
  },
  {
   "cell_type": "markdown",
   "id": "3f96b5c6-832e-4d51-925f-de7395e12fd6",
   "metadata": {},
   "source": [
    "<h2>Insight1: The total cases of dengue across all regions are 1,147,425. </h2>"
   ]
  },
  {
   "cell_type": "markdown",
   "id": "fae57787-051e-49e8-978e-d88cd2c9f95f",
   "metadata": {},
   "source": [
    "<h1>How many are the total dengue deaths across all the regions? </h1>"
   ]
  },
  {
   "cell_type": "code",
   "execution_count": 11,
   "id": "438e6ef0-7c2c-4bc9-abd5-539c76d63b60",
   "metadata": {},
   "outputs": [
    {
     "data": {
      "text/plain": [
       "np.int64(16844)"
      ]
     },
     "execution_count": 11,
     "metadata": {},
     "output_type": "execute_result"
    }
   ],
   "source": [
    "totalDeaths = dengue['Dengue_Deaths'].sum()\n",
    "totalDeaths"
   ]
  },
  {
   "cell_type": "markdown",
   "id": "13032b0a-8e16-4aa6-84e8-a5a143195cc0",
   "metadata": {},
   "source": [
    "<h2>Insight2: The total dengue deaths across all regions are 16, 844. </h2>"
   ]
  },
  {
   "cell_type": "markdown",
   "id": "1ce87921-4752-456f-bccb-7aa9d27b6858",
   "metadata": {},
   "source": [
    "<h1>Total Percentage Dengue Cases per year</h1>"
   ]
  },
  {
   "cell_type": "code",
   "execution_count": 12,
   "id": "6adca30b-8be5-4fc5-882d-37771802c623",
   "metadata": {},
   "outputs": [
    {
     "data": {
      "text/plain": [
       "np.int64(1147425)"
      ]
     },
     "execution_count": 12,
     "metadata": {},
     "output_type": "execute_result"
    }
   ],
   "source": [
    "dengue['Dengue_Cases'].sum()"
   ]
  },
  {
   "cell_type": "code",
   "execution_count": 13,
   "id": "42d8d2f0-9d13-4f44-a2d8-8cbffc62cb86",
   "metadata": {},
   "outputs": [
    {
     "data": {
      "text/html": [
       "<div>\n",
       "<style scoped>\n",
       "    .dataframe tbody tr th:only-of-type {\n",
       "        vertical-align: middle;\n",
       "    }\n",
       "\n",
       "    .dataframe tbody tr th {\n",
       "        vertical-align: top;\n",
       "    }\n",
       "\n",
       "    .dataframe thead th {\n",
       "        text-align: right;\n",
       "    }\n",
       "</style>\n",
       "<table border=\"1\" class=\"dataframe\">\n",
       "  <thead>\n",
       "    <tr style=\"text-align: right;\">\n",
       "      <th></th>\n",
       "      <th>Year</th>\n",
       "      <th>Dengue_Cases</th>\n",
       "    </tr>\n",
       "  </thead>\n",
       "  <tbody>\n",
       "    <tr>\n",
       "      <th>0</th>\n",
       "      <td>2016</td>\n",
       "      <td>209544</td>\n",
       "    </tr>\n",
       "    <tr>\n",
       "      <th>1</th>\n",
       "      <td>2017</td>\n",
       "      <td>154155</td>\n",
       "    </tr>\n",
       "    <tr>\n",
       "      <th>2</th>\n",
       "      <td>2018</td>\n",
       "      <td>250783</td>\n",
       "    </tr>\n",
       "    <tr>\n",
       "      <th>3</th>\n",
       "      <td>2019</td>\n",
       "      <td>441902</td>\n",
       "    </tr>\n",
       "    <tr>\n",
       "      <th>4</th>\n",
       "      <td>2020</td>\n",
       "      <td>91041</td>\n",
       "    </tr>\n",
       "  </tbody>\n",
       "</table>\n",
       "</div>"
      ],
      "text/plain": [
       "   Year  Dengue_Cases\n",
       "0  2016        209544\n",
       "1  2017        154155\n",
       "2  2018        250783\n",
       "3  2019        441902\n",
       "4  2020         91041"
      ]
     },
     "execution_count": 13,
     "metadata": {},
     "output_type": "execute_result"
    }
   ],
   "source": [
    "YearCases = dengue.groupby('Year')['Dengue_Cases'].sum().reset_index()\n",
    "YearCases"
   ]
  },
  {
   "cell_type": "markdown",
   "id": "7136bcc4-d89f-4ea3-800f-9493f5029ba8",
   "metadata": {},
   "source": [
    "<h2>Insights 3-7: Percentage Cases in Dengue</h2>\n",
    "<ul>\n",
    "    <li>In 2016: 18.26% total percentage Cases </li>\n",
    "    <li>In 2017: 13.43% total percentage Cases </li>\n",
    "    <li>In 2018: 21.86% total percentage Cases </li>\n",
    "    <li>In 2019: 38.51% total percentage Cases </li>\n",
    "    <li>In 2020:  7.93% total percentage Cases </li>\n",
    "    \n",
    "</ul>"
   ]
  },
  {
   "cell_type": "code",
   "execution_count": 14,
   "id": "6a15b21e-478a-44ec-b003-194b4c90ef5e",
   "metadata": {},
   "outputs": [
    {
     "data": {
      "image/png": "[encoded data removed]",
      "text/plain": [
       "<Figure size 640x480 with 1 Axes>"
      ]
     },
     "metadata": {},
     "output_type": "display_data"
    }
   ],
   "source": [
    "yearly_cases = dengue.groupby('Year')['Dengue_Cases'].sum()\n",
    "\n",
    "percentages = (yearly_cases / yearly_cases.sum()) * 100\n",
    "plt.pie(percentages, labels=yearly_cases.index.astype(str), autopct='%1.2f%%', startangle=90)\n",
    "plt.title(\"Total Percentage of Dengue Cases by Year\")\n",
    "plt.show()"
   ]
  },
  {
   "cell_type": "markdown",
   "id": "945fbec1-d2df-40fd-b0af-7d0e760c04e8",
   "metadata": {},
   "source": [
    "<h1>Total Percentage Dengue Deaths per year</h1>"
   ]
  },
  {
   "cell_type": "code",
   "execution_count": 15,
   "id": "ad88b39e-8aa2-4a81-8993-4def192f882e",
   "metadata": {},
   "outputs": [
    {
     "data": {
      "text/plain": [
       "np.int64(16844)"
      ]
     },
     "execution_count": 15,
     "metadata": {},
     "output_type": "execute_result"
    }
   ],
   "source": [
    "dengue['Dengue_Deaths'].sum()"
   ]
  },
  {
   "cell_type": "code",
   "execution_count": 16,
   "id": "a94ce09a-f6fc-415c-900a-8367004a0d6f",
   "metadata": {},
   "outputs": [],
   "source": [
    "yr16 = dengue[dengue['Year'] == 2016]\n",
    "yr17 = dengue[dengue['Year'] == 2017]\n",
    "yr18 = dengue[dengue['Year'] == 2018]\n",
    "yr19 = dengue[dengue['Year'] == 2019]\n",
    "yr20 = dengue[dengue['Year'] == 2020]"
   ]
  },
  {
   "cell_type": "code",
   "execution_count": 17,
   "id": "2208916a-fa7b-4fe1-a758-fad733fae806",
   "metadata": {},
   "outputs": [
    {
     "data": {
      "text/html": [
       "<div>\n",
       "<style scoped>\n",
       "    .dataframe tbody tr th:only-of-type {\n",
       "        vertical-align: middle;\n",
       "    }\n",
       "\n",
       "    .dataframe tbody tr th {\n",
       "        vertical-align: top;\n",
       "    }\n",
       "\n",
       "    .dataframe thead th {\n",
       "        text-align: right;\n",
       "    }\n",
       "</style>\n",
       "<table border=\"1\" class=\"dataframe\">\n",
       "  <thead>\n",
       "    <tr style=\"text-align: right;\">\n",
       "      <th></th>\n",
       "      <th>Year</th>\n",
       "      <th>Dengue_Deaths</th>\n",
       "    </tr>\n",
       "  </thead>\n",
       "  <tbody>\n",
       "    <tr>\n",
       "      <th>0</th>\n",
       "      <td>2016</td>\n",
       "      <td>8127</td>\n",
       "    </tr>\n",
       "    <tr>\n",
       "      <th>1</th>\n",
       "      <td>2017</td>\n",
       "      <td>4563</td>\n",
       "    </tr>\n",
       "    <tr>\n",
       "      <th>2</th>\n",
       "      <td>2018</td>\n",
       "      <td>1226</td>\n",
       "    </tr>\n",
       "    <tr>\n",
       "      <th>3</th>\n",
       "      <td>2019</td>\n",
       "      <td>1733</td>\n",
       "    </tr>\n",
       "    <tr>\n",
       "      <th>4</th>\n",
       "      <td>2020</td>\n",
       "      <td>1195</td>\n",
       "    </tr>\n",
       "  </tbody>\n",
       "</table>\n",
       "</div>"
      ],
      "text/plain": [
       "   Year  Dengue_Deaths\n",
       "0  2016           8127\n",
       "1  2017           4563\n",
       "2  2018           1226\n",
       "3  2019           1733\n",
       "4  2020           1195"
      ]
     },
     "execution_count": 17,
     "metadata": {},
     "output_type": "execute_result"
    }
   ],
   "source": [
    "YearDeath = dengue.groupby('Year')['Dengue_Deaths'].sum().reset_index()\n",
    "YearDeath\n"
   ]
  },
  {
   "cell_type": "markdown",
   "id": "e018362a-845f-4855-a1bc-84f6f199addf",
   "metadata": {},
   "source": [
    "<h2>Insights 8-12: Percentage Deaths in Dengue</h2>\n",
    "<ul>\n",
    "    <li>In 2016: 48.25% total percentage of Deaths </li>\n",
    "    <li>In 2017: 27.09% total percentage of Deaths </li>\n",
    "    <li>In 2018:  7.28% total percentage of Deaths </li>\n",
    "    <li>In 2019: 10.29% total percentage of Deaths </li>\n",
    "    <li>In 2020:  7.09% total percentage of Deaths </li>\n",
    "    \n",
    "</ul>\n"
   ]
  },
  {
   "cell_type": "code",
   "execution_count": 18,
   "id": "c3218e57-9ae2-4d86-8e01-a46c89c1be6d",
   "metadata": {},
   "outputs": [
    {
     "data": {
      "image/png": "[encoded data removed]",
      "text/plain": [
       "<Figure size 640x480 with 1 Axes>"
      ]
     },
     "metadata": {},
     "output_type": "display_data"
    }
   ],
   "source": [
    "yearly_death = dengue.groupby('Year')['Dengue_Deaths'].sum()\n",
    "\n",
    "percentages = (yearly_death / yearly_cases.sum()) * 100\n",
    "plt.pie(percentages, labels=yearly_cases.index.astype(str), autopct='%1.2f%%', startangle=90)\n",
    "plt.title(\"Total Percentage of Dengue Deaths by Year\")\n",
    "plt.show()"
   ]
  },
  {
   "cell_type": "markdown",
   "id": "3a8ad0f2-9327-4d75-893f-8013d017be1b",
   "metadata": {},
   "source": [
    "<h1>Which year has the highest number of dengue cases?</h1>"
   ]
  },
  {
   "cell_type": "code",
   "execution_count": 19,
   "id": "d8ca9cee-603f-49e4-a864-8b2728f5351c",
   "metadata": {},
   "outputs": [
    {
     "data": {
      "text/plain": [
       "np.int64(2019)"
      ]
     },
     "execution_count": 19,
     "metadata": {},
     "output_type": "execute_result"
    }
   ],
   "source": [
    "YearlyCases = dengue.groupby('Year')['Dengue_Cases'].sum()\n",
    "YearlyCases.idxmax()"
   ]
  },
  {
   "cell_type": "code",
   "execution_count": 20,
   "id": "cd51952b-d0d4-4dc6-a01c-b90458e6f46c",
   "metadata": {},
   "outputs": [
    {
     "data": {
      "text/plain": [
       "np.int64(441902)"
      ]
     },
     "execution_count": 20,
     "metadata": {},
     "output_type": "execute_result"
    }
   ],
   "source": [
    "YearlyCases.max()"
   ]
  },
  {
   "cell_type": "code",
   "execution_count": 30,
   "id": "8105ee12-d914-4a1a-9a34-9688074b09cc",
   "metadata": {},
   "outputs": [
    {
     "data": {
      "image/png": "[encoded data removed]",
      "text/plain": [
       "<Figure size 640x480 with 1 Axes>"
      ]
     },
     "metadata": {},
     "output_type": "display_data"
    }
   ],
   "source": [
    "YearlyCases = dengue.groupby('Year')['Dengue_Cases'].sum()\n",
    "yrMaxCases = YearlyCases.idxmax()\n",
    "\n",
    "plt.bar( YearlyCases.index, YearlyCases.values, color='pink')\n",
    "plt.title(\"Yearly Dengue Cases\")\n",
    "plt.xlabel(\"Year\")\n",
    "plt.ylabel(\"Total Cases\")\n",
    "plt.show()"
   ]
  },
  {
   "cell_type": "markdown",
   "id": "25987bdf-ae3a-43b5-b87a-421e4ecf749c",
   "metadata": {},
   "source": [
    "<h2>Insights 13:The year that has the highest number of dengue cases is 2019. </h2>\n",
    "<h2> Insight 14: The total number of cases in 2019 is 441,902 </h2>\n"
   ]
  },
  {
   "cell_type": "markdown",
   "id": "05a6880d-cfc2-4405-9c7d-75026575500f",
   "metadata": {},
   "source": [
    "<h1> What month has the most affected Dengue Cases? </h1>"
   ]
  },
  {
   "cell_type": "code",
   "execution_count": 21,
   "id": "76eb4e3c-e347-4d75-837d-e1da3b675ee9",
   "metadata": {},
   "outputs": [
    {
     "name": "stderr",
     "output_type": "stream",
     "text": [
      "C:\\Users\\Light Micro Finance\\AppData\\Local\\Temp\\ipykernel_5172\\115776864.py:1: FutureWarning: The default of observed=False is deprecated and will be changed to True in a future version of pandas. Pass observed=False to retain current behavior or observed=True to adopt the future default and silence this warning.\n",
      "  month = dengue.groupby('Month')['Dengue_Cases'].sum()\n"
     ]
    },
    {
     "data": {
      "text/plain": [
       "'August'"
      ]
     },
     "execution_count": 21,
     "metadata": {},
     "output_type": "execute_result"
    }
   ],
   "source": [
    "month = dengue.groupby('Month')['Dengue_Cases'].sum()\n",
    "month.idxmax()"
   ]
  },
  {
   "cell_type": "code",
   "execution_count": 22,
   "id": "ffdadd87-92ea-4928-9825-f43a04d4b2aa",
   "metadata": {},
   "outputs": [
    {
     "data": {
      "text/plain": [
       "np.int64(187554)"
      ]
     },
     "execution_count": 22,
     "metadata": {},
     "output_type": "execute_result"
    }
   ],
   "source": [
    "month.max()"
   ]
  },
  {
   "cell_type": "code",
   "execution_count": 42,
   "id": "db06d245-458c-4bcb-a174-e506beeb8356",
   "metadata": {},
   "outputs": [
    {
     "name": "stderr",
     "output_type": "stream",
     "text": [
      "C:\\Users\\Light Micro Finance\\AppData\\Local\\Temp\\ipykernel_5172\\1280895481.py:4: FutureWarning: The default of observed=False is deprecated and will be changed to True in a future version of pandas. Pass observed=False to retain current behavior or observed=True to adopt the future default and silence this warning.\n",
      "  month = dengue.groupby('Month')['Dengue_Cases'].sum().reindex(month_order)\n"
     ]
    },
    {
     "data": {
      "image/png": "[encoded data removed]",
      "text/plain": [
       "<Figure size 640x480 with 1 Axes>"
      ]
     },
     "metadata": {},
     "output_type": "display_data"
    }
   ],
   "source": [
    "month_order = ['January', 'February', 'March', 'April', 'May', 'June', \n",
    "               'July', 'August', 'September', 'October', 'November', 'December']\n",
    "\n",
    "month = dengue.groupby('Month')['Dengue_Cases'].sum().reindex(month_order)\n",
    "most_affected = month.idxmax()\n",
    "\n",
    "plt.bar(month.index, month.values, color='pink')\n",
    "plt.title(\"Monthly Dengue Cases\")\n",
    "plt.xlabel(\"Month\")\n",
    "plt.ylabel(\"Total Cases\")\n",
    "plt.xticks(rotation=45)  \n",
    "plt.show()"
   ]
  },
  {
   "cell_type": "markdown",
   "id": "b395605c-8acf-46f2-bcfb-7d1dbefc8f5a",
   "metadata": {},
   "source": [
    "<h2>Insight 15: The Month that has the highest number of dengue cases is August.</h2>\n",
    "\n",
    "\n",
    "   <h2>Insight 16: Total of 187,554 Cases in August </h2>\n"
   ]
  },
  {
   "cell_type": "markdown",
   "id": "124f4a28-9413-4f7c-8ef8-b76de045cfac",
   "metadata": {},
   "source": [
    "<h1>Which 5 regions is the most affected by dengue?</h1>"
   ]
  },
  {
   "cell_type": "code",
   "execution_count": 23,
   "id": "6ad29866-e95c-4849-8d8a-4d8aeaff748e",
   "metadata": {},
   "outputs": [
    {
     "data": {
      "text/html": [
       "<div>\n",
       "<style scoped>\n",
       "    .dataframe tbody tr th:only-of-type {\n",
       "        vertical-align: middle;\n",
       "    }\n",
       "\n",
       "    .dataframe tbody tr th {\n",
       "        vertical-align: top;\n",
       "    }\n",
       "\n",
       "    .dataframe thead th {\n",
       "        text-align: right;\n",
       "    }\n",
       "</style>\n",
       "<table border=\"1\" class=\"dataframe\">\n",
       "  <thead>\n",
       "    <tr style=\"text-align: right;\">\n",
       "      <th></th>\n",
       "      <th>Region</th>\n",
       "      <th>Dengue_Cases</th>\n",
       "    </tr>\n",
       "  </thead>\n",
       "  <tbody>\n",
       "    <tr>\n",
       "      <th>6</th>\n",
       "      <td>Region IV-A</td>\n",
       "      <td>163029</td>\n",
       "    </tr>\n",
       "    <tr>\n",
       "      <th>5</th>\n",
       "      <td>Region III</td>\n",
       "      <td>131064</td>\n",
       "    </tr>\n",
       "    <tr>\n",
       "      <th>10</th>\n",
       "      <td>Region VI</td>\n",
       "      <td>117523</td>\n",
       "    </tr>\n",
       "    <tr>\n",
       "      <th>2</th>\n",
       "      <td>NCR</td>\n",
       "      <td>115966</td>\n",
       "    </tr>\n",
       "    <tr>\n",
       "      <th>11</th>\n",
       "      <td>Region VII</td>\n",
       "      <td>110683</td>\n",
       "    </tr>\n",
       "  </tbody>\n",
       "</table>\n",
       "</div>"
      ],
      "text/plain": [
       "         Region  Dengue_Cases\n",
       "6   Region IV-A        163029\n",
       "5    Region III        131064\n",
       "10    Region VI        117523\n",
       "2           NCR        115966\n",
       "11   Region VII        110683"
      ]
     },
     "execution_count": 23,
     "metadata": {},
     "output_type": "execute_result"
    }
   ],
   "source": [
    "region_cases = dengue.groupby('Region')['Dengue_Cases'].sum().reset_index()\n",
    "\n",
    "\n",
    "Topfive = region_cases.sort_values(by='Dengue_Cases', ascending=False).head(5)\n",
    "Topfive\n"
   ]
  },
  {
   "cell_type": "code",
   "execution_count": 43,
   "id": "bd71367b-5468-4dc8-aa1f-dad92bb6ab8a",
   "metadata": {},
   "outputs": [
    {
     "data": {
      "image/png": "[encoded data removed]",
      "text/plain": [
       "<Figure size 640x480 with 1 Axes>"
      ]
     },
     "metadata": {},
     "output_type": "display_data"
    }
   ],
   "source": [
    "region_cases = dengue.groupby('Region')['Dengue_Cases'].sum().reset_index()\n",
    "Topfive = region_cases.sort_values(by='Dengue_Cases', ascending=False).head(5)\n",
    "\n",
    "plt.bar(Topfive['Region'], Topfive['Dengue_Cases'], color='skyblue')\n",
    "plt.title(\"Top 5 Regions with Highest Dengue Cases\")\n",
    "plt.xlabel(\"Region\")\n",
    "plt.ylabel(\"Total Cases\")\n",
    "plt.xticks(rotation=45)  \n",
    "plt.show()"
   ]
  },
  {
   "cell_type": "markdown",
   "id": "4c420b95-3522-463b-bee3-7237c6ae92f2",
   "metadata": {},
   "source": [
    "<h2>Insight 17: The top five Regions are:\n",
    "    <ul>\n",
    "       <li>Region IV-A</li> \t\n",
    "       <li>Region III\t</li> \n",
    "       <li>Region VI</li> \n",
    "       <li>NCR</li> \n",
    "       <li>Region VII</li> \n",
    "    </ul>\n",
    "</h2>"
   ]
  },
  {
   "cell_type": "code",
   "execution_count": 24,
   "id": "9a9dae1d-e6af-4734-83fe-d04f9a345c14",
   "metadata": {},
   "outputs": [
    {
     "data": {
      "text/plain": [
       "Month      Year  Region       Dengue_Cases  Dengue_Deaths  Region     \n",
       "September  2020  Region XIII  28            31             Region XIII    1\n",
       "April      2016  BARMM        109           4              BARMM          1\n",
       "                 CAR          226           1              CAR            1\n",
       "                 NCR          448           2              NCR            1\n",
       "                 Region I     240           2              Region I       1\n",
       "                                                                         ..\n",
       "                 Region XIII  420           1              Region XIII    1\n",
       "                 Region XII   654           2              Region XII     1\n",
       "                 Region XI    557           4              Region XI      1\n",
       "                 Region X     768           3              Region X       1\n",
       "                 Region VIII  217           0              Region VIII    1\n",
       "Name: count, Length: 1020, dtype: int64"
      ]
     },
     "execution_count": 24,
     "metadata": {},
     "output_type": "execute_result"
    }
   ],
   "source": [
    "dengue.value_counts()\n"
   ]
  },
  {
   "cell_type": "markdown",
   "id": "5540dacd-8e59-45ca-9e90-a82242b273ea",
   "metadata": {},
   "source": [
    "<h1>Correlation Between Dengue Cases and Dengue Deaths</h1>"
   ]
  },
  {
   "cell_type": "code",
   "execution_count": 46,
   "id": "73737842-ae6b-46e1-88dd-5b053e07488d",
   "metadata": {},
   "outputs": [
    {
     "data": {
      "text/plain": [
       "np.float64(0.03832213720419488)"
      ]
     },
     "execution_count": 46,
     "metadata": {},
     "output_type": "execute_result"
    }
   ],
   "source": [
    "dengue1 = dengue['Dengue_Cases'].corr(dengue['Dengue_Deaths'])\n",
    "dengue1"
   ]
  },
  {
   "cell_type": "markdown",
   "id": "5364e9a7-e4a1-4960-815b-375d8f84ad43",
   "metadata": {},
   "source": [
    "<h2>Insight 18: There is a correlation between Dengue cases and Dengue deaths</h2>"
   ]
  },
  {
   "cell_type": "code",
   "execution_count": 47,
   "id": "eaea7d3e-e252-44a9-8458-ad102e14ac61",
   "metadata": {},
   "outputs": [
    {
     "data": {
      "text/plain": [
       "np.float64(1124.9264705882354)"
      ]
     },
     "execution_count": 47,
     "metadata": {},
     "output_type": "execute_result"
    }
   ],
   "source": [
    "dengue['Dengue_Cases'].mean()"
   ]
  },
  {
   "cell_type": "code",
   "execution_count": 48,
   "id": "75c8ee32-0ac5-48b5-abd8-7652a4a88ec9",
   "metadata": {},
   "outputs": [
    {
     "data": {
      "text/plain": [
       "Month            category\n",
       "Year                int64\n",
       "Region             object\n",
       "Dengue_Cases        int64\n",
       "Dengue_Deaths       int64\n",
       "Region           category\n",
       "dtype: object"
      ]
     },
     "execution_count": 48,
     "metadata": {},
     "output_type": "execute_result"
    }
   ],
   "source": [
    "dengue.dtypes"
   ]
  },
  {
   "cell_type": "code",
   "execution_count": 66,
   "id": "b59a153f-8e01-40e4-a961-a0217411f1ed",
   "metadata": {},
   "outputs": [
    {
     "name": "stderr",
     "output_type": "stream",
     "text": [
      "C:\\Users\\Light Micro Finance\\AppData\\Local\\Temp\\ipykernel_5172\\751817731.py:1: FutureWarning: The default of observed=False is deprecated and will be changed to True in a future version of pandas. Pass observed=False to retain current behavior or observed=True to adopt the future default and silence this warning.\n",
      "  zeroCase = dengue.groupby('Month')['Dengue_Cases'].sum()\n"
     ]
    },
    {
     "data": {
      "text/plain": [
       "Month\n",
       "April         32508\n",
       "August       187554\n",
       "December      88431\n",
       "February      77801\n",
       "January       84328\n",
       "July         138242\n",
       "June          58110\n",
       "March         57576\n",
       "May           32387\n",
       "November      94900\n",
       "October      117645\n",
       "September    177943\n",
       "Name: Dengue_Cases, dtype: int64"
      ]
     },
     "execution_count": 66,
     "metadata": {},
     "output_type": "execute_result"
    }
   ],
   "source": [
    "zeroCase = dengue.groupby('Month')['Dengue_Cases'].sum()\n",
    "zeroCase1 = zeroCase[zeroCase == 0].index.tolist()\n",
    "zeroCase"
   ]
  },
  {
   "cell_type": "markdown",
   "id": "579b96f7-ade3-48b1-b9de-7dad1d61c3f1",
   "metadata": {},
   "source": [
    "<h1>insight 19: there is no Zero Case in months, because every months there a cases</h1>"
   ]
  },
  {
   "cell_type": "code",
   "execution_count": 69,
   "id": "7c841910-61aa-44b5-a0b7-65aca5542ed8",
   "metadata": {},
   "outputs": [
    {
     "data": {
      "text/plain": [
       "[]"
      ]
     },
     "execution_count": 69,
     "metadata": {},
     "output_type": "execute_result"
    }
   ],
   "source": [
    "regionCases = dengue.groupby('Region')['Dengue_Cases'].sum()\n",
    "regionsNO = regionCases[regionCases == 0].index.tolist()\n",
    "regionsNO"
   ]
  },
  {
   "cell_type": "markdown",
   "id": "f6dbf0dd-7516-4bee-99d3-5bcae74f4f3a",
   "metadata": {},
   "source": [
    "<h1>Top 5 Regions with High Dengue Deaths</h1>"
   ]
  },
  {
   "cell_type": "code",
   "execution_count": 71,
   "id": "51142b18-e2a4-4acc-a022-2cb1ec0d8fcd",
   "metadata": {},
   "outputs": [
    {
     "data": {
      "text/html": [
       "<div>\n",
       "<style scoped>\n",
       "    .dataframe tbody tr th:only-of-type {\n",
       "        vertical-align: middle;\n",
       "    }\n",
       "\n",
       "    .dataframe tbody tr th {\n",
       "        vertical-align: top;\n",
       "    }\n",
       "\n",
       "    .dataframe thead th {\n",
       "        text-align: right;\n",
       "    }\n",
       "</style>\n",
       "<table border=\"1\" class=\"dataframe\">\n",
       "  <thead>\n",
       "    <tr style=\"text-align: right;\">\n",
       "      <th></th>\n",
       "      <th>Region</th>\n",
       "      <th>Dengue_Deaths</th>\n",
       "    </tr>\n",
       "  </thead>\n",
       "  <tbody>\n",
       "    <tr>\n",
       "      <th>2</th>\n",
       "      <td>NCR</td>\n",
       "      <td>66.800000</td>\n",
       "    </tr>\n",
       "    <tr>\n",
       "      <th>15</th>\n",
       "      <td>Region XII</td>\n",
       "      <td>46.600000</td>\n",
       "    </tr>\n",
       "    <tr>\n",
       "      <th>10</th>\n",
       "      <td>Region VI</td>\n",
       "      <td>30.416667</td>\n",
       "    </tr>\n",
       "    <tr>\n",
       "      <th>11</th>\n",
       "      <td>Region VII</td>\n",
       "      <td>29.333333</td>\n",
       "    </tr>\n",
       "    <tr>\n",
       "      <th>1</th>\n",
       "      <td>CAR</td>\n",
       "      <td>16.800000</td>\n",
       "    </tr>\n",
       "  </tbody>\n",
       "</table>\n",
       "</div>"
      ],
      "text/plain": [
       "        Region  Dengue_Deaths\n",
       "2          NCR      66.800000\n",
       "15  Region XII      46.600000\n",
       "10   Region VI      30.416667\n",
       "11  Region VII      29.333333\n",
       "1          CAR      16.800000"
      ]
     },
     "execution_count": 71,
     "metadata": {},
     "output_type": "execute_result"
    }
   ],
   "source": [
    "region = dengue.groupby('Region')['Dengue_Deaths'].mean().reset_index()\n",
    "high_risk_regions = region.sort_values(by='Dengue_Deaths', ascending=False).head(5)\n",
    "high_risk_regions\n"
   ]
  },
  {
   "cell_type": "code",
   "execution_count": null,
   "id": "1341a3ae-f1bd-4de1-b6f8-995101e53ab3",
   "metadata": {},
   "outputs": [],
   "source": []
  },
  {
   "cell_type": "markdown",
   "id": "fa364667-9d5e-42e3-a7ea-6f04fd824dad",
   "metadata": {},
   "source": [
    "<h2>Insight20: These are the top 5 Regions with high rate of Death cause of Dengue:\n",
    "<ul>\n",
    "    <li>1. NCR</li>\n",
    "    <li>2. Region XII</li>\n",
    "    <li>3. Region VI</li>\n",
    "    <li>4. Region VII</li>\n",
    "    <li>5. CAR\t</li>\n",
    "    \n",
    "</ul>\n",
    "</h2>"
   ]
  }
 ],
 "metadata": {
  "kernelspec": {
   "display_name": "Python 3 (ipykernel)",
   "language": "python",
   "name": "python3"
  },
  "language_info": {
   "codemirror_mode": {
    "name": "ipython",
    "version": 3
   },
   "file_extension": ".py",
   "mimetype": "text/x-python",
   "name": "python",
   "nbconvert_exporter": "python",
   "pygments_lexer": "ipython3",
   "version": "3.12.6"
  }
 },
 "nbformat": 4,
 "nbformat_minor": 5
}
